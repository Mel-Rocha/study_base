{
  "nbformat": 4,
  "nbformat_minor": 0,
  "metadata": {
    "colab": {
      "provenance": [],
      "toc_visible": true
    },
    "kernelspec": {
      "name": "python3",
      "display_name": "Python 3"
    },
    "language_info": {
      "name": "python"
    }
  },
  "cells": [
    {
      "cell_type": "markdown",
      "source": [
        "# Introdução"
      ],
      "metadata": {
        "id": "fns3umrQ6zqU"
      }
    },
    {
      "cell_type": "markdown",
      "source": [
        "## Conceito\n",
        "\n",
        "filter é uma função built-in do Python usada para filtrar elementos de um iterável (lista, tupla, string, etc.) com base em uma função que retorna True ou False.\n",
        "\n",
        "Ele não transforma valores (como o map), apenas mantém ou descarta cada elemento de acordo com a condição definida.\n",
        "\n",
        "O resultado é um iterador (precisa ser convertido em list, tuple, etc. para visualizar diretamente).\n",
        "\n",
        "**Notas importantes:**\n",
        "\n",
        "Quando a função retorna True, o elemento é mantido.\n",
        "\n",
        "Quando retorna False, o elemento é descartado.\n",
        "\n",
        "Se a função for None, o filter remove todos os valores que são considerados falsy (0, '', None, [], False, etc.)."
      ],
      "metadata": {
        "id": "4vXXiLe66-l8"
      }
    },
    {
      "cell_type": "markdown",
      "source": [
        "## Documentação\n",
        "\n",
        "Para acessar a documentação oficial diretamente no terminal python, use:"
      ],
      "metadata": {
        "id": "FB20EFVQ7AUb"
      }
    },
    {
      "cell_type": "code",
      "execution_count": null,
      "metadata": {
        "colab": {
          "base_uri": "https://localhost:8080/"
        },
        "id": "Z6D2ID336wmB",
        "outputId": "2af43fc2-38c8-45de-d782-f4a775f58919"
      },
      "outputs": [
        {
          "output_type": "stream",
          "name": "stdout",
          "text": [
            "Help on class filter in module builtins:\n",
            "\n",
            "class filter(object)\n",
            " |  filter(function or None, iterable) --> filter object\n",
            " |\n",
            " |  Return an iterator yielding those items of iterable for which function(item)\n",
            " |  is true. If function is None, return the items that are true.\n",
            " |\n",
            " |  Methods defined here:\n",
            " |\n",
            " |  __getattribute__(self, name, /)\n",
            " |      Return getattr(self, name).\n",
            " |\n",
            " |  __iter__(self, /)\n",
            " |      Implement iter(self).\n",
            " |\n",
            " |  __next__(self, /)\n",
            " |      Implement next(self).\n",
            " |\n",
            " |  __reduce__(...)\n",
            " |      Return state information for pickling.\n",
            " |\n",
            " |  ----------------------------------------------------------------------\n",
            " |  Static methods defined here:\n",
            " |\n",
            " |  __new__(*args, **kwargs)\n",
            " |      Create and return a new object.  See help(type) for accurate signature.\n",
            "\n"
          ]
        }
      ],
      "source": [
        "help(filter)"
      ]
    },
    {
      "cell_type": "markdown",
      "source": [
        "## Assinatura da Função\n",
        "\n",
        "\n",
        "\n",
        "```\n",
        "filter(function or None, iterable) --> filter object\n",
        "```\n",
        "\n",
        "`function` →\n",
        "\n",
        "Uma função que recebe um elemento e retorna True ou False.\n",
        "\n",
        "Ou `None` → nesse caso, filter remove os elementos falsy.\n",
        "\n",
        "`iterable` → qualquer objeto iterável (lista, tupla, string, set, gerador etc.).\n",
        "\n",
        "Retorno → um objeto filter (iterador)."
      ],
      "metadata": {
        "id": "dZpQKgkc7EjX"
      }
    },
    {
      "cell_type": "markdown",
      "source": [
        "## Exemplos Básicos"
      ],
      "metadata": {
        "id": "owSZLCVE7IMY"
      }
    },
    {
      "cell_type": "code",
      "source": [
        "# 1. Filtrando números pares\n",
        "nums = [1, 2, 3, 4, 5, 6]\n",
        "pares = filter(lambda x: x % 2 == 0, nums)\n",
        "print(list(pares))  # [2, 4, 6]\n",
        "\n",
        "# 2. Usando None (remove falsy)\n",
        "frases = [\"python\", \"\", \"filter\", \"\", \"map\"]\n",
        "validas = filter(None, frases)\n",
        "print(list(validas))  # ['python', 'filter', 'map']\n",
        "\n",
        "# 3. Usando função definida\n",
        "def maior_que_10(n):\n",
        "    return n > 10\n",
        "\n",
        "valores = [5, 12, 7, 20, 1]\n",
        "resultado = filter(maior_que_10, valores)\n",
        "print(list(resultado))  # [12, 20]"
      ],
      "metadata": {
        "colab": {
          "base_uri": "https://localhost:8080/"
        },
        "id": "51fWYDqQ7MlZ",
        "outputId": "01fa4719-dcec-4084-ae6b-7015513bedf4"
      },
      "execution_count": null,
      "outputs": [
        {
          "output_type": "stream",
          "name": "stdout",
          "text": [
            "[2, 4, 6]\n",
            "['python', 'filter', 'map']\n",
            "[12, 20]\n"
          ]
        }
      ]
    },
    {
      "cell_type": "markdown",
      "source": [
        "# Estrutura de Dados"
      ],
      "metadata": {
        "id": "eJkwTV6YOlqm"
      }
    },
    {
      "cell_type": "markdown",
      "source": [
        "## Listas"
      ],
      "metadata": {
        "id": "79VAfxjDOntE"
      }
    },
    {
      "cell_type": "markdown",
      "source": [
        "Cenário clássico: filtrar elementos com base em condição."
      ],
      "metadata": {
        "id": "lN7Cxbm1OrzU"
      }
    },
    {
      "cell_type": "code",
      "source": [
        "nums = [1, 2, 3, 4, 5, 6]\n",
        "pares = filter(lambda x: x % 2 == 0, nums)\n",
        "print(list(pares))  # [2, 4, 6]"
      ],
      "metadata": {
        "colab": {
          "base_uri": "https://localhost:8080/"
        },
        "id": "MbluUVNDOuUF",
        "outputId": "50ddab29-c4bc-476b-ad40-06ed46b2490d"
      },
      "execution_count": 1,
      "outputs": [
        {
          "output_type": "stream",
          "name": "stdout",
          "text": [
            "[2, 4, 6]\n"
          ]
        }
      ]
    },
    {
      "cell_type": "markdown",
      "source": [
        "## Strings"
      ],
      "metadata": {
        "id": "r6BpblxOPPV-"
      }
    },
    {
      "cell_type": "markdown",
      "source": [
        "Filtrar caracteres de uma string (iterável de chars)."
      ],
      "metadata": {
        "id": "j2sPO5onPRcm"
      }
    },
    {
      "cell_type": "code",
      "source": [
        "texto = \"Python 3.13\"\n",
        "digitos = filter(str.isdigit, texto)\n",
        "print(\"\".join(digitos))  # \"313\""
      ],
      "metadata": {
        "colab": {
          "base_uri": "https://localhost:8080/"
        },
        "id": "ql2VPln7PS5E",
        "outputId": "428b30f6-d950-414d-9949-6964790a69d0"
      },
      "execution_count": 2,
      "outputs": [
        {
          "output_type": "stream",
          "name": "stdout",
          "text": [
            "313\n"
          ]
        }
      ]
    },
    {
      "cell_type": "markdown",
      "source": [
        "## Tuplas"
      ],
      "metadata": {
        "id": "zUovufZzQFg3"
      }
    },
    {
      "cell_type": "markdown",
      "source": [
        "Mesmo princípio que lista, mas o resultado pode ser convertido em tupla."
      ],
      "metadata": {
        "id": "4XS634crQGyh"
      }
    },
    {
      "cell_type": "code",
      "source": [
        "tupla = (10, 0, 20, None, 30, False, 40)\n",
        "valores_validos = filter(None, tupla)\n",
        "print(tuple(valores_validos))  # (10, 20, 30, 40)"
      ],
      "metadata": {
        "colab": {
          "base_uri": "https://localhost:8080/"
        },
        "id": "df_5js7fQHXU",
        "outputId": "0ece178d-d0fc-4ce4-8335-2d4a5ec5ed39"
      },
      "execution_count": 3,
      "outputs": [
        {
          "output_type": "stream",
          "name": "stdout",
          "text": [
            "(10, 20, 30, 40)\n"
          ]
        }
      ]
    },
    {
      "cell_type": "markdown",
      "source": [
        "## sets"
      ],
      "metadata": {
        "id": "Orm06_OBQhQf"
      }
    },
    {
      "cell_type": "markdown",
      "source": [
        "Filtrar elementos únicos, mantendo a natureza do conjunto."
      ],
      "metadata": {
        "id": "ppbYZJe_QncA"
      }
    },
    {
      "cell_type": "code",
      "source": [
        "s = {1, 2, 3, 4, 5}\n",
        "maiores_que_3 = filter(lambda x: x > 3, s)\n",
        "print(set(maiores_que_3))  # {4, 5}"
      ],
      "metadata": {
        "colab": {
          "base_uri": "https://localhost:8080/"
        },
        "id": "PaMKycs6Qn7G",
        "outputId": "f6ea442f-bcf8-4031-cae3-b832b31726e0"
      },
      "execution_count": 4,
      "outputs": [
        {
          "output_type": "stream",
          "name": "stdout",
          "text": [
            "{4, 5}\n"
          ]
        }
      ]
    },
    {
      "cell_type": "markdown",
      "source": [
        "## dict"
      ],
      "metadata": {
        "id": "Z_cEuCEhRgUe"
      }
    },
    {
      "cell_type": "markdown",
      "source": [
        "### Conceito\n",
        "\n",
        "**Iterando sobre dados** → você sempre vai receber chaves de volta (mesmo se o critério usar valores).\n",
        "\n",
        "**Iterando sobre dados.values()** → você recebe só os valores filtrados.\n",
        "\n",
        "**Iterando sobre dados.items() **→ você recebe pares (chave, valor) que passaram no filtro."
      ],
      "metadata": {
        "id": "ZAq9IbiRXHJE"
      }
    },
    {
      "cell_type": "markdown",
      "source": [
        "### keys\n",
        "\n",
        "O filter percorre as chaves por padrão."
      ],
      "metadata": {
        "id": "7HThSa73Ro0o"
      }
    },
    {
      "cell_type": "code",
      "source": [
        "dados = {\"a\": 1, \"b\": 2, \"c\": 3, \"d\": 4}\n",
        "\n",
        "# quero apenas as chaves que começam com vogal\n",
        "vogais = filter(lambda k: k in \"aeiou\", dados)\n",
        "print(list(vogais))  # ['a']"
      ],
      "metadata": {
        "colab": {
          "base_uri": "https://localhost:8080/"
        },
        "id": "5UnTNoKNXrWp",
        "outputId": "d3e1c8cd-7c21-4831-9b9c-dea4c54ec0de"
      },
      "execution_count": 8,
      "outputs": [
        {
          "output_type": "stream",
          "name": "stdout",
          "text": [
            "['a']\n"
          ]
        }
      ]
    },
    {
      "cell_type": "markdown",
      "source": [
        "Acessando valores através das chaves, recebendo como retorno as chaves"
      ],
      "metadata": {
        "id": "0amm2KSDXk_J"
      }
    },
    {
      "cell_type": "code",
      "source": [
        "dados = {\"a\": 1, \"b\": 2, \"c\": 3, \"d\": 4}\n",
        "\n",
        "# filtrar chaves com valor par\n",
        "pares = filter(lambda k: dados[k] % 2 == 0, dados)\n",
        "print(list(pares))  # ['b', 'd']"
      ],
      "metadata": {
        "colab": {
          "base_uri": "https://localhost:8080/"
        },
        "id": "-p6FNRfvRysi",
        "outputId": "e2fcf677-e4e3-49c3-8759-7b9605e90acc"
      },
      "execution_count": 5,
      "outputs": [
        {
          "output_type": "stream",
          "name": "stdout",
          "text": [
            "['b', 'd']\n"
          ]
        }
      ]
    },
    {
      "cell_type": "markdown",
      "source": [
        "### values"
      ],
      "metadata": {
        "id": "gHpHB0xcSYvF"
      }
    },
    {
      "cell_type": "code",
      "source": [
        "dados = {\"a\": 1, \"b\": 2, \"c\": 3, \"d\": 4}\n",
        "\n",
        "# quero apenas valores pares\n",
        "valores_pares = filter(lambda v: v % 2 == 0, dados.values())\n",
        "print(list(valores_pares))  # [2, 4]"
      ],
      "metadata": {
        "colab": {
          "base_uri": "https://localhost:8080/"
        },
        "id": "Ht2h6V3ISk5y",
        "outputId": "84afa8df-40d1-4826-ba78-94334c27840c"
      },
      "execution_count": 6,
      "outputs": [
        {
          "output_type": "stream",
          "name": "stdout",
          "text": [
            "[2, 4]\n"
          ]
        }
      ]
    },
    {
      "cell_type": "markdown",
      "source": [
        "Repare: aqui o retorno são só os valores (não as chaves associadas)."
      ],
      "metadata": {
        "id": "W7bG-WX6SdAm"
      }
    },
    {
      "cell_type": "markdown",
      "source": [
        "### items"
      ],
      "metadata": {
        "id": "0EzTiHZ6Uv9s"
      }
    },
    {
      "cell_type": "markdown",
      "source": [
        "Se você quiser manter chave e valor juntos, use dados.items().\n",
        "Nesse caso, cada elemento que o filter recebe é uma tupla (chave, valor)."
      ],
      "metadata": {
        "id": "uvDLNGyFUxpa"
      }
    },
    {
      "cell_type": "code",
      "source": [
        "dados = {\"a\": 1, \"b\": 2, \"c\": 3, \"d\": 4}\n",
        "\n",
        "# quero apenas pares com valores pares\n",
        "pares = filter(lambda kv: kv[1] % 2 == 0, dados.items())\n",
        "print(list(pares))\n",
        "# [('b', 2), ('d', 4)]\n",
        "\n",
        "# pode transformar de volta em dict:\n",
        "print(dict(filter(lambda kv: kv[1] % 2 == 0, dados.items())))\n",
        "# {'b': 2, 'd': 4}"
      ],
      "metadata": {
        "colab": {
          "base_uri": "https://localhost:8080/"
        },
        "id": "9AR_PsqJUyGy",
        "outputId": "ef2ba9a2-d429-4c35-b8d7-001a91491aec"
      },
      "execution_count": 7,
      "outputs": [
        {
          "output_type": "stream",
          "name": "stdout",
          "text": [
            "[('b', 2), ('d', 4)]\n",
            "{'b': 2, 'd': 4}\n"
          ]
        }
      ]
    },
    {
      "cell_type": "markdown",
      "source": [
        "### Objetos personalizados"
      ],
      "metadata": {
        "id": "WsbM9DEbYgd3"
      }
    },
    {
      "cell_type": "markdown",
      "source": [
        "Necessário implementar `__iter__`."
      ],
      "metadata": {
        "id": "DtuFdIOHYhhS"
      }
    },
    {
      "cell_type": "code",
      "source": [
        "class Car:\n",
        "    def __init__(self, model, year):\n",
        "        self.model = model\n",
        "        self.year = year\n",
        "\n",
        "class Garage:\n",
        "    def __init__(self, cars):\n",
        "        self.cars = cars\n",
        "    def __iter__(self):\n",
        "        return iter(self.cars)\n",
        "\n",
        "cars = [Car(\"Gol\", 2010), Car(\"Civic\", 2020), Car(\"Fusca\", 1980)]\n",
        "garage = Garage(cars)\n",
        "\n",
        "# filtrar apenas carros após 2000\n",
        "recentes = filter(lambda car: car.year > 2000, garage)\n",
        "for car in recentes:\n",
        "    print(car.model)"
      ],
      "metadata": {
        "colab": {
          "base_uri": "https://localhost:8080/"
        },
        "id": "X1tK6bojYqIq",
        "outputId": "cc139fe9-bd5a-45cc-b8dc-e36a633598c4"
      },
      "execution_count": 9,
      "outputs": [
        {
          "output_type": "stream",
          "name": "stdout",
          "text": [
            "Gol\n",
            "Civic\n"
          ]
        }
      ]
    }
  ]
}