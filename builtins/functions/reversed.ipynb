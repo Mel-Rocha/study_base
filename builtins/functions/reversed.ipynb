{
  "nbformat": 4,
  "nbformat_minor": 0,
  "metadata": {
    "colab": {
      "provenance": [],
      "toc_visible": true
    },
    "kernelspec": {
      "name": "python3",
      "display_name": "Python 3"
    },
    "language_info": {
      "name": "python"
    }
  },
  "cells": [
    {
      "cell_type": "markdown",
      "source": [
        "# Introdução"
      ],
      "metadata": {
        "id": "29iWHWYnmray"
      }
    },
    {
      "cell_type": "markdown",
      "source": [
        "## Conceito\n",
        "\n",
        "O `reversed` é uma função built-in do Python que retorna um iterador que percorre a sequência de trás para frente.\n",
        "\n",
        "Ele não modifica o objeto original (ou seja, não é in-place).\n",
        "\n",
        "Diferente de métodos como `.reverse()` em listas, que alteram a lista, `reversed` apenas cria um iterador para visualizar os elementos em ordem reversa."
      ],
      "metadata": {
        "id": "D1jL0oVHmuPM"
      }
    },
    {
      "cell_type": "markdown",
      "source": [
        "## Documentação\n",
        "\n",
        "Para acessar a documentação oficial diretamente no terminal python, use:"
      ],
      "metadata": {
        "id": "02l7AKZ8nB-w"
      }
    },
    {
      "cell_type": "code",
      "execution_count": null,
      "metadata": {
        "colab": {
          "base_uri": "https://localhost:8080/"
        },
        "id": "obxJaPsHmjF8",
        "outputId": "6421cf9c-c374-43fe-a01c-ef9b9e1b53c5"
      },
      "outputs": [
        {
          "output_type": "stream",
          "name": "stdout",
          "text": [
            "Help on class reversed in module builtins:\n",
            "\n",
            "class reversed(object)\n",
            " |  reversed(sequence, /)\n",
            " |\n",
            " |  Return a reverse iterator over the values of the given sequence.\n",
            " |\n",
            " |  Methods defined here:\n",
            " |\n",
            " |  __getattribute__(self, name, /)\n",
            " |      Return getattr(self, name).\n",
            " |\n",
            " |  __iter__(self, /)\n",
            " |      Implement iter(self).\n",
            " |\n",
            " |  __length_hint__(...)\n",
            " |      Private method returning an estimate of len(list(it)).\n",
            " |\n",
            " |  __next__(self, /)\n",
            " |      Implement next(self).\n",
            " |\n",
            " |  __reduce__(...)\n",
            " |      Return state information for pickling.\n",
            " |\n",
            " |  __setstate__(...)\n",
            " |      Set state information for unpickling.\n",
            " |\n",
            " |  ----------------------------------------------------------------------\n",
            " |  Static methods defined here:\n",
            " |\n",
            " |  __new__(*args, **kwargs)\n",
            " |      Create and return a new object.  See help(type) for accurate signature.\n",
            "\n"
          ]
        }
      ],
      "source": [
        "help(reversed)"
      ]
    },
    {
      "cell_type": "markdown",
      "source": [
        "## Assinatura da Função\n",
        "\n",
        "\n",
        "\n",
        "```\n",
        "reversed(sequence, /) --> reverse iterator\n",
        "```\n",
        "\n",
        "`sequence` → é qualquer objeto que suporte acesso por índice (ex: list, tuple, str, range) ou que implemente o método especial __reversed__.\n",
        "Ou seja, não é \"qualquer iterável\", mas sim uma coleção ordenada.\n",
        "\n",
        "`reverse iterator` → é um objeto que produz os elementos da sequência em ordem inversa, um por vez, conforme você itera sobre ele (por exemplo, em um for ou convertendo com list()).\n",
        "Diferente de uma lista invertida, ele não gera todos os elementos de uma vez, apenas fornece sob demanda.\n",
        "\n"
      ],
      "metadata": {
        "id": "wgcY4rHinD8X"
      }
    },
    {
      "cell_type": "markdown",
      "source": [
        "## Exemplos Básicos"
      ],
      "metadata": {
        "id": "jrHLo4YNnX9U"
      }
    },
    {
      "cell_type": "code",
      "source": [
        "# 1. Invertendo uma lista\n",
        "nums = [1, 2, 3, 4]\n",
        "print(list(reversed(nums)))   # [4, 3, 2, 1]\n",
        "\n",
        "# 2. Invertendo uma string\n",
        "text = \"python\"\n",
        "print(\"\".join(reversed(text)))   # 'nohtyp'\n",
        "\n",
        "# 3. Invertendo uma tupla\n",
        "tup = (10, 20, 30)\n",
        "print(tuple(reversed(tup)))      # (30, 20, 10)\n",
        "\n",
        "# 4. Invertendo um range\n",
        "r = range(5)\n",
        "print(list(reversed(r)))         # [4, 3, 2, 1, 0]"
      ],
      "metadata": {
        "colab": {
          "base_uri": "https://localhost:8080/"
        },
        "id": "gm1SRAW2naES",
        "outputId": "5a4712e3-5f06-4845-f889-d0b5a7e66cb0"
      },
      "execution_count": null,
      "outputs": [
        {
          "output_type": "stream",
          "name": "stdout",
          "text": [
            "[4, 3, 2, 1]\n",
            "nohtyp\n",
            "(30, 20, 10)\n",
            "[4, 3, 2, 1, 0]\n"
          ]
        }
      ]
    },
    {
      "cell_type": "markdown",
      "source": [
        "# Estrutura de Dados"
      ],
      "metadata": {
        "id": "0xxeTWGt6p2c"
      }
    },
    {
      "cell_type": "markdown",
      "source": [
        "## Dict"
      ],
      "metadata": {
        "id": "zK9nan1G6tWU"
      }
    },
    {
      "cell_type": "markdown",
      "source": [
        "### Reversed diretamente no dict (chaves)"
      ],
      "metadata": {
        "id": "Fj_QM1dD99FO"
      }
    },
    {
      "cell_type": "code",
      "source": [
        "dados = {\"a\": 1, \"b\": 2, \"c\": 3, \"d\": 4}\n",
        "print(list(reversed(dados)))\n",
        "# Saída: ['d', 'c', 'b', 'a']"
      ],
      "metadata": {
        "colab": {
          "base_uri": "https://localhost:8080/"
        },
        "id": "2WLPJNKx9-aK",
        "outputId": "8122f54a-54ce-47af-dee9-7764bfba14a6"
      },
      "execution_count": null,
      "outputs": [
        {
          "output_type": "stream",
          "name": "stdout",
          "text": [
            "['d', 'c', 'b', 'a']\n"
          ]
        }
      ]
    },
    {
      "cell_type": "markdown",
      "source": [
        "Explicação:\n",
        "Quando aplicamos reversed diretamente sobre um dict, ele retorna as chaves na ordem inversa de inserção. Isso é equivalente a fazer reversed(dados.keys())."
      ],
      "metadata": {
        "id": "aCaswNcT-V4O"
      }
    },
    {
      "cell_type": "markdown",
      "source": [
        "### Reversed nos valores (values())"
      ],
      "metadata": {
        "id": "CelBAALS-cLY"
      }
    },
    {
      "cell_type": "code",
      "source": [
        "dados = {\"a\": 1, \"b\": 2, \"c\": 3, \"d\": 4}\n",
        "print(list(reversed(dados.values())))\n",
        "# Saída: [4, 3, 2, 1]"
      ],
      "metadata": {
        "colab": {
          "base_uri": "https://localhost:8080/"
        },
        "id": "2RSFGl8B-hSt",
        "outputId": "e05374a8-bb45-485a-eefb-7fe63e088edc"
      },
      "execution_count": null,
      "outputs": [
        {
          "output_type": "stream",
          "name": "stdout",
          "text": [
            "[4, 3, 2, 1]\n"
          ]
        }
      ]
    },
    {
      "cell_type": "markdown",
      "source": [
        "Explicação:\n",
        "Aqui o reversed percorre apenas os valores, invertendo a ordem original.\n",
        "Cada valor é retornado, sem alterar o dict original, apenas visualizamos os valores invertidos."
      ],
      "metadata": {
        "id": "Tn0nzSip-rzI"
      }
    },
    {
      "cell_type": "markdown",
      "source": [
        "### Reversed nos pares chave-valor (items())"
      ],
      "metadata": {
        "id": "HSxTWej7-9kZ"
      }
    },
    {
      "cell_type": "code",
      "source": [
        "dados = {\"a\": 1, \"b\": 2, \"c\": 3, \"d\": 4}\n",
        "print(list(reversed(dados.items())))\n",
        "# Saída: [('d', 4), ('c', 3), ('b', 2), ('a', 1)]"
      ],
      "metadata": {
        "colab": {
          "base_uri": "https://localhost:8080/"
        },
        "id": "4fvgAgYV_FSb",
        "outputId": "9d3260a5-184e-4808-d569-790377157a02"
      },
      "execution_count": null,
      "outputs": [
        {
          "output_type": "stream",
          "name": "stdout",
          "text": [
            "[('d', 4), ('c', 3), ('b', 2), ('a', 1)]\n"
          ]
        }
      ]
    },
    {
      "cell_type": "markdown",
      "source": [
        "Explicação:\n",
        "Usar reversed em items() inverte a ordem dos pares chave-valor.\n",
        "O dict não é modificado, mas temos acesso aos pares na ordem inversa de inserção."
      ],
      "metadata": {
        "id": "XVx_873V_Hm1"
      }
    }
  ]
}