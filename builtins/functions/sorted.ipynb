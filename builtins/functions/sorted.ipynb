{
  "nbformat": 4,
  "nbformat_minor": 0,
  "metadata": {
    "colab": {
      "provenance": [],
      "toc_visible": true
    },
    "kernelspec": {
      "name": "python3",
      "display_name": "Python 3"
    },
    "language_info": {
      "name": "python"
    }
  },
  "cells": [
    {
      "cell_type": "markdown",
      "source": [
        "# Introdução"
      ],
      "metadata": {
        "id": "CH42ax1zHAQk"
      }
    },
    {
      "cell_type": "markdown",
      "source": [
        "### Conceito\n",
        "\n",
        "A função sorted é uma função built-in do Python utilizada para retornar uma nova lista contendo todos os elementos de um iterável, ordenados de forma crescente por padrão.\n",
        "Ela não altera o objeto original (ao contrário do método .sort() das listas).\n",
        "\n",
        "É amplamente utilizada em situações em que precisamos ordenar dados sem modificar a fonte original, como:\n",
        "\n",
        "Ordenação de listas numéricas\n",
        "\n",
        "Ordenação de strings (alfabética)\n",
        "\n",
        "Ordenação de tuplas, dicionários e estruturas complexas usando a opção key\n",
        "\n",
        "Ordenações personalizadas com reverse=True"
      ],
      "metadata": {
        "id": "VIyy9OJrIOfy"
      }
    },
    {
      "cell_type": "markdown",
      "source": [],
      "metadata": {
        "id": "pVN0mFHJIipv"
      }
    },
    {
      "cell_type": "markdown",
      "source": [
        "### Documentação\n",
        "\n",
        "Para acessar a documentação oficial diretamente no terminal python, use:"
      ],
      "metadata": {
        "id": "DBnvuCM9Ii8q"
      }
    },
    {
      "cell_type": "code",
      "execution_count": 1,
      "metadata": {
        "colab": {
          "base_uri": "https://localhost:8080/"
        },
        "id": "Ogi1sdRSG9-U",
        "outputId": "86628350-c946-4481-f417-68e7dae9c4f9"
      },
      "outputs": [
        {
          "output_type": "stream",
          "name": "stdout",
          "text": [
            "Help on built-in function sorted in module builtins:\n",
            "\n",
            "sorted(iterable, /, *, key=None, reverse=False)\n",
            "    Return a new list containing all items from the iterable in ascending order.\n",
            "    \n",
            "    A custom key function can be supplied to customize the sort order, and the\n",
            "    reverse flag can be set to request the result in descending order.\n",
            "\n"
          ]
        }
      ],
      "source": [
        "help(sorted)"
      ]
    },
    {
      "cell_type": "markdown",
      "source": [
        "### Assinatura da função\n",
        "\n",
        "```\n",
        "sorted(iterable, /, *, key=None, reverse=False)\n",
        "\n",
        "```\n",
        "\n",
        "iterable: qualquer objeto iterável (listas, strings, tuplas, dicionários, sets, generators).\n",
        "\n",
        "key: função opcional que define um critério de ordenação.\n",
        "\n",
        "reverse: booleano (False por padrão). Se True, ordena em ordem decrescente."
      ],
      "metadata": {
        "id": "_gi14sFcJLUh"
      }
    },
    {
      "cell_type": "markdown",
      "source": [
        "### Exemplos básicos"
      ],
      "metadata": {
        "id": "zbn9OeNRKJMH"
      }
    },
    {
      "cell_type": "code",
      "source": [
        "sorted([3, 1, 2])\n",
        "[1, 2, 3]\n",
        "\n",
        "sorted(\"bernado\")\n",
        "['a', 'b', 'd', 'e', 'n', 'o', 'r']\n",
        "\n",
        "sorted((5, 2, 9))\n",
        "[2, 5, 9]"
      ],
      "metadata": {
        "colab": {
          "base_uri": "https://localhost:8080/"
        },
        "id": "hY_b3GYMKK3r",
        "outputId": "6ea3610d-a6b2-44e3-f273-c567b4dd33f2"
      },
      "execution_count": 2,
      "outputs": [
        {
          "output_type": "execute_result",
          "data": {
            "text/plain": [
              "[2, 5, 9]"
            ]
          },
          "metadata": {},
          "execution_count": 2
        }
      ]
    },
    {
      "cell_type": "markdown",
      "source": [
        "### Diferença entre sorted e .sort()\n",
        "\n",
        "list.sort() → método da lista, modifica a própria lista, retorna None.\n",
        "\n",
        "sorted() → função built-in, retorna uma nova lista ordenada, não modifica o original."
      ],
      "metadata": {
        "id": "wM-My323Khuh"
      }
    },
    {
      "cell_type": "code",
      "source": [
        "nums = [3, 1, 2]\n",
        "\n",
        "print(sorted(nums))  # [1, 2, 3]\n",
        "print(nums)          # [3, 1, 2] (inalterada)\n",
        "\n",
        "nums.sort()\n",
        "print(nums)          # [1, 2, 3] (alterada)"
      ],
      "metadata": {
        "colab": {
          "base_uri": "https://localhost:8080/"
        },
        "id": "EzQB0pOsKm8w",
        "outputId": "45e6e33a-8140-4921-8a35-27dab1924a01"
      },
      "execution_count": 3,
      "outputs": [
        {
          "output_type": "stream",
          "name": "stdout",
          "text": [
            "[1, 2, 3]\n",
            "[3, 1, 2]\n",
            "[1, 2, 3]\n"
          ]
        }
      ]
    },
    {
      "cell_type": "markdown",
      "source": [
        "# Parâmetros de personalização"
      ],
      "metadata": {
        "id": "LUX3RHSENW_I"
      }
    },
    {
      "cell_type": "markdown",
      "source": [
        "## Ordenação invertida com reverse"
      ],
      "metadata": {
        "id": "s1a5-cigNaRo"
      }
    },
    {
      "cell_type": "markdown",
      "source": [
        "### Conceito\n",
        "\n",
        "O parâmetro reverse é um argumento booleano do sorted.\n",
        "\n",
        "Por padrão, reverse=False → ordena em ordem crescente (menor → maior).\n",
        "\n",
        "Se passarmos reverse=True → a ordenação será invertida, ou seja, em ordem decrescente (maior → menor).\n",
        "\n",
        "Importante:\n",
        "\n",
        "O parâmetro reverse não muda a lógica de comparação. Ele apenas inverte o resultado final da ordenação.\n",
        "\n",
        "Funciona em qualquer tipo de dado que seja comparável: números, strings, tuplas, etc."
      ],
      "metadata": {
        "id": "fJ0uZfShNePw"
      }
    },
    {
      "cell_type": "markdown",
      "source": [
        "### Uso básico"
      ],
      "metadata": {
        "id": "8vE4V_EzORL5"
      }
    },
    {
      "cell_type": "code",
      "source": [
        "nums = [4, 1, 7, 3]\n",
        "print(sorted(nums, reverse=False))  # [1, 3, 4, 7]  -> ordem crescente\n",
        "print(sorted(nums, reverse=True))   # [7, 4, 3, 1]  -> ordem decrescente"
      ],
      "metadata": {
        "colab": {
          "base_uri": "https://localhost:8080/"
        },
        "id": "VUG5bibKOd_Q",
        "outputId": "de6fde22-a45f-48ca-d516-6a26c507bec1"
      },
      "execution_count": 4,
      "outputs": [
        {
          "output_type": "stream",
          "name": "stdout",
          "text": [
            "[1, 3, 4, 7]\n",
            "[7, 4, 3, 1]\n"
          ]
        }
      ]
    },
    {
      "cell_type": "markdown",
      "source": [
        "### Com strings\n",
        "\n",
        "Quando lidamos com strings, a ordenação segue a ordem lexicográfica (dicionário, baseada no Unicode)."
      ],
      "metadata": {
        "id": "a1aJHQKhOzq-"
      }
    },
    {
      "cell_type": "code",
      "source": [
        "words = [\"banana\", \"apple\", \"cherry\", \"date\"]\n",
        "print(sorted(words, reverse=False))  # ['apple', 'banana', 'cherry', 'date']\n",
        "print(sorted(words, reverse=True))   # ['date', 'cherry', 'banana', 'apple']"
      ],
      "metadata": {
        "colab": {
          "base_uri": "https://localhost:8080/"
        },
        "id": "goB9q3aGO1Qr",
        "outputId": "15405765-86b6-4a03-9fdf-bc2986a97eab"
      },
      "execution_count": 5,
      "outputs": [
        {
          "output_type": "stream",
          "name": "stdout",
          "text": [
            "['apple', 'banana', 'cherry', 'date']\n",
            "['date', 'cherry', 'banana', 'apple']\n"
          ]
        }
      ]
    },
    {
      "cell_type": "markdown",
      "source": [
        "### Com tuplas\n",
        "\n",
        "No caso de tuplas, a comparação é lexicográfica também (primeiro elemento, se empatar olha o segundo, etc.)."
      ],
      "metadata": {
        "id": "rXZJhQpBPgoh"
      }
    },
    {
      "cell_type": "code",
      "source": [
        "pairs = [(2, 5), (1, 9), (2, 1), (3, 0)]\n",
        "print(sorted(pairs, reverse=False))  # [(1, 9), (2, 1), (2, 5), (3, 0)]\n",
        "print(sorted(pairs, reverse=True))   # [(3, 0), (2, 5), (2, 1), (1, 9)]"
      ],
      "metadata": {
        "colab": {
          "base_uri": "https://localhost:8080/"
        },
        "id": "kgMyT5FEPh0I",
        "outputId": "f2dc3d40-0829-470b-94b8-4d56b39943eb"
      },
      "execution_count": 6,
      "outputs": [
        {
          "output_type": "stream",
          "name": "stdout",
          "text": [
            "[(1, 9), (2, 1), (2, 5), (3, 0)]\n",
            "[(3, 0), (2, 5), (2, 1), (1, 9)]\n"
          ]
        }
      ]
    },
    {
      "cell_type": "markdown",
      "source": [
        "## Ordenação customizada com key"
      ],
      "metadata": {
        "id": "pmPwOCF_Ngx9"
      }
    },
    {
      "cell_type": "markdown",
      "source": [
        "### Conceito\n",
        "\n",
        "O parâmetro key permite informar uma função que será aplicada a cada elemento antes da comparação.\n",
        "Ou seja:\n",
        "\n",
        "Normalmente o Python compara os elementos diretamente.\n",
        "\n",
        "Com key, você diz ao Python: “Antes de comparar, transforma cada elemento com essa função”.\n",
        "\n",
        "Nota: Isso não altera os elementos da lista, apenas a forma como eles são avaliados na ordenação.\n",
        "\n",
        "key não altera os elementos, apenas como eles são comparados.\n",
        "\n",
        "Pode retornar qualquer valor comparável: número, string, tupla etc.\n",
        "\n",
        "Permite ordenar por múltiplos critérios usando tuplas ou itemgetter.\n",
        "\n",
        "Combina com reverse=True para inverter a ordem final."
      ],
      "metadata": {
        "id": "UseIu0bNRCV4"
      }
    },
    {
      "cell_type": "markdown",
      "source": [
        "### Sintaxe\n",
        "\n",
        "```\n",
        "sorted(iterable, key=função)\n",
        "```\n",
        "\n",
        "função deve ser algo que receba 1 elemento e devolva 1 valor (que será usado para comparar).\n",
        "\n",
        "Pode ser: função builtin, lambda, função definida por você, ou ferramentas como itemgetter e attrgetter."
      ],
      "metadata": {
        "id": "aODcu099RYSG"
      }
    },
    {
      "cell_type": "markdown",
      "source": [
        "### Funções built-in como key\n",
        "\n",
        "Exemplos de funções builtin que podem ser usadas diretamente:"
      ],
      "metadata": {
        "id": "kKXCnLgySCoJ"
      }
    },
    {
      "cell_type": "code",
      "source": [
        "# ordenar strings pelo comprimento\n",
        "words = [\"banana\", \"apple\", \"cherry\", \"date\"]\n",
        "print(sorted(words, key=len))  # ['date', 'apple', 'banana', 'cherry']\n",
        "\n",
        "# ordenar números pelo valor absoluto\n",
        "nums = [-10, -1, 2, -3, 5]\n",
        "print(sorted(nums, key=abs))   # [-1, 2, -3, 5, -10]\n",
        "\n",
        "# case-insensitive\n",
        "words = [\"banana\", \"Apple\", \"cherry\", \"Date\"]\n",
        "print(sorted(words, key=str.lower))  # ['Apple', 'banana', 'cherry', 'Date']"
      ],
      "metadata": {
        "colab": {
          "base_uri": "https://localhost:8080/"
        },
        "id": "ZpkQ4xj0Tc3g",
        "outputId": "42ea510d-ce46-42da-bdbe-147be3b0f7e1"
      },
      "execution_count": 7,
      "outputs": [
        {
          "output_type": "stream",
          "name": "stdout",
          "text": [
            "['date', 'apple', 'banana', 'cherry']\n",
            "[-1, 2, -3, 5, -10]\n",
            "['Apple', 'banana', 'cherry', 'Date']\n"
          ]
        }
      ]
    },
    {
      "cell_type": "markdown",
      "source": [
        "### Lambda como key\n",
        "\n",
        "Lambda é útil quando queremos acessar partes específicas do elemento ou fazer algum cálculo inline."
      ],
      "metadata": {
        "id": "-qwT9rrASExz"
      }
    },
    {
      "cell_type": "code",
      "source": [
        "# tuplas pelo segundo elemento\n",
        "pairs = [(2, 5), (1, 9), (2, 1), (3, 0)]\n",
        "print(sorted(pairs, key=lambda x: x[1]))  # [(3, 0), (2, 1), (2, 5), (1, 9)]\n",
        "\n",
        "# dicionários pela idade\n",
        "people = [{\"name\": \"Ana\", \"age\": 25}, {\"name\": \"Carlos\", \"age\": 40}, {\"name\": \"Beatriz\", \"age\": 30}]\n",
        "print(sorted(people, key=lambda p: p[\"age\"]))\n",
        "# [{'name': 'Ana', 'age': 25}, {'name': 'Beatriz', 'age': 30}, {'name': 'Carlos', 'age': 40}]\n"
      ],
      "metadata": {
        "colab": {
          "base_uri": "https://localhost:8080/"
        },
        "id": "D02sVAwDUUD4",
        "outputId": "f2d672bb-3e41-482c-da7f-241885e35a2a"
      },
      "execution_count": 8,
      "outputs": [
        {
          "output_type": "stream",
          "name": "stdout",
          "text": [
            "[(3, 0), (2, 1), (2, 5), (1, 9)]\n",
            "[{'name': 'Ana', 'age': 25}, {'name': 'Beatriz', 'age': 30}, {'name': 'Carlos', 'age': 40}]\n"
          ]
        }
      ]
    },
    {
      "cell_type": "markdown",
      "source": [
        "### operator.itemgetter e operator.attrgetter\n",
        "\n",
        "Mais legível e ligeiramente mais rápido que lambda em alguns casos.\n",
        "\n",
        "itemgetter(n) retorna o elemento de índice n da tupla/lista.\n",
        "\n",
        "attrgetter(\"attr\") retorna o atributo de um objeto."
      ],
      "metadata": {
        "id": "xUxFwKQzUzN2"
      }
    },
    {
      "cell_type": "code",
      "source": [
        "from operator import itemgetter, attrgetter\n",
        "\n",
        "# tuplas pelo segundo elemento\n",
        "print(sorted(pairs, key=itemgetter(1)))  # [(3, 0), (2, 1), (2, 5), (1, 9)]\n",
        "\n",
        "# múltiplos critérios (tupla)\n",
        "print(sorted(pairs, key=itemgetter(1,0)))  # ordena por segundo elemento, depois primeiro\n",
        "\n",
        "# objetos (exemplo)\n",
        "class Pessoa:\n",
        "    def __init__(self, nome, idade):\n",
        "        self.nome = nome\n",
        "        self.idade = idade\n",
        "\n",
        "pessoas = [Pessoa(\"Ana\",25), Pessoa(\"Carlos\",40), Pessoa(\"Beatriz\",30)]\n",
        "print(sorted(pessoas, key=attrgetter(\"idade\")))"
      ],
      "metadata": {
        "colab": {
          "base_uri": "https://localhost:8080/"
        },
        "id": "VP1yewsSU7X-",
        "outputId": "cc9ce7a2-9fa1-432d-9c28-513abcce3abe"
      },
      "execution_count": 9,
      "outputs": [
        {
          "output_type": "stream",
          "name": "stdout",
          "text": [
            "[(3, 0), (2, 1), (2, 5), (1, 9)]\n",
            "[(3, 0), (2, 1), (2, 5), (1, 9)]\n",
            "[<__main__.Pessoa object at 0x7f74fc1aca90>, <__main__.Pessoa object at 0x7f74fc1ace10>, <__main__.Pessoa object at 0x7f74fc16b590>]\n"
          ]
        }
      ]
    },
    {
      "cell_type": "markdown",
      "source": [
        "## Combinação key + reverse"
      ],
      "metadata": {
        "id": "zOKGrwjjNrx5"
      }
    },
    {
      "cell_type": "markdown",
      "source": [
        "### Conceito\n",
        "\n",
        "O parâmetro key define a lógica de ordenação, ou seja, qual valor será usado como base para comparar os elementos.\n",
        "\n",
        "O parâmetro reverse apenas inverte a ordem do resultado da comparação feita com base no key.\n",
        "\n",
        "Ou seja:\n",
        "\n",
        "key faz a lógica\n",
        "\n",
        "reverse só inverte a direção dessa lógica já aplicada\n",
        "\n",
        "Nota: Se key=None, a ordenação é feita diretamente pelos próprios elementos (pela ordem natural dos mesmo, exemplo a letra A é naturalmente antecessora da letra B), e o reverse apenas inverte essa ordem natural."
      ],
      "metadata": {
        "id": "kGhHwGiaO3xE"
      }
    },
    {
      "cell_type": "markdown",
      "source": [
        "### Exemplos"
      ],
      "metadata": {
        "id": "mV3EGi7ARvGS"
      }
    },
    {
      "cell_type": "markdown",
      "source": [
        "### Números com valor absoluto"
      ],
      "metadata": {
        "id": "Xz2fHg60Ry8l"
      }
    },
    {
      "cell_type": "code",
      "source": [
        "numeros = [-5, -1, 2, 7, -3]\n",
        "\n",
        "# Ordena pelo valor absoluto (key=abs), mas em ordem decrescente\n",
        "ordenado = sorted(numeros, key=abs, reverse=True)\n",
        "print(ordenado)"
      ],
      "metadata": {
        "colab": {
          "base_uri": "https://localhost:8080/"
        },
        "id": "DG4CjMIfR5Vq",
        "outputId": "0fa4c3a6-fba1-4257-9f0f-bb19c700b878"
      },
      "execution_count": 1,
      "outputs": [
        {
          "output_type": "stream",
          "name": "stdout",
          "text": [
            "[7, -5, -3, 2, -1]\n"
          ]
        }
      ]
    },
    {
      "cell_type": "markdown",
      "source": [
        "Aqui: key=abs ordena por valor absoluto. O reverse=True inverte para decrescente."
      ],
      "metadata": {
        "id": "-6_VDd9tR8Lh"
      }
    },
    {
      "cell_type": "markdown",
      "source": [
        "### Strings ordenadas por comprimento"
      ],
      "metadata": {
        "id": "i0tmYXD_Snlw"
      }
    },
    {
      "cell_type": "code",
      "source": [
        "palavras = [\"carro\", \"ônibus\", \"moto\", \"bicicleta\"]\n",
        "\n",
        "# Ordena pelo tamanho da palavra, mas da maior para a menor\n",
        "ordenado = sorted(palavras, key=len, reverse=True)\n",
        "print(ordenado)\n",
        "# Saída: ['bicicleta', 'ônibus', 'carro', 'moto']"
      ],
      "metadata": {
        "colab": {
          "base_uri": "https://localhost:8080/"
        },
        "id": "d0F-fHoHSqgA",
        "outputId": "473befb9-53f2-45e5-e9a5-a14aaf4bc30e"
      },
      "execution_count": 2,
      "outputs": [
        {
          "output_type": "stream",
          "name": "stdout",
          "text": [
            "['bicicleta', 'ônibus', 'carro', 'moto']\n"
          ]
        }
      ]
    },
    {
      "cell_type": "markdown",
      "source": [
        "key=len faz a lógica → ordena pelo comprimento.\n",
        "\n",
        "reverse=True inverte, colocando primeiro as maiores palavras."
      ],
      "metadata": {
        "id": "LLPctw9bSAR2"
      }
    },
    {
      "cell_type": "markdown",
      "source": [
        "# Ordenando Estruturas de Dados"
      ],
      "metadata": {
        "id": "Sj0wp1zxSz20"
      }
    },
    {
      "cell_type": "markdown",
      "source": [
        "###Restrições de Tipo\n",
        "\n",
        "Todos os elementos comparados devem ser do mesmo tipo ou tipos compatíveis.\n",
        "\n",
        "Python não permite comparar tipos incompatíveis (ex.: int e str) e lançará TypeError.\n",
        "\n",
        "Isso vale para todas as estruturas: listas de tuplas, listas de dicionários, objetos, etc.\n",
        "Dica prática: garanta uniformidade nos tipos ou use key para extrair um valor comparável.\n",
        "\n"
      ],
      "metadata": {
        "id": "U_9-8ZhNXbET"
      }
    },
    {
      "cell_type": "markdown",
      "source": [
        "Exemplo válido:"
      ],
      "metadata": {
        "id": "mAHa55A5X0fw"
      }
    },
    {
      "cell_type": "code",
      "source": [
        "t1 = (1, 2)\n",
        "t2 = (2, 1)\n",
        "print(t1 < t2)  # True, porque 1 < 2"
      ],
      "metadata": {
        "colab": {
          "base_uri": "https://localhost:8080/"
        },
        "id": "bBJOZAcCX2OG",
        "outputId": "fc5d6d92-67e1-422c-a974-96f50595f623"
      },
      "execution_count": 3,
      "outputs": [
        {
          "output_type": "stream",
          "name": "stdout",
          "text": [
            "True\n"
          ]
        }
      ]
    },
    {
      "cell_type": "markdown",
      "source": [
        "Exemplo inválido:"
      ],
      "metadata": {
        "id": "EN-_xFIzX6Bq"
      }
    },
    {
      "cell_type": "code",
      "source": [
        "random_list = [\"value\", 8, \"john\", 4.25]\n",
        "print(sorted(random_list))\n",
        "# TypeError: '<' not supported between instances of 'str' and 'int'"
      ],
      "metadata": {
        "colab": {
          "base_uri": "https://localhost:8080/",
          "height": 176
        },
        "id": "DDGrk-5dX79r",
        "outputId": "a195b7c4-d3d4-4588-b96d-06687f6d9b2b"
      },
      "execution_count": 4,
      "outputs": [
        {
          "output_type": "error",
          "ename": "TypeError",
          "evalue": "'<' not supported between instances of 'int' and 'str'",
          "traceback": [
            "\u001b[0;31m---------------------------------------------------------------------------\u001b[0m",
            "\u001b[0;31mTypeError\u001b[0m                                 Traceback (most recent call last)",
            "\u001b[0;32m/tmp/ipython-input-3017246921.py\u001b[0m in \u001b[0;36m<cell line: 0>\u001b[0;34m()\u001b[0m\n\u001b[1;32m      1\u001b[0m \u001b[0mrandom_list\u001b[0m \u001b[0;34m=\u001b[0m \u001b[0;34m[\u001b[0m\u001b[0;34m\"value\"\u001b[0m\u001b[0;34m,\u001b[0m \u001b[0;36m8\u001b[0m\u001b[0;34m,\u001b[0m \u001b[0;34m\"john\"\u001b[0m\u001b[0;34m,\u001b[0m \u001b[0;36m4.25\u001b[0m\u001b[0;34m]\u001b[0m\u001b[0;34m\u001b[0m\u001b[0;34m\u001b[0m\u001b[0m\n\u001b[0;32m----> 2\u001b[0;31m \u001b[0mprint\u001b[0m\u001b[0;34m(\u001b[0m\u001b[0msorted\u001b[0m\u001b[0;34m(\u001b[0m\u001b[0mrandom_list\u001b[0m\u001b[0;34m)\u001b[0m\u001b[0;34m)\u001b[0m\u001b[0;34m\u001b[0m\u001b[0;34m\u001b[0m\u001b[0m\n\u001b[0m\u001b[1;32m      3\u001b[0m \u001b[0;31m# TypeError: '<' not supported between instances of 'str' and 'int'\u001b[0m\u001b[0;34m\u001b[0m\u001b[0;34m\u001b[0m\u001b[0m\n",
            "\u001b[0;31mTypeError\u001b[0m: '<' not supported between instances of 'int' and 'str'"
          ]
        }
      ]
    },
    {
      "cell_type": "markdown",
      "source": [
        "## Lista de Tuplas"
      ],
      "metadata": {
        "id": "HhDZPa_PVwV7"
      }
    },
    {
      "cell_type": "markdown",
      "source": [
        "### Ordenando pelo segundo elemento"
      ],
      "metadata": {
        "id": "1eTwqfYdjg2e"
      }
    },
    {
      "cell_type": "code",
      "source": [
        "data = [(\"Paulo\", 20), (\"Maria\", 30), (\"Ana\", 40)]\n",
        "\n",
        "ordering = sorted(data, key=lambda x: x[1])\n",
        "print(ordering)"
      ],
      "metadata": {
        "colab": {
          "base_uri": "https://localhost:8080/"
        },
        "id": "tkGcC_Ubjiio",
        "outputId": "47c91719-6b4b-4efe-8a53-977951505d6c"
      },
      "execution_count": 6,
      "outputs": [
        {
          "output_type": "stream",
          "name": "stdout",
          "text": [
            "[('Paulo', 20), ('Maria', 30), ('Ana', 40)]\n"
          ]
        }
      ]
    },
    {
      "cell_type": "markdown",
      "source": [
        "### Ordenando por múltiplos critérios com manipulação de valores"
      ],
      "metadata": {
        "id": "FwrXIaorWBv3"
      }
    },
    {
      "cell_type": "code",
      "source": [
        "# Lista de palavras e frequência\n",
        "frequency_items = [(\"apple\", 3), (\"banana\", 5), (\"cherry\", 3), (\"date\", 2)]\n",
        "\n",
        "# Ordenar primeiro por frequência (descendente), depois por palavra (ascendente)\n",
        "ordered_by_frequency = sorted(\n",
        "    frequency_items,\n",
        "    key=lambda x: (-x[1], x[0]),  # -x[1] para inverter a ordem da frequência\n",
        "    reverse=False                  # reverse=False porque já invertemos a frequência com o negativo\n",
        ")\n",
        "print(\"Ordered Frequency:\", ordered_by_frequency)\n",
        "# Saída: [('banana', 5), ('apple', 3), ('cherry', 3), ('date', 2)]"
      ],
      "metadata": {
        "colab": {
          "base_uri": "https://localhost:8080/"
        },
        "id": "1obN-3kfbRrT",
        "outputId": "3df4eaa6-452a-4679-a54c-5f07ec8581cd"
      },
      "execution_count": 5,
      "outputs": [
        {
          "output_type": "stream",
          "name": "stdout",
          "text": [
            "Ordered Frequency: [('banana', 5), ('apple', 3), ('cherry', 3), ('date', 2)]\n"
          ]
        }
      ]
    },
    {
      "cell_type": "markdown",
      "source": [
        "Explicação detalhada:\n",
        "\n",
        "key=lambda x: (-x[1], x[0]) cria uma tupla de critérios - por padrão o primeiro elemento da tupla seria levado em consideração para a comparação, entretanto, como na definição escolhemos o segundo elemento, o mesmo está sendo usado como elemento principal para comparar [1], sendo assim o valor x[0] é usado como critério de desempate:\n",
        "\n",
        "-x[1] → frequência transformada em negativo, para que a ordem ascendente padrão traga as maiores frequências primeiro.\n",
        "\n",
        "x[0] → palavra, será comparada em ordem alfabética para desempates.\n",
        "\n",
        "Python compara as tuplas lexicograficamente:\n",
        "\n",
        "Primeiro compara o primeiro elemento da key (frequência negativa).\n",
        "\n",
        "Se houver empate, compara o segundo elemento da key (palavra).\n",
        "\n",
        "reverse=False → não inverte o resultado final da key, porque a lógica da ordem desejada já está aplicada com o -x[1]."
      ],
      "metadata": {
        "id": "uGXykAtQWnxT"
      }
    },
    {
      "cell_type": "markdown",
      "source": [
        "Desenho mental detalhado\n",
        "\n",
        "\n",
        "```\n",
        "| Passo | Elemento original | x[1] (freq)  | -x[1]  | x[0] (palavra)  | Tupla key (-x[1], x[0])   |\n",
        "| ----- | ----------------- | ------------ | ------ | --------------- | ------------------------- |\n",
        "| 1     | (\"apple\", 3)      | 3            | -3     | \"apple\"         | (-3, \"apple\")             |\n",
        "| 2     | (\"banana\", 5)     | 5            | -5     | \"banana\"        | (-5, \"banana\")            |\n",
        "| 3     | (\"cherry\", 3)     | 3            | -3     | \"cherry\"        | (-3, \"cherry\")            |\n",
        "| 4     | (\"date\", 2)       | 2            | -2     | \"date\"          | (-2, \"date\")              |\n",
        "\n",
        "```\n"
      ],
      "metadata": {
        "id": "V7XzI1ELfhIQ"
      }
    },
    {
      "cell_type": "markdown",
      "source": [
        "Ordenação das keys (lexicográfica)\n",
        "\n",
        "Python compara primeiro elemento da key e usa o segundo elemento como desempate:\n",
        "\n",
        "\n",
        "```\n",
        "(-5, 'banana')   # menor key → primeiro na ordenação\n",
        "(-3, 'apple')    # empate em -3 → 'apple' < 'cherry' => 'apple' vem antes\n",
        "(-3, 'cherry')   \n",
        "(-2, 'date')     # maior key → último na ordenação\n",
        "```"
      ],
      "metadata": {
        "id": "J97kxH_1g54d"
      }
    },
    {
      "cell_type": "markdown",
      "source": [
        "Mapear de volta para os elementos originais\n",
        "\n",
        "Depois de ordenar pelas keys, Python retorna os elementos originais da lista, na mesma ordem das keys ordenadas:\n",
        "\n",
        "\n",
        "```\n",
        "[('banana', 5), ('apple', 3), ('cherry', 3), ('date', 2)]\n",
        "```"
      ],
      "metadata": {
        "id": "DioqrDrbhIQe"
      }
    },
    {
      "cell_type": "markdown",
      "source": [
        "## Dicionários"
      ],
      "metadata": {
        "id": "Z7OOD_DzayiM"
      }
    },
    {
      "cell_type": "markdown",
      "source": [
        "### Nota\n",
        "\n",
        "Por padrão, um dict em Python não é ordenado pela chave ou valor automaticamente (apesar de manter a ordem de inserção a partir do Python 3.7+).\n",
        "\n",
        "Para ordenar, usamos sorted() sobre as chaves, valores ou sobre os pares (items).\n",
        "\n",
        "Como dicionários não têm ordem própria de comparação, sempre precisamos decidir o que estamos ordenando:\n",
        "\n",
        "chaves (dict.keys()),\n",
        "\n",
        "valores (dict.values()),\n",
        "\n",
        "pares chave-valor (dict.items()).\n",
        "\n",
        "\n",
        "\n",
        "**Estratégia**\n",
        "\n",
        "Extrair uma view (.items(), .keys(), .values());\n",
        "\n",
        "Aplicar sorted(...) com ou sem key;\n",
        "\n",
        "Opcional: transformar de volta em dict ou list."
      ],
      "metadata": {
        "id": "iwkW5RgAcCl8"
      }
    },
    {
      "cell_type": "markdown",
      "source": [
        "### Ordenação básica"
      ],
      "metadata": {
        "id": "JDDgl7DfozTo"
      }
    },
    {
      "cell_type": "code",
      "source": [
        "dados = {\"c\": 4, \"a\": 5, \"b\": 2}\n",
        "\n",
        "print(f\"Keys: {sorted(dados)}\")       #  (ordena só as chaves)\n",
        "print(f\"Keys: {sorted(dados.keys())}\")   # idem\n",
        "print(f\"Values: {sorted(dados.values())}\") #    (ordena só os valores)\n",
        "print(f\"Items: {sorted(dados.items())}\")  # (ordena os pares, levando em consideração as chaves)"
      ],
      "metadata": {
        "colab": {
          "base_uri": "https://localhost:8080/"
        },
        "id": "r1GDlB-So2CW",
        "outputId": "26cdba2b-a7b6-46e8-b891-dfa88403dd4b"
      },
      "execution_count": 17,
      "outputs": [
        {
          "output_type": "stream",
          "name": "stdout",
          "text": [
            "Keys: ['a', 'b', 'c']\n",
            "Keys: ['a', 'b', 'c']\n",
            "Values: [2, 4, 5]\n",
            "Items: [('a', 5), ('b', 2), ('c', 4)]\n"
          ]
        }
      ]
    },
    {
      "cell_type": "markdown",
      "source": [
        "### Ordenando pelas chaves\n",
        "\n",
        "Aqui a key pega o índice [0], ou seja, a chave da tupla chave e valor."
      ],
      "metadata": {
        "id": "lE4UECDBdSRP"
      }
    },
    {
      "cell_type": "code",
      "source": [
        "data = {\"A\": 50, \"Z\": 5}\n",
        "ordering = dict(sorted(data.items(), key=lambda x: x[0]))\n",
        "print(ordering)"
      ],
      "metadata": {
        "colab": {
          "base_uri": "https://localhost:8080/"
        },
        "id": "xIUIEDsufWek",
        "outputId": "73077a25-a977-4dc2-d2b0-8bfc758422b1"
      },
      "execution_count": 1,
      "outputs": [
        {
          "output_type": "stream",
          "name": "stdout",
          "text": [
            "{'A': 50, 'Z': 5}\n"
          ]
        }
      ]
    },
    {
      "cell_type": "markdown",
      "source": [
        "### Ordenando pelos valores\n",
        "\n",
        "Aqui a key pega o índice [1], ou seja, o valor da tupla chave e valor."
      ],
      "metadata": {
        "id": "N7yLJ6pjfu2O"
      }
    },
    {
      "cell_type": "code",
      "source": [
        "data = {\"A\": 50, \"Z\": 5}\n",
        "ordering = dict(sorted(data.items(), key=lambda x: x[1]))\n",
        "print(ordering)"
      ],
      "metadata": {
        "colab": {
          "base_uri": "https://localhost:8080/"
        },
        "id": "FsU7UgCwft0p",
        "outputId": "33ad4949-afc8-48a7-de28-a3f238348c6a"
      },
      "execution_count": 2,
      "outputs": [
        {
          "output_type": "stream",
          "name": "stdout",
          "text": [
            "{'Z': 5, 'A': 50}\n"
          ]
        }
      ]
    },
    {
      "cell_type": "markdown",
      "source": [
        "### Ordenando por múltiplos critérios (chave e valor)\n",
        "\n",
        "Primeiro ordena pelo valor, se empatar ordena pela chave.\n",
        "observação, o primeiro item a ser passado na tupla para a key terá prioridade na comparação.\n",
        "\n",
        "Regra:\n",
        "\n",
        "Caso queira priorizar a ordenação pela chave e desempatar pelo valor, defina x[0] primeiro;\n",
        "\n",
        "Caso queira priorizar o valor e desempatar pela chave, defina x[1] primeiro.\n"
      ],
      "metadata": {
        "id": "KVAFtaz2gHaQ"
      }
    },
    {
      "cell_type": "code",
      "source": [
        "data = {\"A\": 5, \"Z\": 5, \"C\": 5, \"M\": 10, \"B\": 3}\n",
        "ordering = dict(sorted(data.items(), key=lambda x: (x[1], x[0])))\n",
        "print(ordering)"
      ],
      "metadata": {
        "colab": {
          "base_uri": "https://localhost:8080/"
        },
        "id": "0A1IDnCggLBw",
        "outputId": "24d40e65-2269-4504-f5ee-15c7edd30f56"
      },
      "execution_count": 4,
      "outputs": [
        {
          "output_type": "stream",
          "name": "stdout",
          "text": [
            "{'B': 3, 'A': 5, 'C': 5, 'Z': 5, 'M': 10}\n"
          ]
        }
      ]
    },
    {
      "cell_type": "markdown",
      "source": [
        "### Usando operator.itemgetter em vez de lambda\n",
        "\n",
        "No caso abaixo como o segundo valor da tupla é passado a comparação é feita pelo valor.\n",
        "\n",
        "\n",
        "```\n",
        "    (key, value)\n",
        "\n",
        "       0     1\n",
        "```\n"
      ],
      "metadata": {
        "id": "S_N0TU6kh0GB"
      }
    },
    {
      "cell_type": "code",
      "source": [
        "from operator import itemgetter\n",
        "\n",
        "data = {\"A\": 50, \"Z\": 5}\n",
        "ordering = dict(sorted(data.items(), key=itemgetter(1)))\n",
        "print(ordering)"
      ],
      "metadata": {
        "colab": {
          "base_uri": "https://localhost:8080/"
        },
        "id": "p4__N85Bh3Oa",
        "outputId": "6377bdfe-806c-4875-e1a3-c41dc01669e8"
      },
      "execution_count": 5,
      "outputs": [
        {
          "output_type": "stream",
          "name": "stdout",
          "text": [
            "{'Z': 5, 'A': 50}\n"
          ]
        }
      ]
    },
    {
      "cell_type": "markdown",
      "source": [
        "### Ordenar com transformação da chave/valor"
      ],
      "metadata": {
        "id": "1cTgOonrkdWQ"
      }
    },
    {
      "cell_type": "code",
      "source": [
        "data = {\"A\": 50, \"Z\": 5, \"d\": 3}\n",
        "ordering = dict(sorted(data.items(), key=lambda x: x[0].lower()))\n",
        "print(ordering)"
      ],
      "metadata": {
        "colab": {
          "base_uri": "https://localhost:8080/"
        },
        "id": "qZhT3YUDkf4T",
        "outputId": "cd725ebc-af92-4047-ac10-2c0f533d2afd"
      },
      "execution_count": 6,
      "outputs": [
        {
          "output_type": "stream",
          "name": "stdout",
          "text": [
            "{'A': 50, 'd': 3, 'Z': 5}\n"
          ]
        }
      ]
    },
    {
      "cell_type": "markdown",
      "source": [
        "### Ordenar por valor decrescente"
      ],
      "metadata": {
        "id": "7YvJCyFzlpQU"
      }
    },
    {
      "cell_type": "code",
      "source": [
        "data = {\"A\": 2, \"Z\": 5, \"X\": 0, \"B\": 4}\n",
        "ordering = dict(sorted(data.items(), key=lambda x: x[1], reverse=True))\n",
        "print(ordering)"
      ],
      "metadata": {
        "colab": {
          "base_uri": "https://localhost:8080/"
        },
        "id": "hcWjMB8Jlrlz",
        "outputId": "7ab2e9f7-4957-4cc2-bbab-4c1691e417dd"
      },
      "execution_count": 9,
      "outputs": [
        {
          "output_type": "stream",
          "name": "stdout",
          "text": [
            "{'Z': 5, 'B': 4, 'A': 2, 'X': 0}\n"
          ]
        }
      ]
    },
    {
      "cell_type": "markdown",
      "source": [
        "### Ordenar por expressões derivadas"
      ],
      "metadata": {
        "id": "mbo6JvCBgHl-"
      }
    },
    {
      "cell_type": "code",
      "source": [
        "dados = {\"aa\": 3, \"b\": 10, \"cccc\": 5}\n",
        "ordenado = dict(sorted(dados.items(), key=lambda x: len(x[0])))\n",
        "print(ordenado)\n",
        "# {'b': 10, 'aa': 3, 'cccc': 5}  (ordena pelo tamanho da chave)"
      ],
      "metadata": {
        "colab": {
          "base_uri": "https://localhost:8080/"
        },
        "id": "SF0zjKCqmu_l",
        "outputId": "6339946d-c1b9-4cc1-8691-46ac457cb5d9"
      },
      "execution_count": 11,
      "outputs": [
        {
          "output_type": "stream",
          "name": "stdout",
          "text": [
            "{'b': 10, 'aa': 3, 'cccc': 5}\n"
          ]
        }
      ]
    },
    {
      "cell_type": "markdown",
      "source": [
        "### Ordenar lista de dicionários por um campo"
      ],
      "metadata": {
        "id": "bM7L3-uTq-en"
      }
    },
    {
      "cell_type": "code",
      "source": [
        "carros = [\n",
        "    {\"modelo\":\"Gol\", \"ano\":2010},\n",
        "    {\"modelo\":\"Civic\",\"ano\":2015},\n",
        "    {\"modelo\":\"Fusca\",\"ano\":1980},\n",
        "]\n",
        "\n",
        "# ordenar pelo campo 'ano'\n",
        "ordenados = sorted(carros, key=lambda x: x[\"ano\"])\n",
        "print(ordenados)\n",
        "# [{'modelo': 'Fusca', 'ano': 1980}, {'modelo': 'Gol', 'ano': 2010}, {'modelo': 'Civic', 'ano': 2015}]"
      ],
      "metadata": {
        "colab": {
          "base_uri": "https://localhost:8080/"
        },
        "id": "ffx1yblVq_yM",
        "outputId": "187b1ecd-be63-4ad3-e8db-a7c2e96b5368"
      },
      "execution_count": 18,
      "outputs": [
        {
          "output_type": "stream",
          "name": "stdout",
          "text": [
            "[{'modelo': 'Fusca', 'ano': 1980}, {'modelo': 'Gol', 'ano': 2010}, {'modelo': 'Civic', 'ano': 2015}]\n"
          ]
        }
      ]
    },
    {
      "cell_type": "markdown",
      "source": [
        "### Ordenar por campos aninhados (nested)"
      ],
      "metadata": {
        "id": "rLoEqve-rtKs"
      }
    },
    {
      "cell_type": "markdown",
      "source": [
        "Dicionários podem guardar outras estruturas de dados em seu interior, tais quais listas, dicts, etc.\n",
        "Podemos acessar esses campos diretamente:"
      ],
      "metadata": {
        "id": "rUvDiU8Er0PX"
      }
    },
    {
      "cell_type": "code",
      "source": [
        "alunos = [\n",
        "    {\"nome\":\"Ana\", \"notas\":[5, 8, 7]},\n",
        "    {\"nome\":\"Bianca\", \"notas\":[8, 9, 10]},\n",
        "    {\"nome\":\"Carlos\", \"notas\":[4, 6, 7]},\n",
        "]\n",
        "\n",
        "# ordenar pelo último exame\n",
        "print(sorted(alunos, key=lambda s: s[\"notas\"][-1]))\n",
        "# [{'nome': 'Ana', 'notas': [5, 8, 7]}, {'nome': 'Carlos', 'notas': [4, 6, 7]}, {'nome': 'Bianca', 'notas': [8, 9, 10]}]"
      ],
      "metadata": {
        "colab": {
          "base_uri": "https://localhost:8080/"
        },
        "id": "5n-CsHdEr-EP",
        "outputId": "a00f4d0e-9ad1-469d-be79-17d8755c9443"
      },
      "execution_count": 19,
      "outputs": [
        {
          "output_type": "stream",
          "name": "stdout",
          "text": [
            "[{'nome': 'Ana', 'notas': [5, 8, 7]}, {'nome': 'Carlos', 'notas': [4, 6, 7]}, {'nome': 'Bianca', 'notas': [8, 9, 10]}]\n"
          ]
        }
      ]
    },
    {
      "cell_type": "markdown",
      "source": [
        "Outro exemplo, campos dentro de dicts aninhados:"
      ],
      "metadata": {
        "id": "EZHA4IrXsnGG"
      }
    },
    {
      "cell_type": "code",
      "source": [
        "funcionarios = [\n",
        "    {\"nome\":\"João\", \"endereco\":{\"cidade\":\"Rio de Janeiro\", \"bairro\":\"Centro\"}},\n",
        "    {\"nome\":\"Maria\", \"endereco\":{\"cidade\":\"Curitiba\", \"bairro\":\"Água Verde\"}},\n",
        "    {\"nome\":\"Pedro\", \"endereco\":{\"cidade\":\"São Paulo\", \"bairro\":\"Moema\"}},\n",
        "]\n",
        "\n",
        "# ordenar por cidade\n",
        "print(sorted(funcionarios, key=lambda f: f[\"endereco\"][\"cidade\"]))"
      ],
      "metadata": {
        "colab": {
          "base_uri": "https://localhost:8080/"
        },
        "id": "yE6IJrK0sqVd",
        "outputId": "8b58df18-91db-48d4-d9c7-1b6018567801"
      },
      "execution_count": 21,
      "outputs": [
        {
          "output_type": "stream",
          "name": "stdout",
          "text": [
            "[{'nome': 'Maria', 'endereco': {'cidade': 'Curitiba', 'bairro': 'Água Verde'}}, {'nome': 'João', 'endereco': {'cidade': 'Rio de Janeiro', 'bairro': 'Centro'}}, {'nome': 'Pedro', 'endereco': {'cidade': 'São Paulo', 'bairro': 'Moema'}}]\n"
          ]
        }
      ]
    },
    {
      "cell_type": "markdown",
      "source": [
        "### Exemplo Prático"
      ],
      "metadata": {
        "id": "ad3pcy2Kv13R"
      }
    },
    {
      "cell_type": "markdown",
      "source": [
        "Objetivo\n",
        "\n",
        "Ordenar uma lista de dicionários de carros por:\n",
        "\n",
        "marca (crescente A→Z)\n",
        "\n",
        "ano (decrescente: mais novo primeiro)\n",
        "\n",
        "preço (crescente, como desempate)"
      ],
      "metadata": {
        "id": "WeRAYra2v6gc"
      }
    },
    {
      "cell_type": "code",
      "source": [
        "carros = [\n",
        "    {\"marca\": \"Ford\",   \"modelo\": \"Fiesta\",  \"ano\": 2018, \"preco\": 42000},\n",
        "    {\"marca\": \"Toyota\", \"modelo\": \"Corolla\", \"ano\": 2018, \"preco\": 84000},\n",
        "    {\"marca\": \"Honda\",  \"modelo\": \"Civic\",   \"ano\": 2020, \"preco\": 95000},\n",
        "    {\"marca\": \"Honda\",  \"modelo\": \"Civic\",   \"ano\": 2018, \"preco\": 82000},\n",
        "    {\"marca\": \"Honda\",  \"modelo\": \"City\",    \"ano\": 2020, \"preco\": 88000},\n",
        "    {\"marca\": \"Toyota\", \"modelo\": \"Corolla\", \"ano\": 2020, \"preco\": 99000},\n",
        "    {\"marca\": \"Ford\",   \"modelo\": \"Focus\",   \"ano\": 2018, \"preco\": 45000},\n",
        "    {\"marca\": \"Ford\",   \"modelo\": \"Focus\",   \"ano\": 2016, \"preco\": 38000},\n",
        "]"
      ],
      "metadata": {
        "id": "qcirBh2KwWhR"
      },
      "execution_count": 24,
      "outputs": []
    },
    {
      "cell_type": "code",
      "source": [
        "ordenados = sorted(\n",
        "    carros,\n",
        "    key=lambda c: (c[\"marca\"], -c[\"ano\"], c[\"preco\"])\n",
        ")\n",
        "for c in ordenados:\n",
        "    print(c)"
      ],
      "metadata": {
        "colab": {
          "base_uri": "https://localhost:8080/"
        },
        "id": "Vk_iXVcywNAo",
        "outputId": "ad9e0c5b-87f8-43d4-ea04-ccb4f4469a32"
      },
      "execution_count": 25,
      "outputs": [
        {
          "output_type": "stream",
          "name": "stdout",
          "text": [
            "{'marca': 'Ford', 'modelo': 'Fiesta', 'ano': 2018, 'preco': 42000}\n",
            "{'marca': 'Ford', 'modelo': 'Focus', 'ano': 2018, 'preco': 45000}\n",
            "{'marca': 'Ford', 'modelo': 'Focus', 'ano': 2016, 'preco': 38000}\n",
            "{'marca': 'Honda', 'modelo': 'City', 'ano': 2020, 'preco': 88000}\n",
            "{'marca': 'Honda', 'modelo': 'Civic', 'ano': 2020, 'preco': 95000}\n",
            "{'marca': 'Honda', 'modelo': 'Civic', 'ano': 2018, 'preco': 82000}\n",
            "{'marca': 'Toyota', 'modelo': 'Corolla', 'ano': 2020, 'preco': 99000}\n",
            "{'marca': 'Toyota', 'modelo': 'Corolla', 'ano': 2018, 'preco': 84000}\n"
          ]
        }
      ]
    },
    {
      "cell_type": "markdown",
      "source": [
        "Propósito da key\n",
        "\n",
        "Pense que a key é uma função que extrai a informação exata usada para comparar itens.\n",
        "Ela não altera seus dados; só entrega para o Python o que comparar.\n",
        "\n",
        "Para cada dicionário c, a nossa key faz:\n",
        "\n",
        "\n",
        "\n",
        "```\n",
        "(c[\"marca\"], -c[\"ano\"], c[\"preco\"])\n",
        "```\n",
        "\n",
        "c[\"marca\"] → compara marca em ordem alfabética (A→Z).\n",
        "\n",
        "-c[\"ano\"] → transforma o ano em negativo para que anos maiores fiquem antes (descendente) mantendo sorted ascendente.\n",
        "\n",
        "c[\"preco\"] → como terceiro critério, menor preço primeiro.\n",
        "\n",
        "Ordem de precedência\n",
        "\n",
        "**Importante: A comparação é lexicográfica: primeiro elemento da key, depois o segundo (se empatar), depois o terceiro e assim sucessivamente**"
      ],
      "metadata": {
        "id": "pBAF7YhnxFz1"
      }
    },
    {
      "cell_type": "markdown",
      "source": [
        "Por que não usar reverse=True aqui?\n",
        "\n",
        "reverse=True inverte a lista final inteira depois de aplicar a key.\n",
        "Quando você precisa de critérios mistos (uns crescentes, outros decrescentes), não use reverse=True.\n",
        "Em vez disso, transforme apenas os critérios que devem ser invertidos (como fizemos com -c[\"ano\"]).\n",
        "\n",
        "**Regra prática:**\n",
        "\n",
        "Critério crescente → use o valor “normal”.\n",
        "\n",
        "Critério decrescente → use a transformação (ex.: -valor, valor * -1, etc.).\n",
        "\n",
        "Evite reverse=True quando há múltiplos critérios com direções diferentes."
      ],
      "metadata": {
        "id": "SGg_gzb9xz_X"
      }
    },
    {
      "cell_type": "markdown",
      "source": [
        "Variações úteis (casos reais)"
      ],
      "metadata": {
        "id": "vjUzRUB8yD8N"
      }
    },
    {
      "cell_type": "markdown",
      "source": [
        "Aplicando transformações"
      ],
      "metadata": {
        "id": "PbeI6pngylOW"
      }
    },
    {
      "cell_type": "code",
      "source": [
        "ordenados = sorted(\n",
        "    carros,\n",
        "    key=lambda c: (c[\"marca\"].lower(), -c[\"ano\"], c[\"preco\"])\n",
        ")\n",
        "print(ordenados)"
      ],
      "metadata": {
        "colab": {
          "base_uri": "https://localhost:8080/"
        },
        "id": "608l2XqXyE2k",
        "outputId": "0e57679d-b8e8-4750-a9c3-ce2406deae0d"
      },
      "execution_count": 28,
      "outputs": [
        {
          "output_type": "stream",
          "name": "stdout",
          "text": [
            "[{'marca': 'Ford', 'modelo': 'Fiesta', 'ano': 2018, 'preco': 42000}, {'marca': 'Ford', 'modelo': 'Focus', 'ano': 2018, 'preco': 45000}, {'marca': 'Ford', 'modelo': 'Focus', 'ano': 2016, 'preco': 38000}, {'marca': 'Honda', 'modelo': 'City', 'ano': 2020, 'preco': 88000}, {'marca': 'Honda', 'modelo': 'Civic', 'ano': 2020, 'preco': 95000}, {'marca': 'Honda', 'modelo': 'Civic', 'ano': 2018, 'preco': 82000}, {'marca': 'Toyota', 'modelo': 'Corolla', 'ano': 2020, 'preco': 99000}, {'marca': 'Toyota', 'modelo': 'Corolla', 'ano': 2018, 'preco': 84000}]\n"
          ]
        }
      ]
    },
    {
      "cell_type": "markdown",
      "source": [
        "Lidando com dados faltantes"
      ],
      "metadata": {
        "id": "2NOqvmM4yZYP"
      }
    },
    {
      "cell_type": "code",
      "source": [
        "ordenados = sorted(\n",
        "    carros,\n",
        "    key=lambda c: (c.get(\"marca\",\"\"), -c.get(\"ano\", 0), c.get(\"preco\", float(\"inf\")))\n",
        ")\n",
        "print(ordenados)"
      ],
      "metadata": {
        "colab": {
          "base_uri": "https://localhost:8080/"
        },
        "id": "L2NkSxoLyc4l",
        "outputId": "c0cecac9-b371-473b-e24e-40a7ebc64556"
      },
      "execution_count": 29,
      "outputs": [
        {
          "output_type": "stream",
          "name": "stdout",
          "text": [
            "[{'marca': 'Ford', 'modelo': 'Fiesta', 'ano': 2018, 'preco': 42000}, {'marca': 'Ford', 'modelo': 'Focus', 'ano': 2018, 'preco': 45000}, {'marca': 'Ford', 'modelo': 'Focus', 'ano': 2016, 'preco': 38000}, {'marca': 'Honda', 'modelo': 'City', 'ano': 2020, 'preco': 88000}, {'marca': 'Honda', 'modelo': 'Civic', 'ano': 2020, 'preco': 95000}, {'marca': 'Honda', 'modelo': 'Civic', 'ano': 2018, 'preco': 82000}, {'marca': 'Toyota', 'modelo': 'Corolla', 'ano': 2020, 'preco': 99000}, {'marca': 'Toyota', 'modelo': 'Corolla', 'ano': 2018, 'preco': 84000}]\n"
          ]
        }
      ]
    },
    {
      "cell_type": "markdown",
      "source": [],
      "metadata": {
        "id": "4_Pqpl63yXYb"
      }
    }
  ]
}