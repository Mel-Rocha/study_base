{
  "nbformat": 4,
  "nbformat_minor": 0,
  "metadata": {
    "colab": {
      "provenance": [],
      "toc_visible": true
    },
    "kernelspec": {
      "name": "python3",
      "display_name": "Python 3"
    },
    "language_info": {
      "name": "python"
    }
  },
  "cells": [
    {
      "cell_type": "markdown",
      "source": [
        "# Introdução"
      ],
      "metadata": {
        "id": "Yw58SPcEmsYA"
      }
    },
    {
      "cell_type": "markdown",
      "source": [
        "## Conceito\n",
        "\n",
        "permite iterar sobre um iterável e, ao mesmo tempo, obter o índice de cada elemento.\n",
        "você usa enumerate e recebe diretamente (índice, valor) em cada iteração.\n",
        "\n",
        "enumerate transforma qualquer iterável (lista, tupla, string, etc.) em um iterador de tuplas (índice, elemento).\n",
        "\n",
        "O índice padrão começa em 0, mas pode ser alterado usando o parâmetro start.\n",
        "\n",
        "É útil para maratonas e LeetCode, pois elimina a necessidade de gerenciar manualmente contadores ao iterar.\n",
        "\n",
        "\n",
        "**Notas importantes:**\n",
        "\n",
        "enumerate não retorna uma lista diretamente, retorna um enumerate object (um iterador), que você pode percorrer em um for ou converter em lista com list(enumerate(...)).\n",
        "\n",
        "Esse iterador é lazy, ou seja, os valores são produzidos sob demanda."
      ],
      "metadata": {
        "id": "7J3geu7rmxj_"
      }
    },
    {
      "cell_type": "markdown",
      "source": [
        "## Documentação\n",
        "\n",
        "Para acessar a documentação oficial diretamente no terminal python, use:"
      ],
      "metadata": {
        "id": "Im_Gp3sVmzZo"
      }
    },
    {
      "cell_type": "code",
      "source": [
        "help(enumerate)"
      ],
      "metadata": {
        "colab": {
          "base_uri": "https://localhost:8080/"
        },
        "id": "CNJT79hNm5TR",
        "outputId": "6391aec2-f0b2-4512-ec6c-c3e83bacfeeb"
      },
      "execution_count": 1,
      "outputs": [
        {
          "output_type": "stream",
          "name": "stdout",
          "text": [
            "Help on class enumerate in module builtins:\n",
            "\n",
            "class enumerate(object)\n",
            " |  enumerate(iterable, start=0)\n",
            " |\n",
            " |  Return an enumerate object.\n",
            " |\n",
            " |    iterable\n",
            " |      an object supporting iteration\n",
            " |\n",
            " |  The enumerate object yields pairs containing a count (from start, which\n",
            " |  defaults to zero) and a value yielded by the iterable argument.\n",
            " |\n",
            " |  enumerate is useful for obtaining an indexed list:\n",
            " |      (0, seq[0]), (1, seq[1]), (2, seq[2]), ...\n",
            " |\n",
            " |  Methods defined here:\n",
            " |\n",
            " |  __getattribute__(self, name, /)\n",
            " |      Return getattr(self, name).\n",
            " |\n",
            " |  __iter__(self, /)\n",
            " |      Implement iter(self).\n",
            " |\n",
            " |  __next__(self, /)\n",
            " |      Implement next(self).\n",
            " |\n",
            " |  __reduce__(...)\n",
            " |      Return state information for pickling.\n",
            " |\n",
            " |  ----------------------------------------------------------------------\n",
            " |  Class methods defined here:\n",
            " |\n",
            " |  __class_getitem__(...)\n",
            " |      See PEP 585\n",
            " |\n",
            " |  ----------------------------------------------------------------------\n",
            " |  Static methods defined here:\n",
            " |\n",
            " |  __new__(*args, **kwargs)\n",
            " |      Create and return a new object.  See help(type) for accurate signature.\n",
            "\n"
          ]
        }
      ]
    },
    {
      "cell_type": "markdown",
      "source": [
        "## Assinatura da Função\n",
        "\n",
        "\n",
        "\n",
        "```\n",
        "enumerate(iterable, start=0)\n",
        "```\n",
        "\n",
        "`iterable` → qualquer objeto que possa ser iterado, como list, tuple, str, set, etc.\n",
        "\n",
        "Exemplo: [\"a\", \"b\", \"c\"], (1,2,3), \"hello\".\n",
        "\n",
        "`start` → o valor inicial do índice (default é 0).\n",
        "\n",
        "Permite começar a contagem de qualquer número, por exemplo start=1 para começar a contagem em 1.\n"
      ],
      "metadata": {
        "id": "teYxI4_Xm6Fq"
      }
    },
    {
      "cell_type": "markdown",
      "source": [
        "## Exemplos Básicos"
      ],
      "metadata": {
        "id": "HH5clMNwpYOq"
      }
    },
    {
      "cell_type": "code",
      "execution_count": 2,
      "metadata": {
        "colab": {
          "base_uri": "https://localhost:8080/"
        },
        "id": "cNAZtxGcmodV",
        "outputId": "d36c5c2c-8185-47dc-ae16-86756afbb9c9"
      },
      "outputs": [
        {
          "output_type": "stream",
          "name": "stdout",
          "text": [
            "[(0, 'maçã'), (1, 'banana'), (2, 'cereja')]\n",
            "[(1, 'maçã'), (2, 'banana'), (3, 'cereja')]\n"
          ]
        }
      ],
      "source": [
        "frutas = [\"maçã\", \"banana\", \"cereja\"]\n",
        "\n",
        "# Índice padrão começa em 0\n",
        "print(list(enumerate(frutas)))\n",
        "# [(0, 'maçã'), (1, 'banana'), (2, 'cereja')]\n",
        "\n",
        "# Índice começa em 1\n",
        "print(list(enumerate(frutas, start=1)))\n",
        "# [(1, 'maçã'), (2, 'banana'), (3, 'cereja')]"
      ]
    },
    {
      "cell_type": "markdown",
      "source": [
        "# Estrutura de Dados"
      ],
      "metadata": {
        "id": "w6Odlp5OqG6a"
      }
    },
    {
      "cell_type": "markdown",
      "source": [
        "## Tupla"
      ],
      "metadata": {
        "id": "LtBI5k7EqJqz"
      }
    },
    {
      "cell_type": "code",
      "source": [
        "numeros = (10, 20, 30)\n",
        "\n",
        "for i, num in enumerate(numeros, start=1):\n",
        "    print(i, num)\n",
        "\n",
        "# Resultado:\n",
        "# 1 10\n",
        "# 2 20\n",
        "# 3 30"
      ],
      "metadata": {
        "colab": {
          "base_uri": "https://localhost:8080/"
        },
        "id": "LO1rai-5qMk7",
        "outputId": "22a0db2c-c896-46dd-ff8f-6ae8acd826df"
      },
      "execution_count": 3,
      "outputs": [
        {
          "output_type": "stream",
          "name": "stdout",
          "text": [
            "1 10\n",
            "2 20\n",
            "3 30\n"
          ]
        }
      ]
    },
    {
      "cell_type": "markdown",
      "source": [
        "## string"
      ],
      "metadata": {
        "id": "Yq4JMHtxqgWd"
      }
    },
    {
      "cell_type": "code",
      "source": [
        "texto = \"abc\"\n",
        "\n",
        "for i, letra in enumerate(texto):\n",
        "    print(i, letra)\n",
        "\n",
        "# Resultado:\n",
        "# 0 a\n",
        "# 1 b\n",
        "# 2 c"
      ],
      "metadata": {
        "colab": {
          "base_uri": "https://localhost:8080/"
        },
        "id": "2LnlvBbgqiI_",
        "outputId": "ed9274aa-32c6-49c9-c223-4c833b7f5ff7"
      },
      "execution_count": 4,
      "outputs": [
        {
          "output_type": "stream",
          "name": "stdout",
          "text": [
            "0 a\n",
            "1 b\n",
            "2 c\n"
          ]
        }
      ]
    },
    {
      "cell_type": "markdown",
      "source": [
        "## set"
      ],
      "metadata": {
        "id": "cl-hmu4Rq6CO"
      }
    },
    {
      "cell_type": "code",
      "source": [
        "conjunto = {\"x\", \"y\", \"z\"}\n",
        "\n",
        "for i, val in enumerate(conjunto):\n",
        "    print(i, val)\n",
        "\n",
        "# Resultado: a ordem é arbitrária, porque sets não têm ordem"
      ],
      "metadata": {
        "colab": {
          "base_uri": "https://localhost:8080/"
        },
        "id": "5ebODXDdq71P",
        "outputId": "e46f3455-159c-40af-f7d6-7adaac161e91"
      },
      "execution_count": 8,
      "outputs": [
        {
          "output_type": "stream",
          "name": "stdout",
          "text": [
            "0 y\n",
            "1 x\n",
            "2 z\n"
          ]
        }
      ]
    },
    {
      "cell_type": "markdown",
      "source": [
        "## dict"
      ],
      "metadata": {
        "id": "7-CEpqmNrebg"
      }
    },
    {
      "cell_type": "markdown",
      "source": [
        "por padrão as chaves são avaliadas"
      ],
      "metadata": {
        "id": "cBzVP3jyrhY8"
      }
    },
    {
      "cell_type": "code",
      "source": [
        "d = {\"a\": 1, \"b\": 2, \"c\": 3}\n",
        "\n",
        "for i, chave in enumerate(d):\n",
        "    print(i, chave)\n",
        "\n",
        "# Resultado:\n",
        "# 0 a\n",
        "# 1 b\n",
        "# 2 c"
      ],
      "metadata": {
        "colab": {
          "base_uri": "https://localhost:8080/"
        },
        "id": "DUHPLOUprkSx",
        "outputId": "1053fa22-9cd3-4a4a-f34e-3a5ebffa1901"
      },
      "execution_count": 9,
      "outputs": [
        {
          "output_type": "stream",
          "name": "stdout",
          "text": [
            "0 a\n",
            "1 b\n",
            "2 c\n"
          ]
        }
      ]
    },
    {
      "cell_type": "markdown",
      "source": [
        "Acessando os valores"
      ],
      "metadata": {
        "id": "AUnhhU5XrzNs"
      }
    },
    {
      "cell_type": "code",
      "source": [
        "for i, chave in enumerate(d.values()):\n",
        "    print(i, chave)"
      ],
      "metadata": {
        "colab": {
          "base_uri": "https://localhost:8080/"
        },
        "id": "n_SsHPpsr6dU",
        "outputId": "5cc79366-90d1-45e8-e671-a00943937f4a"
      },
      "execution_count": 10,
      "outputs": [
        {
          "output_type": "stream",
          "name": "stdout",
          "text": [
            "0 1\n",
            "1 2\n",
            "2 3\n"
          ]
        }
      ]
    },
    {
      "cell_type": "markdown",
      "source": [
        "acessando a tupla chave e valor"
      ],
      "metadata": {
        "id": "Q3aCnzqssJwD"
      }
    },
    {
      "cell_type": "code",
      "source": [
        "for i, chave in enumerate(d.items()):\n",
        "    print(i, chave)"
      ],
      "metadata": {
        "colab": {
          "base_uri": "https://localhost:8080/"
        },
        "id": "dy-Mmnd-sN5V",
        "outputId": "a6d88da3-98be-4bb4-b5dc-3daea4df370d"
      },
      "execution_count": 11,
      "outputs": [
        {
          "output_type": "stream",
          "name": "stdout",
          "text": [
            "0 ('a', 1)\n",
            "1 ('b', 2)\n",
            "2 ('c', 3)\n"
          ]
        }
      ]
    },
    {
      "cell_type": "markdown",
      "source": [
        "## Iteradores e geradores (conceito lazy)"
      ],
      "metadata": {
        "id": "seBhoGuXsdnk"
      }
    },
    {
      "cell_type": "code",
      "source": [
        "gen = (x**2 for x in range(3))\n",
        "\n",
        "for i, val in enumerate(gen):\n",
        "    print(i, val)\n",
        "\n",
        "# Resultado:\n",
        "# 0 0\n",
        "# 1 1\n",
        "# 2 4"
      ],
      "metadata": {
        "colab": {
          "base_uri": "https://localhost:8080/"
        },
        "id": "N-xfze8CsgSW",
        "outputId": "09e630c4-f90f-47fe-c9bd-82a8785a9789"
      },
      "execution_count": 12,
      "outputs": [
        {
          "output_type": "stream",
          "name": "stdout",
          "text": [
            "0 0\n",
            "1 1\n",
            "2 4\n"
          ]
        }
      ]
    }
  ]
}