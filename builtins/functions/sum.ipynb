{
  "nbformat": 4,
  "nbformat_minor": 0,
  "metadata": {
    "colab": {
      "provenance": [],
      "toc_visible": true
    },
    "kernelspec": {
      "name": "python3",
      "display_name": "Python 3"
    },
    "language_info": {
      "name": "python"
    }
  },
  "cells": [
    {
      "cell_type": "markdown",
      "source": [
        "# Introdução"
      ],
      "metadata": {
        "id": "SHQuQJLhO6iW"
      }
    },
    {
      "cell_type": "markdown",
      "source": [
        "## Conceito\n",
        "\n",
        "A função `sum` é um builtin em Python usada para somar todos os elementos de um iterável (lista, tupla, conjunto etc.).\n",
        "\n",
        "Opcionalmente, você pode fornecer um valor inicial (start), que será somado ao total.\n",
        "\n",
        "➝ Muito utilizada em maratonas quando é necessário obter a soma de valores de uma coleção rapidamente.\n",
        "\n",
        "\n",
        "**Observações rápidas:**\n",
        "\n",
        "`sum` funciona apenas com tipos numéricos ou elementos que suportem +.\n",
        "\n",
        "Não deve ser usado para concatenação de strings (existe `''.join()` para isso)."
      ],
      "metadata": {
        "id": "yznYknvvPC82"
      }
    },
    {
      "cell_type": "markdown",
      "source": [
        "## Documentação\n",
        "\n",
        "Para acessar a documentação oficial diretamente no terminal python, use:"
      ],
      "metadata": {
        "id": "9SXTPl2jQSaF"
      }
    },
    {
      "cell_type": "code",
      "source": [
        "help(sum)"
      ],
      "metadata": {
        "colab": {
          "base_uri": "https://localhost:8080/"
        },
        "id": "Tla_DXv-QTm6",
        "outputId": "7a1daac4-f1cd-46f6-9445-5468753fc16a"
      },
      "execution_count": 1,
      "outputs": [
        {
          "output_type": "stream",
          "name": "stdout",
          "text": [
            "Help on built-in function sum in module builtins:\n",
            "\n",
            "sum(iterable, /, start=0)\n",
            "    Return the sum of a 'start' value (default: 0) plus an iterable of numbers\n",
            "\n",
            "    When the iterable is empty, return the start value.\n",
            "    This function is intended specifically for use with numeric values and may\n",
            "    reject non-numeric types.\n",
            "\n"
          ]
        }
      ]
    },
    {
      "cell_type": "markdown",
      "source": [
        "## Assinatura da Função\n",
        "\n",
        "\n",
        "```\n",
        "sum(iterable, /, start=0)\n",
        "```\n",
        "\n",
        "`iterable` → sequência de elementos somáveis (números inteiros, floats, objetos com __add__).\n",
        "\n",
        "`start` (opcional) → valor inicial (padrão = 0)."
      ],
      "metadata": {
        "id": "_G7M1lqmP5o4"
      }
    },
    {
      "cell_type": "markdown",
      "source": [
        "## Exemplos Básicos"
      ],
      "metadata": {
        "id": "UeMXhlqpQ1iJ"
      }
    },
    {
      "cell_type": "code",
      "execution_count": 2,
      "metadata": {
        "colab": {
          "base_uri": "https://localhost:8080/"
        },
        "id": "4GuFDk6aO4K7",
        "outputId": "7941d449-bd56-4782-b7a9-3f398894cac4"
      },
      "outputs": [
        {
          "output_type": "stream",
          "name": "stdout",
          "text": [
            "15\n",
            "7.5\n",
            "25\n"
          ]
        }
      ],
      "source": [
        "# Lista de inteiros\n",
        "nums = [1, 2, 3, 4, 5]\n",
        "print(sum(nums))  # 15\n",
        "\n",
        "# Lista de floats\n",
        "floats = [1.5, 2.5, 3.5]\n",
        "print(sum(floats))  # 7.5\n",
        "\n",
        "# Usando start (valor inicial)\n",
        "print(sum(nums, 10))  # 25 (soma da lista + 10)"
      ]
    }
  ]
}