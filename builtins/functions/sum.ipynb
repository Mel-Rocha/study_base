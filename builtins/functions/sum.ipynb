{
  "nbformat": 4,
  "nbformat_minor": 0,
  "metadata": {
    "colab": {
      "provenance": [],
      "toc_visible": true
    },
    "kernelspec": {
      "name": "python3",
      "display_name": "Python 3"
    },
    "language_info": {
      "name": "python"
    }
  },
  "cells": [
    {
      "cell_type": "markdown",
      "source": [
        "# Introdução"
      ],
      "metadata": {
        "id": "SHQuQJLhO6iW"
      }
    },
    {
      "cell_type": "markdown",
      "source": [
        "## Conceito\n",
        "\n",
        "A função `sum` é um builtin em Python usada para somar todos os elementos de um iterável (lista, tupla, conjunto etc.).\n",
        "\n",
        "Opcionalmente, você pode fornecer um valor inicial (start), que será somado ao total.\n",
        "\n",
        "➝ Muito utilizada em maratonas quando é necessário obter a soma de valores de uma coleção rapidamente.\n",
        "\n",
        "\n",
        "**Observações rápidas:**\n",
        "\n",
        "`sum` funciona apenas com tipos numéricos ou elementos que suportem +.\n",
        "\n",
        "Não deve ser usado para concatenação de strings (existe `''.join()` para isso)."
      ],
      "metadata": {
        "id": "yznYknvvPC82"
      }
    },
    {
      "cell_type": "markdown",
      "source": [
        "## Documentação\n",
        "\n",
        "Para acessar a documentação oficial diretamente no terminal python, use:"
      ],
      "metadata": {
        "id": "9SXTPl2jQSaF"
      }
    },
    {
      "cell_type": "code",
      "source": [
        "help(sum)"
      ],
      "metadata": {
        "colab": {
          "base_uri": "https://localhost:8080/"
        },
        "id": "Tla_DXv-QTm6",
        "outputId": "7a1daac4-f1cd-46f6-9445-5468753fc16a"
      },
      "execution_count": null,
      "outputs": [
        {
          "output_type": "stream",
          "name": "stdout",
          "text": [
            "Help on built-in function sum in module builtins:\n",
            "\n",
            "sum(iterable, /, start=0)\n",
            "    Return the sum of a 'start' value (default: 0) plus an iterable of numbers\n",
            "\n",
            "    When the iterable is empty, return the start value.\n",
            "    This function is intended specifically for use with numeric values and may\n",
            "    reject non-numeric types.\n",
            "\n"
          ]
        }
      ]
    },
    {
      "cell_type": "markdown",
      "source": [
        "## Assinatura da Função\n",
        "\n",
        "\n",
        "```\n",
        "sum(iterable, /, start=0)\n",
        "```\n",
        "\n",
        "`iterable` → sequência de elementos somáveis (números inteiros, floats, objetos com __add__).\n",
        "\n",
        "`start` (opcional) → valor inicial (padrão = 0)."
      ],
      "metadata": {
        "id": "_G7M1lqmP5o4"
      }
    },
    {
      "cell_type": "markdown",
      "source": [
        "## Exemplos Básicos"
      ],
      "metadata": {
        "id": "UeMXhlqpQ1iJ"
      }
    },
    {
      "cell_type": "code",
      "execution_count": null,
      "metadata": {
        "colab": {
          "base_uri": "https://localhost:8080/"
        },
        "id": "4GuFDk6aO4K7",
        "outputId": "7941d449-bd56-4782-b7a9-3f398894cac4"
      },
      "outputs": [
        {
          "output_type": "stream",
          "name": "stdout",
          "text": [
            "15\n",
            "7.5\n",
            "25\n"
          ]
        }
      ],
      "source": [
        "# Lista de inteiros\n",
        "nums = [1, 2, 3, 4, 5]\n",
        "print(sum(nums))  # 15\n",
        "\n",
        "# Lista de floats\n",
        "floats = [1.5, 2.5, 3.5]\n",
        "print(sum(floats))  # 7.5\n",
        "\n",
        "# Usando start (valor inicial)\n",
        "print(sum(nums, 10))  # 25 (soma da lista + 10)"
      ]
    },
    {
      "cell_type": "markdown",
      "source": [
        "# param: `start`"
      ],
      "metadata": {
        "id": "g0h9T8pES1Nk"
      }
    },
    {
      "cell_type": "markdown",
      "source": [
        "## Conceito\n",
        "\n",
        "O `start` é um valor inicial que será adicionado ao resultado da soma.\n",
        "\n",
        "Por padrão, `start=0`.\n",
        "\n",
        "Pode ser usado tanto para mudar o \"ponto de partida\" da soma, quanto para mudar o tipo do resultado final."
      ],
      "metadata": {
        "id": "nbforsvPS6s_"
      }
    },
    {
      "cell_type": "markdown",
      "source": [
        "## Regras importantes\n",
        "\n",
        "O `start `deve ser compatível com os elementos do iterável.\n",
        "\n",
        "Ex.: se os elementos são números, o `start` também deve ser numérico.\n",
        "\n",
        "Se o tipo não for compatível, ocorre erro de `TypeError`.\n",
        "\n",
        "O valor final será:\n",
        "\n",
        "\n",
        "```\n",
        "sum(iterable) + start\n",
        "```\n"
      ],
      "metadata": {
        "id": "YHdLaGQBTHI1"
      }
    },
    {
      "cell_type": "markdown",
      "source": [
        "## Exemplos Práticos"
      ],
      "metadata": {
        "id": "Zu7OcCQ2UBOS"
      }
    },
    {
      "cell_type": "code",
      "source": [
        "# Usando start para somar a partir de um valor inicial\n",
        "nums = [1, 2, 3]\n",
        "print(sum(nums, 10))  # 16 (10 + 1 + 2 + 3)\n",
        "\n",
        "# Usando start = 100\n",
        "print(sum(nums, 100))  # 106\n",
        "\n",
        "# Usando start negativo\n",
        "print(sum(nums, -5))  # 1 ( (1+2+3) - 5 )\n",
        "\n",
        "# Usando start com floats\n",
        "floats = [0.5, 1.5]\n",
        "print(sum(floats, 2.0))  # 4.0"
      ],
      "metadata": {
        "colab": {
          "base_uri": "https://localhost:8080/"
        },
        "id": "w59RgItXUD7t",
        "outputId": "d8a223db-d319-4c7a-ec47-6c6185285380"
      },
      "execution_count": 3,
      "outputs": [
        {
          "output_type": "stream",
          "name": "stdout",
          "text": [
            "16\n",
            "106\n",
            "1\n",
            "4.0\n"
          ]
        }
      ]
    },
    {
      "cell_type": "markdown",
      "source": [
        "## Mudando o tipo do resultado\n",
        "\n",
        "Como `start` define o ponto inicial, ele também pode forçar o tipo do resultado:\n",
        "\n",
        "Aqui, 0.0 força o resultado a ser float."
      ],
      "metadata": {
        "id": "ruaDn5K8U4qB"
      }
    },
    {
      "cell_type": "code",
      "source": [
        "nums = [1, 2, 3]\n",
        "print(sum(nums))       # 6   (int)\n",
        "print(sum(nums, 0.0))  # 6.0 (float)"
      ],
      "metadata": {
        "colab": {
          "base_uri": "https://localhost:8080/"
        },
        "id": "1NuFmGZ8U9IR",
        "outputId": "cc26c7bd-c959-47e7-e16b-578a810c7555"
      },
      "execution_count": 4,
      "outputs": [
        {
          "output_type": "stream",
          "name": "stdout",
          "text": [
            "6\n",
            "6.0\n"
          ]
        }
      ]
    }
  ]
}