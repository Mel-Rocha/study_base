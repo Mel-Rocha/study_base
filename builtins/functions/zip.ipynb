{
  "nbformat": 4,
  "nbformat_minor": 0,
  "metadata": {
    "colab": {
      "provenance": [],
      "toc_visible": true
    },
    "kernelspec": {
      "name": "python3",
      "display_name": "Python 3"
    },
    "language_info": {
      "name": "python"
    }
  },
  "cells": [
    {
      "cell_type": "markdown",
      "source": [
        "# Introdução"
      ],
      "metadata": {
        "id": "0jh7oPWXC-Ny"
      }
    },
    {
      "cell_type": "markdown",
      "source": [
        "## Conceito\n",
        "\n",
        "A função zip combina elementos de dois ou mais iteráveis (listas, tuplas, strings, etc.), criando um iterador de tuplas, onde a i-ésima tupla contém o i-ésimo elemento de cada iterável.\n",
        "\n",
        "Em outras palavras:\n",
        "É como fechar um zíper: cada dente de um lado se conecta com o dente correspondente do outro."
      ],
      "metadata": {
        "id": "f8BSRnGlDDBj"
      }
    },
    {
      "cell_type": "markdown",
      "source": [
        "## Documentação\n",
        "\n",
        "Para acessar a documentação oficial diretamente no terminal python, use:"
      ],
      "metadata": {
        "id": "y_o72wrTDElN"
      }
    },
    {
      "cell_type": "code",
      "source": [
        "help(zip)"
      ],
      "metadata": {
        "colab": {
          "base_uri": "https://localhost:8080/"
        },
        "id": "qKDsJzupDJxd",
        "outputId": "263892b8-f0de-4c37-aab8-a982178f66cc"
      },
      "execution_count": null,
      "outputs": [
        {
          "output_type": "stream",
          "name": "stdout",
          "text": [
            "Help on class zip in module builtins:\n",
            "\n",
            "class zip(object)\n",
            " |  zip(*iterables, strict=False) --> Yield tuples until an input is exhausted.\n",
            " |\n",
            " |     >>> list(zip('abcdefg', range(3), range(4)))\n",
            " |     [('a', 0, 0), ('b', 1, 1), ('c', 2, 2)]\n",
            " |\n",
            " |  The zip object yields n-length tuples, where n is the number of iterables\n",
            " |  passed as positional arguments to zip().  The i-th element in every tuple\n",
            " |  comes from the i-th iterable argument to zip().  This continues until the\n",
            " |  shortest argument is exhausted.\n",
            " |\n",
            " |  If strict is true and one of the arguments is exhausted before the others,\n",
            " |  raise a ValueError.\n",
            " |\n",
            " |  Methods defined here:\n",
            " |\n",
            " |  __getattribute__(self, name, /)\n",
            " |      Return getattr(self, name).\n",
            " |\n",
            " |  __iter__(self, /)\n",
            " |      Implement iter(self).\n",
            " |\n",
            " |  __next__(self, /)\n",
            " |      Implement next(self).\n",
            " |\n",
            " |  __reduce__(...)\n",
            " |      Return state information for pickling.\n",
            " |\n",
            " |  __setstate__(...)\n",
            " |      Set state information for unpickling.\n",
            " |\n",
            " |  ----------------------------------------------------------------------\n",
            " |  Static methods defined here:\n",
            " |\n",
            " |  __new__(*args, **kwargs)\n",
            " |      Create and return a new object.  See help(type) for accurate signature.\n",
            "\n"
          ]
        }
      ]
    },
    {
      "cell_type": "markdown",
      "source": [
        "## Assinatura da Função\n",
        "\n",
        "\n",
        "```\n",
        "zip(*iterables, strict=False)\n",
        "```\n",
        "\n",
        "`*iterables `→ um ou mais objetos iteráveis.\n",
        "\n",
        "`strict` (padrão: False) → controla se o zip deve exigir que todos os iteráveis tenham o mesmo tamanho."
      ],
      "metadata": {
        "id": "BWlw3pd4DKMD"
      }
    },
    {
      "cell_type": "markdown",
      "source": [
        "## Exemplos Básicos"
      ],
      "metadata": {
        "id": "KHGeH-AwGPtt"
      }
    },
    {
      "cell_type": "code",
      "source": [
        "# Exemplo 1: duas listas do mesmo tamanho\n",
        "a = [1, 2, 3]\n",
        "b = ['a', 'b', 'c']\n",
        "print(list(zip(a, b)))\n",
        "# Saída: [(1, 'a'), (2, 'b'), (3, 'c')]\n",
        "\n",
        "# Exemplo 2: listas de tamanhos diferentes\n",
        "a = [1, 2, 3, 4]\n",
        "b = ['x', 'y']\n",
        "print(list(zip(a, b)))\n",
        "# Saída: [(1, 'x'), (2, 'y')]"
      ],
      "metadata": {
        "colab": {
          "base_uri": "https://localhost:8080/"
        },
        "id": "pSBM1-d6GSYP",
        "outputId": "249a66d3-db40-4978-847b-f578287877c5"
      },
      "execution_count": null,
      "outputs": [
        {
          "output_type": "stream",
          "name": "stdout",
          "text": [
            "[(1, 'a'), (2, 'b'), (3, 'c')]\n",
            "[(1, 'x'), (2, 'y')]\n"
          ]
        }
      ]
    },
    {
      "cell_type": "markdown",
      "source": [
        "# params: strict"
      ],
      "metadata": {
        "id": "oOsaC1k1U0qF"
      }
    },
    {
      "cell_type": "markdown",
      "source": [
        "## Conceito\n",
        "\n",
        "O parâmetro strict foi introduzido no Python 3.10 e controla se o `zip` deve exigir que todos os iteráveis tenham o mesmo tamanho.\n",
        "\n",
        "`strict=False` (padrão): o zip corta os iteráveis ao tamanho do menor.\n",
        "\n",
        "`strict=True`: o zip lança um `ValueError` se algum iterável tiver tamanho diferente."
      ],
      "metadata": {
        "id": "bSwGmTj9U5in"
      }
    },
    {
      "cell_type": "markdown",
      "source": [
        "## Exemplos Práticos"
      ],
      "metadata": {
        "id": "Wx_8j_KfVREP"
      }
    },
    {
      "cell_type": "code",
      "source": [
        "a = [1, 2, 3]\n",
        "b = ['x', 'y']\n",
        "\n",
        "# strict=False (default)\n",
        "print(list(zip(a, b)))\n",
        "# Saída: [(1, 'x'), (2, 'y')]  -> corta ao tamanho do menor\n",
        "\n",
        "# strict=True\n",
        "try:\n",
        "    print(list(zip(a, b, strict=True)))\n",
        "except ValueError as e:\n",
        "    print(\"Erro:\", e)\n",
        "# Saída: Erro: zip() argument 2 is shorter than argument 1"
      ],
      "metadata": {
        "colab": {
          "base_uri": "https://localhost:8080/"
        },
        "id": "wW_6Oi-WVWYs",
        "outputId": "8024314d-9750-45cd-fd99-3621388714c7"
      },
      "execution_count": null,
      "outputs": [
        {
          "output_type": "stream",
          "name": "stdout",
          "text": [
            "[(1, 'x'), (2, 'y')]\n",
            "Erro: zip() argument 2 is shorter than argument 1\n"
          ]
        }
      ]
    },
    {
      "cell_type": "markdown",
      "source": [
        "## Desenho Mental\n",
        "\n",
        "\n",
        "\n",
        "```\n",
        "a: [1, 2, 3]\n",
        "b: ['x', 'y']\n",
        "\n",
        "strict=False -> zip corta no menor comprimento -> [(1,'x'), (2,'y')]\n",
        "strict=True  -> zip exige igualdade -> ValueError\n",
        "\n",
        "```\n",
        "\n"
      ],
      "metadata": {
        "id": "d-kIYl2PWHmA"
      }
    },
    {
      "cell_type": "markdown",
      "source": [
        "# Estruturas de Dados"
      ],
      "metadata": {
        "id": "ChjTfWjOWjBv"
      }
    },
    {
      "cell_type": "markdown",
      "source": [
        "## Listas simples"
      ],
      "metadata": {
        "id": "561SDlK6WluG"
      }
    },
    {
      "cell_type": "markdown",
      "source": [
        "Observação: combina elementos de mesmo índice."
      ],
      "metadata": {
        "id": "_CxgNQMTXhkG"
      }
    },
    {
      "cell_type": "code",
      "source": [
        "a = [1, 2, 3]\n",
        "b = ['a', 'b', 'c']\n",
        "\n",
        "z = zip(a, b)\n",
        "print(list(z))\n",
        "# [(1, 'a'), (2, 'b'), (3, 'c')]"
      ],
      "metadata": {
        "colab": {
          "base_uri": "https://localhost:8080/"
        },
        "id": "LoSDZk8yXlpV",
        "outputId": "907d19be-2ac2-42bb-ca85-192cb9238ff9"
      },
      "execution_count": null,
      "outputs": [
        {
          "output_type": "stream",
          "name": "stdout",
          "text": [
            "[(1, 'a'), (2, 'b'), (3, 'c')]\n"
          ]
        }
      ]
    },
    {
      "cell_type": "markdown",
      "source": [
        "## Tuplas"
      ],
      "metadata": {
        "id": "DwBpV8QKXzck"
      }
    },
    {
      "cell_type": "code",
      "source": [
        "x = (10, 20, 30)\n",
        "y = ('x', 'y', 'z')\n",
        "\n",
        "z = zip(x, y)\n",
        "print(list(z))\n",
        "# [(10, 'x'), (20, 'y'), (30, 'z')]"
      ],
      "metadata": {
        "colab": {
          "base_uri": "https://localhost:8080/"
        },
        "id": "mugJOGrRX2Aw",
        "outputId": "85b6e024-86ec-4073-94ce-de8e711a3d3f"
      },
      "execution_count": null,
      "outputs": [
        {
          "output_type": "stream",
          "name": "stdout",
          "text": [
            "[(10, 'x'), (20, 'y'), (30, 'z')]\n"
          ]
        }
      ]
    },
    {
      "cell_type": "markdown",
      "source": [
        "## Strings"
      ],
      "metadata": {
        "id": "2jWTpo2mYfln"
      }
    },
    {
      "cell_type": "markdown",
      "source": [
        "Observação: strings são iteráveis, então zip percorre caractere por caractere."
      ],
      "metadata": {
        "id": "5Gzq32s3Yjvm"
      }
    },
    {
      "cell_type": "code",
      "source": [
        "s1 = \"abc\"\n",
        "s2 = \"123\"\n",
        "\n",
        "z = zip(s1, s2)\n",
        "print(list(z))\n",
        "# [('a', '1'), ('b', '2'), ('c', '3')]"
      ],
      "metadata": {
        "colab": {
          "base_uri": "https://localhost:8080/"
        },
        "id": "jLcpmxWIYnr1",
        "outputId": "b7ffe963-2d4e-415a-84f8-728356fa12da"
      },
      "execution_count": null,
      "outputs": [
        {
          "output_type": "stream",
          "name": "stdout",
          "text": [
            "[('a', '1'), ('b', '2'), ('c', '3')]\n"
          ]
        }
      ]
    },
    {
      "cell_type": "markdown",
      "source": [
        "## sets (conjuntos)"
      ],
      "metadata": {
        "id": "sqsYXoMCY7cs"
      }
    },
    {
      "cell_type": "markdown",
      "source": [
        "Importante: sets não têm ordem garantida, então o pareamento pode variar."
      ],
      "metadata": {
        "id": "3eYbvK3JY-ow"
      }
    },
    {
      "cell_type": "code",
      "source": [
        "set1 = {1, 2, 3}\n",
        "set2 = {'x', 'y', 'z'}\n",
        "\n",
        "z = zip(set1, set2)\n",
        "print(list(z))\n",
        "# Exemplo de saída: [(1, 'x'), (2, 'y'), (3, 'z')]"
      ],
      "metadata": {
        "colab": {
          "base_uri": "https://localhost:8080/"
        },
        "id": "Hbf2xmE4ZBAi",
        "outputId": "8a742931-0ded-4e91-8968-e7f3b6409840"
      },
      "execution_count": null,
      "outputs": [
        {
          "output_type": "stream",
          "name": "stdout",
          "text": [
            "[(1, 'y'), (2, 'x'), (3, 'z')]\n"
          ]
        }
      ]
    },
    {
      "cell_type": "markdown",
      "source": [
        "## Dicionários"
      ],
      "metadata": {
        "id": "Xex_iJgBZb42"
      }
    },
    {
      "cell_type": "markdown",
      "source": [
        "por padrão as **chaves** serão percorridas"
      ],
      "metadata": {
        "id": "mgr7hjJoZc1l"
      }
    },
    {
      "cell_type": "code",
      "source": [
        "d1 = {'a': 1, 'b': 2}\n",
        "d2 = {'x': 10, 'y': 20}\n",
        "\n",
        "z = zip(d1, d2)\n",
        "print(list(z))\n",
        "# [('a', 'x'), ('b', 'y')]"
      ],
      "metadata": {
        "colab": {
          "base_uri": "https://localhost:8080/"
        },
        "id": "6t9q4OJuZgyg",
        "outputId": "f926bfa4-68fd-458d-b9e3-f4e8379aeb4a"
      },
      "execution_count": null,
      "outputs": [
        {
          "output_type": "stream",
          "name": "stdout",
          "text": [
            "[('a', 'x'), ('b', 'y')]\n"
          ]
        }
      ]
    },
    {
      "cell_type": "markdown",
      "source": [
        "Se quisermos **valores**:"
      ],
      "metadata": {
        "id": "8vUdzv8MZlso"
      }
    },
    {
      "cell_type": "code",
      "source": [
        "z = zip(d1.values(), d2.values())\n",
        "print(list(z))\n",
        "# [(1, 10), (2, 20)]"
      ],
      "metadata": {
        "colab": {
          "base_uri": "https://localhost:8080/"
        },
        "id": "IHOvpoHlZoDy",
        "outputId": "8f6aa2d0-403a-4abf-98f6-7acd7ed8200c"
      },
      "execution_count": null,
      "outputs": [
        {
          "output_type": "stream",
          "name": "stdout",
          "text": [
            "[(1, 10), (2, 20)]\n"
          ]
        }
      ]
    },
    {
      "cell_type": "markdown",
      "source": [
        "## Estruturas aninhadas"
      ],
      "metadata": {
        "id": "9Ygxa2t2a2xs"
      }
    },
    {
      "cell_type": "markdown",
      "source": [
        "Observação: zip combina elementos \"por referência\", mesmo que sejam listas ou tuplas internas."
      ],
      "metadata": {
        "id": "rL9uI0Boa4DL"
      }
    },
    {
      "cell_type": "code",
      "source": [
        "list1 = [[1,2], [3,4]]\n",
        "list2 = [('a','b'), ('c','d')]\n",
        "\n",
        "z = zip(list1, list2)\n",
        "print(list(z))\n",
        "# [([1,2], ('a','b')), ([3,4], ('c','d'))]"
      ],
      "metadata": {
        "colab": {
          "base_uri": "https://localhost:8080/"
        },
        "id": "_uYwbDFMa-zM",
        "outputId": "697b12df-bb9e-4417-a1b8-cc36325edb68"
      },
      "execution_count": null,
      "outputs": [
        {
          "output_type": "stream",
          "name": "stdout",
          "text": [
            "[([1, 2], ('a', 'b')), ([3, 4], ('c', 'd'))]\n"
          ]
        }
      ]
    },
    {
      "cell_type": "markdown",
      "source": [
        "# Objetos Personalizados"
      ],
      "metadata": {
        "id": "ZLHUc5uUcASq"
      }
    },
    {
      "cell_type": "markdown",
      "source": [
        "funciona com objetos personalizados desde que sejam iteráveis. Em Python, isso significa que a classe precisa implementar o método `__iter__` ou o protocolo de sequência (`__getitem__` com índices)."
      ],
      "metadata": {
        "id": "kbNVqPkNcDzN"
      }
    },
    {
      "cell_type": "markdown",
      "source": [
        "## Classe simples com `__iter__`"
      ],
      "metadata": {
        "id": "g7eiYIR3dY7J"
      }
    },
    {
      "cell_type": "code",
      "source": [
        "class MeuContainer:\n",
        "    def __init__(self, dados):\n",
        "        self.dados = dados\n",
        "\n",
        "    def __iter__(self):\n",
        "        return iter(self.dados)  # devolve um iterador da lista interna\n",
        "\n",
        "obj1 = MeuContainer([1,2,3])\n",
        "obj2 = MeuContainer(['a','b','c'])\n",
        "\n",
        "z = zip(obj1, obj2)\n",
        "print(list(z))\n",
        "# [(1, 'a'), (2, 'b'), (3, 'c')]\n"
      ],
      "metadata": {
        "colab": {
          "base_uri": "https://localhost:8080/"
        },
        "id": "d3HmsNbJcLjJ",
        "outputId": "25e6b2a7-82dc-40dd-b79a-0e071263f4cb"
      },
      "execution_count": null,
      "outputs": [
        {
          "output_type": "stream",
          "name": "stdout",
          "text": [
            "[(1, 'a'), (2, 'b'), (3, 'c')]\n"
          ]
        }
      ]
    },
    {
      "cell_type": "markdown",
      "source": [
        "Explicação: zip percorre o iterador retornado por `__iter__` em cada objeto."
      ],
      "metadata": {
        "id": "ZWiUi92QdOBq"
      }
    },
    {
      "cell_type": "markdown",
      "source": [
        "## Classe simples com `__iter__`"
      ],
      "metadata": {
        "id": "x3SeWI3xddSa"
      }
    },
    {
      "cell_type": "code",
      "source": [
        "class MeuContainer2:\n",
        "    def __init__(self, dados):\n",
        "        self.dados = dados\n",
        "\n",
        "    def __getitem__(self, index):\n",
        "        return self.dados[index]  # zip chama indices 0,1,2,...\n",
        "\n",
        "obj1 = MeuContainer2([10,20])\n",
        "obj2 = MeuContainer2(['x','y'])\n",
        "\n",
        "z = zip(obj1, obj2)\n",
        "print(list(z))\n",
        "# [(10,'x'), (20,'y')]"
      ],
      "metadata": {
        "colab": {
          "base_uri": "https://localhost:8080/"
        },
        "id": "MPpwCPopdpsq",
        "outputId": "88f5e31f-0bc9-4c0d-be09-e68cfc19de5c"
      },
      "execution_count": null,
      "outputs": [
        {
          "output_type": "stream",
          "name": "stdout",
          "text": [
            "[(10, 'x'), (20, 'y')]\n"
          ]
        }
      ]
    },
    {
      "cell_type": "markdown",
      "source": [
        "Observação: mesmo sem `__iter__`, objetos que suportam `__getitem__` também funcionam com zip."
      ],
      "metadata": {
        "id": "ToWU8eKDeS7I"
      }
    },
    {
      "cell_type": "markdown",
      "source": [
        "## Caso Não iterável"
      ],
      "metadata": {
        "id": "-yMAmY3_ef4z"
      }
    },
    {
      "cell_type": "code",
      "source": [
        "class NaoIteravel:\n",
        "    def __init__(self, dado):\n",
        "        self.dado = dado\n",
        "\n",
        "obj1 = NaoIteravel(1)\n",
        "obj2 = NaoIteravel(2)\n",
        "\n",
        "zip(obj1, obj2) # TypeError: 'NaoIteravel' object is not iterable"
      ],
      "metadata": {
        "colab": {
          "base_uri": "https://localhost:8080/",
          "height": 176
        },
        "id": "ANLe9gJ_eiqk",
        "outputId": "77aa96a0-5e7c-4562-f98e-153a4d6b1d35"
      },
      "execution_count": null,
      "outputs": [
        {
          "output_type": "error",
          "ename": "TypeError",
          "evalue": "'NaoIteravel' object is not iterable",
          "traceback": [
            "\u001b[0;31m---------------------------------------------------------------------------\u001b[0m",
            "\u001b[0;31mTypeError\u001b[0m                                 Traceback (most recent call last)",
            "\u001b[0;32m/tmp/ipython-input-2766091506.py\u001b[0m in \u001b[0;36m<cell line: 0>\u001b[0;34m()\u001b[0m\n\u001b[1;32m      6\u001b[0m \u001b[0mobj2\u001b[0m \u001b[0;34m=\u001b[0m \u001b[0mNaoIteravel\u001b[0m\u001b[0;34m(\u001b[0m\u001b[0;36m2\u001b[0m\u001b[0;34m)\u001b[0m\u001b[0;34m\u001b[0m\u001b[0;34m\u001b[0m\u001b[0m\n\u001b[1;32m      7\u001b[0m \u001b[0;34m\u001b[0m\u001b[0m\n\u001b[0;32m----> 8\u001b[0;31m \u001b[0mzip\u001b[0m\u001b[0;34m(\u001b[0m\u001b[0mobj1\u001b[0m\u001b[0;34m,\u001b[0m \u001b[0mobj2\u001b[0m\u001b[0;34m)\u001b[0m \u001b[0;31m# TypeError: 'NaoIteravel' object is not iterable\u001b[0m\u001b[0;34m\u001b[0m\u001b[0;34m\u001b[0m\u001b[0m\n\u001b[0m",
            "\u001b[0;31mTypeError\u001b[0m: 'NaoIteravel' object is not iterable"
          ]
        }
      ]
    },
    {
      "cell_type": "markdown",
      "source": [
        "Conclusão: objetos precisam implementar iterabilidade para funcionarem com zip."
      ],
      "metadata": {
        "id": "pzpCRlBces5U"
      }
    },
    {
      "cell_type": "markdown",
      "source": [
        "# Casos de uso reais"
      ],
      "metadata": {
        "id": "tFj7nQxffYFH"
      }
    },
    {
      "cell_type": "markdown",
      "source": [
        "## Comparar duas listas ou arrays\n",
        "\n",
        "Problema típico: ver se duas listas têm correspondência elemento a elemento."
      ],
      "metadata": {
        "id": "vTsanohzfd9X"
      }
    },
    {
      "cell_type": "code",
      "source": [
        "a = [1, 2, 3, 4]\n",
        "b = [1, 2, 0, 4]\n",
        "\n",
        "for x, y in zip(a, b):\n",
        "    if x != y:\n",
        "        print(f\"Divergência: {x} != {y}\")\n",
        "# Divergência: 3 != 0"
      ],
      "metadata": {
        "colab": {
          "base_uri": "https://localhost:8080/"
        },
        "id": "6ccxpJSUfuma",
        "outputId": "fa3a0e10-2fd5-49d1-a621-c25ae7e943d6"
      },
      "execution_count": null,
      "outputs": [
        {
          "output_type": "stream",
          "name": "stdout",
          "text": [
            "Divergência: 3 != 0\n"
          ]
        }
      ]
    },
    {
      "cell_type": "markdown",
      "source": [
        "Uso: comparar strings, listas de posições ou outputs esperados vs. calculados."
      ],
      "metadata": {
        "id": "48pPVXAAf3sQ"
      }
    },
    {
      "cell_type": "markdown",
      "source": [
        "## Somar ou combinar elementos correspondentes"
      ],
      "metadata": {
        "id": "5on7sGOrgVAy"
      }
    },
    {
      "cell_type": "markdown",
      "source": [
        "Problema: dado dois arrays, gerar um array de somas correspondentes."
      ],
      "metadata": {
        "id": "-HNzOlRYgXdn"
      }
    },
    {
      "cell_type": "code",
      "source": [
        "nums1 = [1, 2, 3]\n",
        "nums2 = [4, 5, 6]\n",
        "\n",
        "somas = [x + y for x, y in zip(nums1, nums2)]\n",
        "print(somas)\n",
        "# [5, 7, 9]"
      ],
      "metadata": {
        "colab": {
          "base_uri": "https://localhost:8080/"
        },
        "id": "TW81zvpNfisS",
        "outputId": "e7a7a544-4e8b-4fd5-8869-37650bdc7424"
      },
      "execution_count": null,
      "outputs": [
        {
          "output_type": "stream",
          "name": "stdout",
          "text": [
            "[5, 7, 9]\n"
          ]
        }
      ]
    },
    {
      "cell_type": "markdown",
      "source": [
        "Uso: muito útil para problemas de matemática ou manipulação de arrays."
      ],
      "metadata": {
        "id": "_SvrL3jZgd2D"
      }
    },
    {
      "cell_type": "markdown",
      "source": [
        "## Transposição de matriz"
      ],
      "metadata": {
        "id": "BgLYBzVzgf6m"
      }
    },
    {
      "cell_type": "markdown",
      "source": [
        "Problema: transformar linhas em colunas."
      ],
      "metadata": {
        "id": "Q9aRen0Fgzr4"
      }
    },
    {
      "cell_type": "code",
      "source": [
        "matriz = [\n",
        "    [1, 2, 3],\n",
        "    [4, 5, 6],\n",
        "    [7, 8, 9]\n",
        "]\n",
        "\n",
        "transposta = list(zip(*matriz))\n",
        "print(transposta)\n",
        "# [(1, 4, 7), (2, 5, 8), (3, 6, 9)]"
      ],
      "metadata": {
        "colab": {
          "base_uri": "https://localhost:8080/"
        },
        "id": "ujU__YDwg4O9",
        "outputId": "e759a100-e153-4257-e9ed-ba7a71aabfe1"
      },
      "execution_count": null,
      "outputs": [
        {
          "output_type": "stream",
          "name": "stdout",
          "text": [
            "[(1, 4, 7), (2, 5, 8), (3, 6, 9)]\n"
          ]
        }
      ]
    },
    {
      "cell_type": "markdown",
      "source": [
        "Uso: problemas com matrizes e grid."
      ],
      "metadata": {
        "id": "oJ6iILz9g9x6"
      }
    },
    {
      "cell_type": "markdown",
      "source": [
        "## Problemas com strings e caracteres"
      ],
      "metadata": {
        "id": "RQbMYOj7hbtj"
      }
    },
    {
      "cell_type": "code",
      "source": [
        "s1 = \"abcdef\"\n",
        "s2 = \"abxdxf\"\n",
        "\n",
        "diferencas = [i for i, (c1, c2) in enumerate(zip(s1, s2)) if c1 != c2]\n",
        "print(diferencas)\n",
        "# [2, 4]"
      ],
      "metadata": {
        "colab": {
          "base_uri": "https://localhost:8080/"
        },
        "id": "hXXp_xYJhjDp",
        "outputId": "641cbd1b-28ab-409c-cd3a-a0ed359d2c6d"
      },
      "execution_count": null,
      "outputs": [
        {
          "output_type": "stream",
          "name": "stdout",
          "text": [
            "[2, 4]\n"
          ]
        }
      ]
    },
    {
      "cell_type": "markdown",
      "source": [
        "Uso: sequências, DNA, passwords, matching, etc."
      ],
      "metadata": {
        "id": "HvvRyGB4ko-M"
      }
    },
    {
      "cell_type": "markdown",
      "source": [
        "## Problemas com múltiplos arrays"
      ],
      "metadata": {
        "id": "gcSX4rZelgbC"
      }
    },
    {
      "cell_type": "markdown",
      "source": [
        "Problema: encontrar a soma máxima elemento a elemento de três listas."
      ],
      "metadata": {
        "id": "-cD0U0I5lj0g"
      }
    },
    {
      "cell_type": "code",
      "source": [
        "a = [1,2,3]\n",
        "b = [4,5,6]\n",
        "c = [7,8,9]\n",
        "\n",
        "max_somas = [max(t) for t in zip(a,b,c)]\n",
        "print(max_somas)\n",
        "# [7, 8, 9]"
      ],
      "metadata": {
        "id": "g__ULWvvlnRe",
        "outputId": "59b4967f-afb5-46c2-a515-1a64706a09e7",
        "colab": {
          "base_uri": "https://localhost:8080/"
        }
      },
      "execution_count": null,
      "outputs": [
        {
          "output_type": "stream",
          "name": "stdout",
          "text": [
            "[7, 8, 9]\n"
          ]
        }
      ]
    },
    {
      "cell_type": "markdown",
      "source": [],
      "metadata": {
        "id": "rc6DYSjYiJZc"
      }
    }
  ]
}