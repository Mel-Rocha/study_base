{
  "nbformat": 4,
  "nbformat_minor": 0,
  "metadata": {
    "colab": {
      "provenance": [],
      "toc_visible": true
    },
    "kernelspec": {
      "name": "python3",
      "display_name": "Python 3"
    },
    "language_info": {
      "name": "python"
    }
  },
  "cells": [
    {
      "cell_type": "markdown",
      "source": [
        "# Introdução"
      ],
      "metadata": {
        "id": "VX1jzyUVx78M"
      }
    },
    {
      "cell_type": "markdown",
      "source": [
        "## Conceito\n",
        "\n",
        "`map` é uma função built-in do Python que serve para aplicar uma função a cada elemento de um iterável, produzindo um novo iterável com os resultados.\n",
        "\n",
        "Em outras palavras:\n",
        "\n",
        "Você tem uma função (pode ser lambda, função definida ou built-in)\n",
        "\n",
        "Você tem um iterável (lista, tupla, etc.)\n",
        "\n",
        "`map` aplica a função a cada elemento do iterável e retorna um map object, que é um iterador lazy, ou seja, ele calcula os valores apenas quando você itera sobre ele.\n",
        "\n",
        "**Pontos importantes:**\n",
        "\n",
        "Não altera o iterável original\n",
        "\n",
        "Retorna um iterador, não uma lista — para ver os resultados, você precisa converter (list(), tuple(), etc.)\n",
        "\n",
        "Pode receber mais de um iterável, nesse caso a função deve aceitar o mesmo número de argumentos"
      ],
      "metadata": {
        "id": "3nv0frdMx_yU"
      }
    },
    {
      "cell_type": "markdown",
      "source": [
        "## Documentação\n",
        "\n",
        "Para acessar a documentação oficial diretamente no terminal python, use:"
      ],
      "metadata": {
        "id": "M1ChDZM-yDGl"
      }
    },
    {
      "cell_type": "code",
      "execution_count": 1,
      "metadata": {
        "colab": {
          "base_uri": "https://localhost:8080/"
        },
        "id": "Jst6hvBqx4f4",
        "outputId": "7240948c-3b0e-47e6-fbf1-4023f860ee1a"
      },
      "outputs": [
        {
          "output_type": "stream",
          "name": "stdout",
          "text": [
            "Help on class map in module builtins:\n",
            "\n",
            "class map(object)\n",
            " |  map(func, *iterables) --> map object\n",
            " |\n",
            " |  Make an iterator that computes the function using arguments from\n",
            " |  each of the iterables.  Stops when the shortest iterable is exhausted.\n",
            " |\n",
            " |  Methods defined here:\n",
            " |\n",
            " |  __getattribute__(self, name, /)\n",
            " |      Return getattr(self, name).\n",
            " |\n",
            " |  __iter__(self, /)\n",
            " |      Implement iter(self).\n",
            " |\n",
            " |  __next__(self, /)\n",
            " |      Implement next(self).\n",
            " |\n",
            " |  __reduce__(...)\n",
            " |      Return state information for pickling.\n",
            " |\n",
            " |  ----------------------------------------------------------------------\n",
            " |  Static methods defined here:\n",
            " |\n",
            " |  __new__(*args, **kwargs)\n",
            " |      Create and return a new object.  See help(type) for accurate signature.\n",
            "\n"
          ]
        }
      ],
      "source": [
        "help(map)"
      ]
    },
    {
      "cell_type": "markdown",
      "source": [
        "## Assinatura da Função\n",
        "\n",
        "\n",
        "\n",
        "```\n",
        "map(func, *iterables) --> map object\n",
        "```\n",
        "\n",
        "`func`\n",
        "\n",
        "É a função que será aplicada a cada elemento do iterável.\n",
        "\n",
        "Pode ser uma função definida, uma lambda ou uma função built-in.\n",
        "\n",
        "`*iterables`\n",
        "\n",
        "O `*` significa que você pode passar um ou mais iteráveis.\n",
        "\n",
        "Se passar mais de um iterável, a função func deve aceitar o mesmo número de argumentos.\n",
        "\n",
        "A iteração pára quando o menor iterável termina (comportamento lazy).\n",
        "\n",
        "Retorno: `map object`\n",
        "\n",
        "O resultado é um iterador, não uma lista.\n",
        "\n",
        "Para visualizar os elementos, é preciso converter: list(), tuple(), etc.\n"
      ],
      "metadata": {
        "id": "NvyVlKO8yMKj"
      }
    },
    {
      "cell_type": "markdown",
      "source": [
        "## Exemplos Básicos"
      ],
      "metadata": {
        "id": "AUBrytyyyONY"
      }
    },
    {
      "cell_type": "code",
      "source": [
        "# Função que dobra um número\n",
        "def double(x):\n",
        "    return x * 2\n",
        "\n",
        "nums = [1, 2, 3, 4]\n",
        "\n",
        "# Aplicando a função a cada elemento da lista\n",
        "result = map(double, nums)\n",
        "\n",
        "# O resultado é um iterador\n",
        "print(result)  # <map object at 0x...>\n",
        "\n",
        "# Convertendo para lista para visualizar os valores\n",
        "print(list(result))  # [2, 4, 6, 8]"
      ],
      "metadata": {
        "colab": {
          "base_uri": "https://localhost:8080/"
        },
        "id": "_nCfTWzSyTfF",
        "outputId": "69ba32af-a30d-456b-b131-9ec6fa68862f"
      },
      "execution_count": 2,
      "outputs": [
        {
          "output_type": "stream",
          "name": "stdout",
          "text": [
            "<map object at 0x7e54a139dcc0>\n",
            "[2, 4, 6, 8]\n"
          ]
        }
      ]
    }
  ]
}