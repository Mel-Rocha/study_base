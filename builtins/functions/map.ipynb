{
  "nbformat": 4,
  "nbformat_minor": 0,
  "metadata": {
    "colab": {
      "provenance": [],
      "toc_visible": true
    },
    "kernelspec": {
      "name": "python3",
      "display_name": "Python 3"
    },
    "language_info": {
      "name": "python"
    }
  },
  "cells": [
    {
      "cell_type": "markdown",
      "source": [
        "# Introdução"
      ],
      "metadata": {
        "id": "VX1jzyUVx78M"
      }
    },
    {
      "cell_type": "markdown",
      "source": [
        "## Conceito\n",
        "\n",
        "`map` é uma função built-in do Python que serve para aplicar uma função a cada elemento de um iterável, produzindo um novo iterável com os resultados.\n",
        "\n",
        "Em outras palavras:\n",
        "\n",
        "Você tem uma função (pode ser lambda, função definida ou built-in)\n",
        "\n",
        "Você tem um iterável (lista, tupla, etc.)\n",
        "\n",
        "`map` aplica a função a cada elemento do iterável e retorna um map object, que é um iterador lazy, ou seja, ele calcula os valores apenas quando você itera sobre ele.\n",
        "\n",
        "**Pontos importantes:**\n",
        "\n",
        "Não altera o iterável original\n",
        "\n",
        "Retorna um iterador, não uma lista — para ver os resultados, você precisa converter (list(), tuple(), etc.)\n",
        "\n",
        "Pode receber mais de um iterável, nesse caso a função deve aceitar o mesmo número de argumentos"
      ],
      "metadata": {
        "id": "3nv0frdMx_yU"
      }
    },
    {
      "cell_type": "markdown",
      "source": [
        "## Documentação\n",
        "\n",
        "Para acessar a documentação oficial diretamente no terminal python, use:"
      ],
      "metadata": {
        "id": "M1ChDZM-yDGl"
      }
    },
    {
      "cell_type": "code",
      "execution_count": 1,
      "metadata": {
        "colab": {
          "base_uri": "https://localhost:8080/"
        },
        "id": "Jst6hvBqx4f4",
        "outputId": "7240948c-3b0e-47e6-fbf1-4023f860ee1a"
      },
      "outputs": [
        {
          "output_type": "stream",
          "name": "stdout",
          "text": [
            "Help on class map in module builtins:\n",
            "\n",
            "class map(object)\n",
            " |  map(func, *iterables) --> map object\n",
            " |\n",
            " |  Make an iterator that computes the function using arguments from\n",
            " |  each of the iterables.  Stops when the shortest iterable is exhausted.\n",
            " |\n",
            " |  Methods defined here:\n",
            " |\n",
            " |  __getattribute__(self, name, /)\n",
            " |      Return getattr(self, name).\n",
            " |\n",
            " |  __iter__(self, /)\n",
            " |      Implement iter(self).\n",
            " |\n",
            " |  __next__(self, /)\n",
            " |      Implement next(self).\n",
            " |\n",
            " |  __reduce__(...)\n",
            " |      Return state information for pickling.\n",
            " |\n",
            " |  ----------------------------------------------------------------------\n",
            " |  Static methods defined here:\n",
            " |\n",
            " |  __new__(*args, **kwargs)\n",
            " |      Create and return a new object.  See help(type) for accurate signature.\n",
            "\n"
          ]
        }
      ],
      "source": [
        "help(map)"
      ]
    },
    {
      "cell_type": "markdown",
      "source": [
        "## Assinatura da Função\n",
        "\n",
        "\n",
        "\n",
        "```\n",
        "map(func, *iterables) --> map object\n",
        "```\n",
        "\n",
        "`func`\n",
        "\n",
        "É a função que será aplicada a cada elemento do iterável.\n",
        "\n",
        "Pode ser uma função definida, uma lambda ou uma função built-in.\n",
        "\n",
        "`*iterables`\n",
        "\n",
        "O `*` significa que você pode passar um ou mais iteráveis.\n",
        "\n",
        "Se passar mais de um iterável, a função func deve aceitar o mesmo número de argumentos.\n",
        "\n",
        "A iteração pára quando o menor iterável termina (comportamento lazy).\n",
        "\n",
        "Retorno: `map object`\n",
        "\n",
        "O resultado é um iterador, não uma lista.\n",
        "\n",
        "Para visualizar os elementos, é preciso converter: list(), tuple(), etc.\n"
      ],
      "metadata": {
        "id": "NvyVlKO8yMKj"
      }
    },
    {
      "cell_type": "markdown",
      "source": [
        "## Exemplos Básicos"
      ],
      "metadata": {
        "id": "AUBrytyyyONY"
      }
    },
    {
      "cell_type": "code",
      "source": [
        "# Função que dobra um número\n",
        "def double(x):\n",
        "    return x * 2\n",
        "\n",
        "nums = [1, 2, 3, 4]\n",
        "\n",
        "# Aplicando a função a cada elemento da lista\n",
        "result = map(double, nums)\n",
        "\n",
        "# O resultado é um iterador\n",
        "print(result)  # <map object at 0x...>\n",
        "\n",
        "# Convertendo para lista para visualizar os valores\n",
        "print(list(result))  # [2, 4, 6, 8]"
      ],
      "metadata": {
        "colab": {
          "base_uri": "https://localhost:8080/"
        },
        "id": "_nCfTWzSyTfF",
        "outputId": "69ba32af-a30d-456b-b131-9ec6fa68862f"
      },
      "execution_count": 2,
      "outputs": [
        {
          "output_type": "stream",
          "name": "stdout",
          "text": [
            "<map object at 0x7e54a139dcc0>\n",
            "[2, 4, 6, 8]\n"
          ]
        }
      ]
    },
    {
      "cell_type": "markdown",
      "source": [
        "# Múltiplos Iteráveis"
      ],
      "metadata": {
        "id": "mqgo_TNK1-BH"
      }
    },
    {
      "cell_type": "code",
      "source": [
        "a = [1, 2, 3]\n",
        "b = [10, 20, 30]\n",
        "\n",
        "# Função recebe dois parâmetros\n",
        "def soma(x, y):\n",
        "    return x + y\n",
        "\n",
        "result = map(soma, a, b)\n",
        "print(list(result))  # [11, 22, 33]"
      ],
      "metadata": {
        "colab": {
          "base_uri": "https://localhost:8080/"
        },
        "id": "Ai-NxJUM2GQh",
        "outputId": "f8a48a53-62e7-44b0-9d8e-1f593ab55562"
      },
      "execution_count": 3,
      "outputs": [
        {
          "output_type": "stream",
          "name": "stdout",
          "text": [
            "[11, 22, 33]\n"
          ]
        }
      ]
    },
    {
      "cell_type": "markdown",
      "source": [
        "## Explicação passo a passo\n",
        "\n",
        "O Python pega o primeiro elemento de cada lista: 1 e 10.\n",
        "\n",
        "Chama a função: soma(1, 10) → retorna 11.\n",
        "\n",
        "Repete para os elementos seguintes: soma(2, 20) → 22, soma(3, 30) → 33.\n",
        "\n",
        "Retorna um iterador com os resultados."
      ],
      "metadata": {
        "id": "Bi0QtsF22mj-"
      }
    },
    {
      "cell_type": "markdown",
      "source": [
        "## Explicação visual\n",
        "\n",
        "\n",
        "```\n",
        "\n",
        "Iteráveis:  a = [1, 2, 3], b = [10, 20, 30]\n",
        "\n",
        "map(soma, a, b) cria um iterador que faz:\n",
        "\n",
        "soma(a[0], b[0]) -> 11\n",
        "soma(a[1], b[1]) -> 22\n",
        "soma(a[2], b[2]) -> 33\n",
        "\n",
        "Resultado final: [11, 22, 33]\n",
        "```\n"
      ],
      "metadata": {
        "id": "QKnSTXSl3C0H"
      }
    },
    {
      "cell_type": "markdown",
      "source": [
        "# Casos de Uso Reais"
      ],
      "metadata": {
        "id": "9i6M3sdd3jal"
      }
    },
    {
      "cell_type": "markdown",
      "source": [
        "## Conversão de tipos"
      ],
      "metadata": {
        "id": "TvBQjGdl3l5S"
      }
    },
    {
      "cell_type": "markdown",
      "source": [
        "Quando você recebe entrada como string e precisa converter para inteiro ou float:"
      ],
      "metadata": {
        "id": "SXchswcQ3pXG"
      }
    },
    {
      "cell_type": "code",
      "source": [
        "# Entrada como string\n",
        "entrada = \"1 2 3 4\"\n",
        "numeros = list(map(int, entrada.split()))\n",
        "print(numeros)\n",
        "# [1, 2, 3, 4]"
      ],
      "metadata": {
        "colab": {
          "base_uri": "https://localhost:8080/"
        },
        "id": "gtSpNrSL3sOW",
        "outputId": "7af3f3a0-7470-4f01-9aa1-633a3960b923"
      },
      "execution_count": 5,
      "outputs": [
        {
          "output_type": "stream",
          "name": "stdout",
          "text": [
            "[1, 2, 3, 4]\n"
          ]
        }
      ]
    },
    {
      "cell_type": "markdown",
      "source": [
        "Uso típico: parsing rápido de inputs em competições ou problemas de array."
      ],
      "metadata": {
        "id": "FkYVDjaV3smD"
      }
    },
    {
      "cell_type": "markdown",
      "source": [
        "## Aplicar uma função simples a todos os elementos"
      ],
      "metadata": {
        "id": "tnG3fqqq4MLz"
      }
    },
    {
      "cell_type": "code",
      "source": [
        "nums = [1, 2, 3, 4]\n",
        "quadrados = list(map(lambda x: x**2, nums))\n",
        "print(quadrados)\n",
        "# [1, 4, 9, 16]"
      ],
      "metadata": {
        "colab": {
          "base_uri": "https://localhost:8080/"
        },
        "id": "g30Nvc0r4OP3",
        "outputId": "5f86e95b-7306-4530-a8e3-bd39808d4717"
      },
      "execution_count": 7,
      "outputs": [
        {
          "output_type": "stream",
          "name": "stdout",
          "text": [
            "[1, 4, 9, 16]\n"
          ]
        }
      ]
    },
    {
      "cell_type": "markdown",
      "source": [
        "## Combinar múltiplos iteráveis"
      ],
      "metadata": {
        "id": "37TocBiG4rwK"
      }
    },
    {
      "cell_type": "markdown",
      "source": [
        "Quando você precisa somar ou operar elemento a elemento em duas listas:"
      ],
      "metadata": {
        "id": "Swbppu104t8M"
      }
    },
    {
      "cell_type": "code",
      "source": [
        "a = [1, 2, 3]\n",
        "b = [4, 5, 6]\n",
        "soma = list(map(lambda x, y: x + y, a, b))\n",
        "print(soma)\n",
        "# [5, 7, 9]"
      ],
      "metadata": {
        "colab": {
          "base_uri": "https://localhost:8080/"
        },
        "id": "qIolfKmb4w2H",
        "outputId": "05a2c84d-f00e-4ca6-bf43-0646ded6ab62"
      },
      "execution_count": 8,
      "outputs": [
        {
          "output_type": "stream",
          "name": "stdout",
          "text": [
            "[5, 7, 9]\n"
          ]
        }
      ]
    },
    {
      "cell_type": "markdown",
      "source": [
        "Útil em problemas que envolvem operações pareadas em arrays ou matrizes."
      ],
      "metadata": {
        "id": "nHRFxN4i4xSZ"
      }
    },
    {
      "cell_type": "markdown",
      "source": [
        "## Transformações de strings"
      ],
      "metadata": {
        "id": "Hw4cZOPm5Lb8"
      }
    },
    {
      "cell_type": "markdown",
      "source": [
        "Por exemplo, converter todas as palavras para maiúsculas ou aplicar strip:"
      ],
      "metadata": {
        "id": "Ifs68Jf35ORy"
      }
    },
    {
      "cell_type": "code",
      "source": [
        "palavras = [\"  olá \", \"mundo  \", \" python\"]\n",
        "limpas = list(map(str.strip, palavras))\n",
        "print(limpas)\n",
        "# ['olá', 'mundo', 'python']"
      ],
      "metadata": {
        "colab": {
          "base_uri": "https://localhost:8080/"
        },
        "id": "0Y_cgHRW5PTG",
        "outputId": "2833ba2c-b7e2-45e2-9e20-aeb44f65cfc8"
      },
      "execution_count": 9,
      "outputs": [
        {
          "output_type": "stream",
          "name": "stdout",
          "text": [
            "['olá', 'mundo', 'python']\n"
          ]
        }
      ]
    },
    {
      "cell_type": "markdown",
      "source": [
        "## problemas de entrada única"
      ],
      "metadata": {
        "id": "1Xi-C4Zk5spH"
      }
    },
    {
      "cell_type": "code",
      "source": [
        "# Entrada: linha de números\n",
        "linha = \"10 20 30 40\"\n",
        "nums = list(map(int, linha.split()))\n",
        "print(nums)\n",
        "# [10, 20, 30, 40]"
      ],
      "metadata": {
        "colab": {
          "base_uri": "https://localhost:8080/"
        },
        "id": "2PlATGyu5yu3",
        "outputId": "a7cff470-e596-4d88-b9d9-ef4356636a0c"
      },
      "execution_count": 10,
      "outputs": [
        {
          "output_type": "stream",
          "name": "stdout",
          "text": [
            "[10, 20, 30, 40]\n"
          ]
        }
      ]
    },
    {
      "cell_type": "markdown",
      "source": [],
      "metadata": {
        "id": "Kpf5K5yd5P18"
      }
    }
  ]
}