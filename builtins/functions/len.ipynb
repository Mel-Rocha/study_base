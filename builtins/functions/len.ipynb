{
  "nbformat": 4,
  "nbformat_minor": 0,
  "metadata": {
    "colab": {
      "provenance": [],
      "toc_visible": true
    },
    "kernelspec": {
      "name": "python3",
      "display_name": "Python 3"
    },
    "language_info": {
      "name": "python"
    }
  },
  "cells": [
    {
      "cell_type": "markdown",
      "source": [
        "# Introdução"
      ],
      "metadata": {
        "id": "TlSVik6pWLxc"
      }
    },
    {
      "cell_type": "markdown",
      "source": [
        "## Conceito\n",
        "\n",
        "\n",
        "O len é uma função built-in do Python que retorna o número de elementos em um objeto.\n",
        "\n",
        "Em listas, tuplas, strings, sets, dicts, ranges (e outros iteráveis) → retorna quantos elementos existem.\n",
        "\n",
        "Em objetos personalizados → funciona se a classe implementar o método especial `__len__`.\n",
        "\n",
        "Em termos práticos:\n",
        "\n",
        "\n",
        "\n",
        "```\n",
        "len([1, 2, 3]) → 3\n",
        "\n",
        "len(\"python\") → 6\n",
        "\n",
        "len({\"a\": 1, \"b\": 2}) → 2\n",
        "```"
      ],
      "metadata": {
        "id": "Jizyu_p0WOLE"
      }
    },
    {
      "cell_type": "markdown",
      "source": [
        "## Documentação\n",
        "\n",
        "Para acessar a documentação oficial diretamente no terminal python, use:"
      ],
      "metadata": {
        "id": "9xld3XUfW3L5"
      }
    },
    {
      "cell_type": "code",
      "execution_count": null,
      "metadata": {
        "colab": {
          "base_uri": "https://localhost:8080/"
        },
        "id": "Qs4JsOboVXq2",
        "outputId": "0279756b-add2-46b3-97a4-2d448d195214"
      },
      "outputs": [
        {
          "output_type": "stream",
          "name": "stdout",
          "text": [
            "Help on built-in function len in module builtins:\n",
            "\n",
            "len(obj, /)\n",
            "    Return the number of items in a container.\n",
            "\n"
          ]
        }
      ],
      "source": [
        "help(len)"
      ]
    },
    {
      "cell_type": "markdown",
      "source": [
        "## Assinatura da função\n",
        "\n",
        "\n",
        "\n",
        "```\n",
        "len(obj, /)\n",
        "```\n",
        "\n",
        "obj: deve ser um container (lista, tupla, dicionário, string, etc.) ou qualquer objeto que implemente o método especial `__len__`.\n",
        "\n",
        "Observações:\n",
        "\n",
        "O `/` indica que o argumento é somente posicional, ou seja, você não pode passar por nome;\n",
        "recebe apenas 1 argumento obrigatório: obj.\n"
      ],
      "metadata": {
        "id": "vjzsHvM4Zo-c"
      }
    },
    {
      "cell_type": "markdown",
      "source": [
        "## Exemplos básicos"
      ],
      "metadata": {
        "id": "Wgx2kh3bcMss"
      }
    },
    {
      "cell_type": "code",
      "source": [
        "# Exemplos básicos de uso do len com diferentes estruturas\n",
        "\n",
        "# Lista\n",
        "print(len([10, 20, 30]))       # 3\n",
        "\n",
        "# String\n",
        "print(len(\"python\"))           # 6\n",
        "\n",
        "# Tupla\n",
        "print(len((1, 2, 3, 4)))       # 4\n",
        "\n",
        "# Dicionário (conta as chaves)\n",
        "print(len({\"a\": 1, \"b\": 2, \"c\": 3}))   # 3\n",
        "\n",
        "# Conjunto (set)\n",
        "print(len({1, 2, 3, 4, 5}))    # 5"
      ],
      "metadata": {
        "colab": {
          "base_uri": "https://localhost:8080/"
        },
        "id": "LCdYPeCPaUbY",
        "outputId": "199f13c7-7bc0-461d-f1e0-49d38032fa16"
      },
      "execution_count": 2,
      "outputs": [
        {
          "output_type": "stream",
          "name": "stdout",
          "text": [
            "3\n",
            "6\n",
            "4\n",
            "3\n",
            "5\n"
          ]
        }
      ]
    },
    {
      "cell_type": "markdown",
      "source": [
        "## Complexidade\n",
        "\n",
        "Complexidade\n",
        "\n",
        "`len()` é O(1) para todas as estruturas builtins (lista, tupla, string, set, dict, bytes).\n",
        "\n",
        "Isso significa que a função retorna imediatamente o tamanho armazenado internamente, sem iterar pelos elementos."
      ],
      "metadata": {
        "id": "rphK4JKuoz6Z"
      }
    },
    {
      "cell_type": "markdown",
      "source": [
        "## Erros e exceções\n",
        "\n",
        "\n",
        "```\n",
        "TypeError: object of type 'X' has no len()\n",
        "```\n",
        "\n",
        "\n",
        "Ocorre quando você tenta usar `len()` em algo que não é um container ou que não implementa `__len__()`."
      ],
      "metadata": {
        "id": "3RqQKmwgp-XC"
      }
    },
    {
      "cell_type": "markdown",
      "source": [
        "## Notas\n",
        "\n",
        "`len(x) × x.__len__()`\n",
        "\n",
        "`len(x)` é a forma idiomática; internamente chama `x.__len__()`.\n",
        "\n",
        "Quase todo container built-in (list, tuple, str, dict, set, range, bytes, bytearray, deque…) implementa `__len__`.\n",
        "\n",
        "**Complexidade** (built-ins): O(1).\n",
        "\n",
        "Use sempre `len(x)` (mais legível e seguro)."
      ],
      "metadata": {
        "id": "5QXq8R9_fHMM"
      }
    },
    {
      "cell_type": "code",
      "source": [
        "lst = [1,2,3]\n",
        "len(lst)         # 3\n",
        "lst.__len__()    # 3  (equivalente, mas evite)"
      ],
      "metadata": {
        "colab": {
          "base_uri": "https://localhost:8080/"
        },
        "id": "IYkt0pIWfeIr",
        "outputId": "cf494e4b-28f1-41ec-9bfb-1f81bcd60048"
      },
      "execution_count": 3,
      "outputs": [
        {
          "output_type": "execute_result",
          "data": {
            "text/plain": [
              "3"
            ]
          },
          "metadata": {},
          "execution_count": 3
        }
      ]
    },
    {
      "cell_type": "markdown",
      "source": [
        "# Como saber tamanho de algo que não é um container?"
      ],
      "metadata": {
        "id": "CQbhcEEGiQZQ"
      }
    },
    {
      "cell_type": "markdown",
      "source": [
        "## Geradores\n",
        "\n",
        "Algumas estruturas não básicas (como geradores, iteradores ou streams) não armazenam todos os elementos na memória. Elas produzem os valores “sob demanda”, ou seja, cada elemento é gerado quando você precisa dele."
      ],
      "metadata": {
        "id": "jWRmZhsEiVBq"
      }
    },
    {
      "cell_type": "markdown",
      "source": [
        "### Consumir e armazenar em uma lista\n",
        "\n",
        "Agora é seguro usar len() porque lst é um container (lista)."
      ],
      "metadata": {
        "id": "AI01tRZbirGD"
      }
    },
    {
      "cell_type": "code",
      "source": [
        "gen = (x**2 for x in range(5))\n",
        "lst = list(gen)\n",
        "print(len(lst))  # 5"
      ],
      "metadata": {
        "colab": {
          "base_uri": "https://localhost:8080/"
        },
        "id": "C96Sp_r7i3m7",
        "outputId": "eb6e971c-6d69-4817-ae55-f746a078abfc"
      },
      "execution_count": 4,
      "outputs": [
        {
          "output_type": "stream",
          "name": "stdout",
          "text": [
            "5\n"
          ]
        }
      ]
    },
    {
      "cell_type": "markdown",
      "source": [
        "### Contar enquanto processa\n",
        "\n",
        "(mais eficiente se você não precisa guardar os itens)"
      ],
      "metadata": {
        "id": "4fhUR-AzjBbM"
      }
    },
    {
      "cell_type": "code",
      "source": [
        "count = 0\n",
        "for x in (i**2 for i in range(5)):\n",
        "    count += 1\n",
        "print(count)  # 5"
      ],
      "metadata": {
        "colab": {
          "base_uri": "https://localhost:8080/"
        },
        "id": "rynHFpdOjJDv",
        "outputId": "5b3ebf43-3840-42c5-c94e-e8b30f056aa6"
      },
      "execution_count": 5,
      "outputs": [
        {
          "output_type": "stream",
          "name": "stdout",
          "text": [
            "5\n"
          ]
        }
      ]
    },
    {
      "cell_type": "markdown",
      "source": [
        "# Descobrindo o tamanho de estruturas aninhadas"
      ],
      "metadata": {
        "id": "dyF18aFqlfBH"
      }
    },
    {
      "cell_type": "markdown",
      "source": [
        "`len()` conta apenas o tamanho do nível mais externo.\n",
        "\n",
        "Para estruturas aninhadas, podemos:\n",
        "\n",
        "Iterar sobre os elementos internos usando comprehension\n",
        "\n",
        "Criar função recursiva para contar todos os elementos internos."
      ],
      "metadata": {
        "id": "bbnLyI1Rlk2T"
      }
    },
    {
      "cell_type": "markdown",
      "source": [
        "### Lista de listas"
      ],
      "metadata": {
        "id": "YHwESIL3lz0d"
      }
    },
    {
      "cell_type": "code",
      "source": [
        "lst = [[1, 2], [3, 4, 5], [6]]\n",
        "print(f\"Número de listas internas: {len(lst)}\")           # 3 -> número de listas internas\n",
        "print(f\"Tamanho de cada sublista: {[len(sub) for sub in lst]}\")  # [2, 3, 1] -> tamanho de cada sublista"
      ],
      "metadata": {
        "colab": {
          "base_uri": "https://localhost:8080/"
        },
        "id": "rO2I3Oacl3p1",
        "outputId": "0ce8d05a-87aa-4112-8d4e-0cdad67c2b9b"
      },
      "execution_count": 7,
      "outputs": [
        {
          "output_type": "stream",
          "name": "stdout",
          "text": [
            "Número de listas internas: 3\n",
            "Tamanho de cada sublista: [2, 3, 1]\n"
          ]
        }
      ]
    },
    {
      "cell_type": "markdown",
      "source": [
        "### Dicionário com listas como valores"
      ],
      "metadata": {
        "id": "mub3kkeumdtZ"
      }
    },
    {
      "cell_type": "code",
      "source": [
        "d = {\"a\": [1,2], \"b\": [3,4,5], \"c\": [6]}\n",
        "print(f\"Número de chaves: {len(d)}\")             # 3 -> número de chaves\n",
        "print(f\"Tamanho de cada lista: {[len(v) for v in d.values()]}\")  # [2, 3, 1] -> tamanho de cada lista"
      ],
      "metadata": {
        "colab": {
          "base_uri": "https://localhost:8080/"
        },
        "id": "GO1V0B3Omi6T",
        "outputId": "313994ad-b5a3-4710-ab87-d97a7a64e1a7"
      },
      "execution_count": 10,
      "outputs": [
        {
          "output_type": "stream",
          "name": "stdout",
          "text": [
            "Número de chaves: 3\n",
            "Tamanho de cada lista: [2, 3, 1]\n"
          ]
        }
      ]
    },
    {
      "cell_type": "markdown",
      "source": [
        "### Lista de dicionários"
      ],
      "metadata": {
        "id": "ZaMWdyy9nX5x"
      }
    },
    {
      "cell_type": "code",
      "source": [
        "lst_dicts = [{\"x\":1, \"y\":2}, {\"x\":3}, {\"y\":4, \"z\":5}]\n",
        "print(f\"Número de dicionários na lista: {len(lst_dicts)}\")           # 3 -> número de dicionários na lista\n",
        "print(f\"Tamanho de cada dicionário: {[len(d) for d in lst_dicts]}\")  # [2, 1, 2] -> tamanho de cada dicionário"
      ],
      "metadata": {
        "colab": {
          "base_uri": "https://localhost:8080/"
        },
        "id": "SxGcky15nZH-",
        "outputId": "25d5d96a-1757-4412-aefa-79ccd3ffcc78"
      },
      "execution_count": 12,
      "outputs": [
        {
          "output_type": "stream",
          "name": "stdout",
          "text": [
            "Número de dicionários na lista: 3\n",
            "Tamanho de cada dicionário: [2, 1, 2]\n"
          ]
        }
      ]
    }
  ]
}