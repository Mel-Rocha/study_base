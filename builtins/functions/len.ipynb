{
  "nbformat": 4,
  "nbformat_minor": 0,
  "metadata": {
    "colab": {
      "provenance": [],
      "toc_visible": true
    },
    "kernelspec": {
      "name": "python3",
      "display_name": "Python 3"
    },
    "language_info": {
      "name": "python"
    }
  },
  "cells": [
    {
      "cell_type": "markdown",
      "source": [
        "# Introdução"
      ],
      "metadata": {
        "id": "TlSVik6pWLxc"
      }
    },
    {
      "cell_type": "markdown",
      "source": [
        "## Conceito\n",
        "\n",
        "\n",
        "O len é uma função built-in do Python que retorna o número de elementos em um objeto.\n",
        "\n",
        "Em listas, tuplas, strings, sets, dicts, ranges (e outros iteráveis) → retorna quantos elementos existem.\n",
        "\n",
        "Em objetos personalizados → funciona se a classe implementar o método especial `__len__`.\n",
        "\n",
        "Em termos práticos:\n",
        "\n",
        "\n",
        "\n",
        "```\n",
        "len([1, 2, 3]) → 3\n",
        "\n",
        "len(\"python\") → 6\n",
        "\n",
        "len({\"a\": 1, \"b\": 2}) → 2\n",
        "```"
      ],
      "metadata": {
        "id": "Jizyu_p0WOLE"
      }
    },
    {
      "cell_type": "markdown",
      "source": [
        "## Documentação\n",
        "\n",
        "Para acessar a documentação oficial diretamente no terminal python, use:"
      ],
      "metadata": {
        "id": "9xld3XUfW3L5"
      }
    },
    {
      "cell_type": "code",
      "execution_count": null,
      "metadata": {
        "colab": {
          "base_uri": "https://localhost:8080/"
        },
        "id": "Qs4JsOboVXq2",
        "outputId": "0279756b-add2-46b3-97a4-2d448d195214"
      },
      "outputs": [
        {
          "output_type": "stream",
          "name": "stdout",
          "text": [
            "Help on built-in function len in module builtins:\n",
            "\n",
            "len(obj, /)\n",
            "    Return the number of items in a container.\n",
            "\n"
          ]
        }
      ],
      "source": [
        "help(len)"
      ]
    },
    {
      "cell_type": "markdown",
      "source": [
        "## Assinatura da função\n",
        "\n",
        "\n",
        "\n",
        "```\n",
        "len(obj, /)\n",
        "```\n",
        "\n",
        "obj: deve ser um container (lista, tupla, dicionário, string, etc.) ou qualquer objeto que implemente o método especial `__len__`.\n",
        "\n",
        "Observações:\n",
        "\n",
        "O `/` indica que o argumento é somente posicional, ou seja, você não pode passar por nome;\n",
        "recebe apenas 1 argumento obrigatório: obj.\n"
      ],
      "metadata": {
        "id": "vjzsHvM4Zo-c"
      }
    },
    {
      "cell_type": "markdown",
      "source": [
        "## Exemplos básicos"
      ],
      "metadata": {
        "id": "Wgx2kh3bcMss"
      }
    },
    {
      "cell_type": "code",
      "source": [
        "# Exemplos básicos de uso do len com diferentes estruturas\n",
        "\n",
        "# Lista\n",
        "print(len([10, 20, 30]))       # 3\n",
        "\n",
        "# String\n",
        "print(len(\"python\"))           # 6\n",
        "\n",
        "# Tupla\n",
        "print(len((1, 2, 3, 4)))       # 4\n",
        "\n",
        "# Dicionário (conta as chaves)\n",
        "print(len({\"a\": 1, \"b\": 2, \"c\": 3}))   # 3\n",
        "\n",
        "# Conjunto (set)\n",
        "print(len({1, 2, 3, 4, 5}))    # 5"
      ],
      "metadata": {
        "colab": {
          "base_uri": "https://localhost:8080/"
        },
        "id": "LCdYPeCPaUbY",
        "outputId": "199f13c7-7bc0-461d-f1e0-49d38032fa16"
      },
      "execution_count": 2,
      "outputs": [
        {
          "output_type": "stream",
          "name": "stdout",
          "text": [
            "3\n",
            "6\n",
            "4\n",
            "3\n",
            "5\n"
          ]
        }
      ]
    }
  ]
}