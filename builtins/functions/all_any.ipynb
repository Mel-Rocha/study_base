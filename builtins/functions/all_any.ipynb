{
  "nbformat": 4,
  "nbformat_minor": 0,
  "metadata": {
    "colab": {
      "provenance": [],
      "toc_visible": true
    },
    "kernelspec": {
      "name": "python3",
      "display_name": "Python 3"
    },
    "language_info": {
      "name": "python"
    }
  },
  "cells": [
    {
      "cell_type": "markdown",
      "source": [
        "# Introdução"
      ],
      "metadata": {
        "id": "rrneV-lD1nrz"
      }
    },
    {
      "cell_type": "markdown",
      "source": [
        "## Conceito\n",
        "\n",
        "`all(iterable)` → Retorna True se todos os elementos do iterável forem avaliados como verdadeiros (truthy). Caso contrário, retorna False.\n",
        "\n",
        "`any(iterable)` → Retorna True se pelo menos um dos elementos do iterável for verdadeiro (truthy). Se todos forem falsos (falsy), retorna False.\n",
        "\n",
        "Essas funções são úteis para checagem lógica em coleções."
      ],
      "metadata": {
        "id": "w6QCsLbu1ti3"
      }
    },
    {
      "cell_type": "markdown",
      "source": [
        "## Documentação\n",
        "\n",
        "Para acessar a documentação oficial diretamente no terminal python, use:"
      ],
      "metadata": {
        "id": "h78fkNll2b55"
      }
    },
    {
      "cell_type": "code",
      "execution_count": 1,
      "metadata": {
        "colab": {
          "base_uri": "https://localhost:8080/"
        },
        "id": "DX8ycOYgbhFN",
        "outputId": "0014e8a6-ad85-4242-8a88-bef3c23d9c65"
      },
      "outputs": [
        {
          "output_type": "stream",
          "name": "stdout",
          "text": [
            "Help on built-in function all in module builtins:\n",
            "\n",
            "all(iterable, /)\n",
            "    Return True if bool(x) is True for all values x in the iterable.\n",
            "\n",
            "    If the iterable is empty, return True.\n",
            "\n"
          ]
        }
      ],
      "source": [
        "help(all)"
      ]
    },
    {
      "cell_type": "code",
      "source": [
        "help(any)"
      ],
      "metadata": {
        "colab": {
          "base_uri": "https://localhost:8080/"
        },
        "id": "CqWBt-H32lb_",
        "outputId": "03e6cc41-c89e-40c1-9686-043fb6a3b71e"
      },
      "execution_count": 2,
      "outputs": [
        {
          "output_type": "stream",
          "name": "stdout",
          "text": [
            "Help on built-in function any in module builtins:\n",
            "\n",
            "any(iterable, /)\n",
            "    Return True if bool(x) is True for any x in the iterable.\n",
            "\n",
            "    If the iterable is empty, return False.\n",
            "\n"
          ]
        }
      ]
    },
    {
      "cell_type": "markdown",
      "source": [
        "## Assinatura da função\n",
        "\n",
        "\n",
        "\n",
        "```\n",
        "all(iterable)\n",
        "```\n",
        "\n",
        "\n",
        "\n",
        "```\n",
        "any(iterable)\n",
        "```\n",
        "\n",
        "Aceitam apenas um argumento obrigatório: um iterável."
      ],
      "metadata": {
        "id": "ONEcWD-E2x5-"
      }
    },
    {
      "cell_type": "markdown",
      "source": [
        "## Exemplos Básicos"
      ],
      "metadata": {
        "id": "PmqsHcj_2_hf"
      }
    },
    {
      "cell_type": "code",
      "source": [
        "# all\n",
        "print(all([True, True, True]))     # True (todos verdadeiros)\n",
        "print(all([True, False, True]))    # False (existe um falso)\n",
        "print(all([]))                     # True (coleção vazia → convenção lógica)\n",
        "\n",
        "# any\n",
        "print(any([False, False, True]))   # True (pelo menos um é verdadeiro)\n",
        "print(any([False, False, False]))  # False (nenhum é verdadeiro)\n",
        "print(any([]))                     # False (coleção vazia → convenção lógica)"
      ],
      "metadata": {
        "colab": {
          "base_uri": "https://localhost:8080/"
        },
        "id": "zPrOdWiZ3zCm",
        "outputId": "ef10f653-b8f3-4b65-beab-04417924bf64"
      },
      "execution_count": 3,
      "outputs": [
        {
          "output_type": "stream",
          "name": "stdout",
          "text": [
            "True\n",
            "False\n",
            "True\n",
            "True\n",
            "False\n",
            "False\n"
          ]
        }
      ]
    },
    {
      "cell_type": "markdown",
      "source": [
        "Perceba que:\n",
        "\n",
        "all([]) == True (vazio → todos satisfeitos vacuamente).\n",
        "\n",
        "any([]) == False (vazio → nenhum elemento verdadeiro)."
      ],
      "metadata": {
        "id": "Sk_yZQdx38uW"
      }
    },
    {
      "cell_type": "markdown",
      "source": [
        "# Estruturas de Dados"
      ],
      "metadata": {
        "id": "QA-P4bfX3-Ku"
      }
    },
    {
      "cell_type": "markdown",
      "source": [
        "## Listas e Tuplas"
      ],
      "metadata": {
        "id": "4x-ryHKk4AOA"
      }
    },
    {
      "cell_type": "code",
      "source": [
        "# Lista\n",
        "nums = [1, 2, 3, 4]\n",
        "print(all(nums))  # True → todos são truthy (não há 0 ou False)\n",
        "print(any(nums))  # True → pelo menos um elemento é truthy\n",
        "\n",
        "# Tupla\n",
        "nums = (0, 1, 2)\n",
        "print(all(nums))  # False → contém 0\n",
        "print(any(nums))  # True  → existe 1 e 2 (truthy)"
      ],
      "metadata": {
        "colab": {
          "base_uri": "https://localhost:8080/"
        },
        "id": "TF3FdVrR4VOr",
        "outputId": "fe740674-aa70-4f91-bd2f-0a9d9d77cd21"
      },
      "execution_count": 5,
      "outputs": [
        {
          "output_type": "stream",
          "name": "stdout",
          "text": [
            "True\n",
            "True\n",
            "False\n",
            "True\n"
          ]
        }
      ]
    },
    {
      "cell_type": "markdown",
      "source": [
        "## Sets (conjuntos)"
      ],
      "metadata": {
        "id": "zpvd7Fs342QF"
      }
    },
    {
      "cell_type": "code",
      "source": [
        "s = {True, 1, \"Python\"}\n",
        "print(all(s))  # True\n",
        "print(any(s))  # True\n",
        "\n",
        "s = {0, False}\n",
        "print(all(s))  # False\n",
        "print(any(s))  # False"
      ],
      "metadata": {
        "colab": {
          "base_uri": "https://localhost:8080/"
        },
        "id": "RwtNItS143Rg",
        "outputId": "afd37bc6-6376-4f05-b089-499186a7ff2f"
      },
      "execution_count": 6,
      "outputs": [
        {
          "output_type": "stream",
          "name": "stdout",
          "text": [
            "True\n",
            "True\n",
            "False\n",
            "False\n"
          ]
        }
      ]
    },
    {
      "cell_type": "markdown",
      "source": [
        "## Strings"
      ],
      "metadata": {
        "id": "_oxgBYjb5fg2"
      }
    },
    {
      "cell_type": "markdown",
      "source": [
        "Strings não são iteráveis de booleanos, mas cada caractere é avaliado como truthy (caracteres não vazios → True):"
      ],
      "metadata": {
        "id": "H7dF3tAo5hdh"
      }
    },
    {
      "cell_type": "code",
      "source": [
        "print(all(\"abc\"))   # True (nenhum caractere é vazio)\n",
        "print(any(\"abc\"))   # True (tem caracteres)\n",
        "\n",
        "print(all(\"\"))      # True  (string vazia → vacuamente verdadeiro)\n",
        "print(any(\"\"))      # False (string vazia → nenhum elemento)"
      ],
      "metadata": {
        "colab": {
          "base_uri": "https://localhost:8080/"
        },
        "id": "c4qh0Ux95p2N",
        "outputId": "18d13bc9-e18e-448c-8adb-4501f56cf686"
      },
      "execution_count": 7,
      "outputs": [
        {
          "output_type": "stream",
          "name": "stdout",
          "text": [
            "True\n",
            "True\n",
            "True\n",
            "False\n"
          ]
        }
      ]
    },
    {
      "cell_type": "markdown",
      "source": [
        "Importante:\n",
        "\n",
        "`all(\"0\")` → True (porque \"0\" é um caractere não vazio → truthy).\n",
        "\n",
        "`any(\"0\")` → True também."
      ],
      "metadata": {
        "id": "0wtfbLuM6AA7"
      }
    },
    {
      "cell_type": "markdown",
      "source": [
        "## Dicionários"
      ],
      "metadata": {
        "id": "xTikdpA66DBM"
      }
    },
    {
      "cell_type": "markdown",
      "source": [
        "Iterando diretamente sobre dict, o Python percorre as **chaves**:"
      ],
      "metadata": {
        "id": "7qFwVznu6N3e"
      }
    },
    {
      "cell_type": "code",
      "source": [
        "d = {\"a\": 1, \"b\": 2}\n",
        "print(all(d))   # True  (todas as chaves são truthy → \"a\" e \"b\")\n",
        "print(any(d))   # True\n",
        "\n",
        "d = {\"\": 1, 0: 2}\n",
        "print(all(d))   # False (chave \"\" e 0 são falsy)\n",
        "print(any(d))   # False (todas as chaves são falsy)"
      ],
      "metadata": {
        "colab": {
          "base_uri": "https://localhost:8080/"
        },
        "id": "otmrHjzs6Sm-",
        "outputId": "3047854d-67cc-4e46-ef76-957358a0f906"
      },
      "execution_count": 8,
      "outputs": [
        {
          "output_type": "stream",
          "name": "stdout",
          "text": [
            "True\n",
            "True\n",
            "False\n",
            "False\n"
          ]
        }
      ]
    },
    {
      "cell_type": "markdown",
      "source": [
        "Mas se você quiser verificar **valores**, deve explicitar:"
      ],
      "metadata": {
        "id": "kGnyQzO16noK"
      }
    },
    {
      "cell_type": "code",
      "source": [
        "d = {\"a\": 0, \"b\": 2}\n",
        "print(all(d.values()))  # False → 0 é falsy\n",
        "print(any(d.values()))  # True  → 2 é truthy"
      ],
      "metadata": {
        "colab": {
          "base_uri": "https://localhost:8080/"
        },
        "id": "DiJRUyQw6p7l",
        "outputId": "a0d32319-e76d-4359-eade-44e5e3e32125"
      },
      "execution_count": 9,
      "outputs": [
        {
          "output_type": "stream",
          "name": "stdout",
          "text": [
            "False\n",
            "True\n"
          ]
        }
      ]
    },
    {
      "cell_type": "markdown",
      "source": [
        "## Estruturas aninhadas"
      ],
      "metadata": {
        "id": "2sswsA4n8Hho"
      }
    },
    {
      "cell_type": "markdown",
      "source": [
        "Quando temos listas dentro de listas, cada elemento interno é avaliado como truthy ou falsy:"
      ],
      "metadata": {
        "id": "1ohqb9AF8MK7"
      }
    },
    {
      "cell_type": "code",
      "source": [
        "nested = [[1, 2], [3, 4]]\n",
        "print(all(nested))  # True (listas não vazias são truthy)\n",
        "print(any(nested))  # True\n",
        "\n",
        "nested = [[1, 2], []]\n",
        "print(all(nested))  # False (lista vazia é falsy)\n",
        "print(any(nested))  # True  (a primeira sublista é truthy)"
      ],
      "metadata": {
        "colab": {
          "base_uri": "https://localhost:8080/"
        },
        "id": "19ovr6Z28NCr",
        "outputId": "303dc3c1-7eb5-419e-86dd-fc143361dc82"
      },
      "execution_count": 10,
      "outputs": [
        {
          "output_type": "stream",
          "name": "stdout",
          "text": [
            "True\n",
            "True\n",
            "False\n",
            "True\n"
          ]
        }
      ]
    },
    {
      "cell_type": "markdown",
      "source": [
        "# Objetos Personalizados"
      ],
      "metadata": {
        "id": "em1xiMd382vm"
      }
    },
    {
      "cell_type": "markdown",
      "source": [
        "## Regras básicas:\n",
        "\n",
        "Quando você passa objetos personalizados para `all()` ou `any()`, o Python vai tentar avaliar a verdade de cada objeto.\n",
        "Isso segue a ordem de prioridade:\n",
        "\n",
        "Se a classe define `__bool__(self)`, esse método é chamado.\n",
        "\n",
        "Deve retornar True ou False.\n",
        "\n",
        "Se não existe `__bool__`, mas existe `__len__(self)`, então:\n",
        "\n",
        "`len(obj)` == 0 → objeto é False\n",
        "\n",
        "`len(obj)` > 0 → objeto é True\n",
        "\n",
        "Se não existir nenhum dos dois, o objeto é considerado sempre truthy (ou seja, avalia como True)."
      ],
      "metadata": {
        "id": "ot0ymx8P852_"
      }
    },
    {
      "cell_type": "markdown",
      "source": [
        "## Nota\n",
        "\n",
        "all/any em objetos personalizados depende de como a classe define sua “verdade”.\n",
        "\n",
        "Se você não implementar nada (`__bool__` ou `__len__`), seus objetos sempre serão truthy, o que geralmente não é muito útil.\n",
        "\n",
        "Normalmente, para ter comportamento útil, você implementa `__bool__` na sua classe."
      ],
      "metadata": {
        "id": "9c7h1Vhx-UNL"
      }
    },
    {
      "cell_type": "markdown",
      "source": [
        "## Exemplo 1 — Classe com `__bool__`"
      ],
      "metadata": {
        "id": "Z1vWj5GC9b2U"
      }
    },
    {
      "cell_type": "code",
      "source": [
        "class Car:\n",
        "    def __init__(self, working):\n",
        "        self.working = working\n",
        "\n",
        "    def __bool__(self):\n",
        "        return self.working\n",
        "\n",
        "cars = [Car(True), Car(False), Car(True)]\n",
        "\n",
        "print(all(cars))  # False → porque tem um Car(False)\n",
        "print(any(cars))  # True  → pelo menos um Car(True)"
      ],
      "metadata": {
        "colab": {
          "base_uri": "https://localhost:8080/"
        },
        "id": "FHF4w-9A9fAH",
        "outputId": "4d3140de-2f64-4789-8c0f-6bdb35ff2f88"
      },
      "execution_count": 11,
      "outputs": [
        {
          "output_type": "stream",
          "name": "stdout",
          "text": [
            "False\n",
            "True\n"
          ]
        }
      ]
    },
    {
      "cell_type": "markdown",
      "source": [
        "## Exemplo 2 — Classe com `__len__`"
      ],
      "metadata": {
        "id": "RIDpG5jk9z2W"
      }
    },
    {
      "cell_type": "code",
      "source": [
        "class Box:\n",
        "    def __init__(self, items):\n",
        "        self.items = items\n",
        "\n",
        "    def __len__(self):\n",
        "        return len(self.items)\n",
        "\n",
        "boxes = [Box([1]), Box([]), Box([2, 3])]\n",
        "\n",
        "print(all(boxes))  # False → Box([]) é vazio → False\n",
        "print(any(boxes))  # True  → pelo menos uma caixa tem itens"
      ],
      "metadata": {
        "colab": {
          "base_uri": "https://localhost:8080/"
        },
        "id": "yoiBdF-R92CX",
        "outputId": "96419025-9bdd-4b29-a933-4b509fe7dc22"
      },
      "execution_count": 12,
      "outputs": [
        {
          "output_type": "stream",
          "name": "stdout",
          "text": [
            "False\n",
            "True\n"
          ]
        }
      ]
    },
    {
      "cell_type": "markdown",
      "source": [
        "## Exemplo 3 — Sem `__bool__` nem `__len__`"
      ],
      "metadata": {
        "id": "xRwkS2sq-DGH"
      }
    },
    {
      "cell_type": "code",
      "source": [
        "class Dummy:\n",
        "    pass\n",
        "\n",
        "objs = [Dummy(), Dummy(), Dummy()]\n",
        "\n",
        "print(all(objs))  # True → todos são considerados truthy\n",
        "print(any(objs))  # True → pelo menos um é truthy"
      ],
      "metadata": {
        "colab": {
          "base_uri": "https://localhost:8080/"
        },
        "id": "IIlzaVC6-HcX",
        "outputId": "4d559619-d890-4c89-eebe-1b1eab438c60"
      },
      "execution_count": 13,
      "outputs": [
        {
          "output_type": "stream",
          "name": "stdout",
          "text": [
            "True\n",
            "True\n"
          ]
        }
      ]
    },
    {
      "cell_type": "markdown",
      "source": [
        "# Casos de Uso"
      ],
      "metadata": {
        "id": "C804xGqC_Zm7"
      }
    },
    {
      "cell_type": "markdown",
      "source": [
        "## Checar se todos os elementos satisfazem uma condição (all)"
      ],
      "metadata": {
        "id": "LjdELSgW_bWE"
      }
    },
    {
      "cell_type": "markdown",
      "source": [
        "Muitos problemas pedem que você valide uma condição para toda a estrutura:\n",
        "\n",
        "Exemplo clássico: verificar se uma palavra é um isogram (nenhuma letra repetida)."
      ],
      "metadata": {
        "id": "0FHx4jgW_fPm"
      }
    },
    {
      "cell_type": "code",
      "source": [
        "word = \"leetcode\"\n",
        "print(all(word.count(ch) == 1 for ch in word))  # False"
      ],
      "metadata": {
        "colab": {
          "base_uri": "https://localhost:8080/"
        },
        "id": "iH9xdXXq_iim",
        "outputId": "e01ce091-2519-47f1-d58f-7327d8e3481c"
      },
      "execution_count": 14,
      "outputs": [
        {
          "output_type": "stream",
          "name": "stdout",
          "text": [
            "False\n"
          ]
        }
      ]
    },
    {
      "cell_type": "markdown",
      "source": [
        "## Checar se algum elemento satisfaz uma condição (any)"
      ],
      "metadata": {
        "id": "QWY9WXesAFPS"
      }
    },
    {
      "cell_type": "markdown",
      "source": [
        "Usado para cortar caminho quando basta encontrar um caso verdadeiro:\n",
        "\n",
        "Exemplo clássico: verificar se existe um número par na lista."
      ],
      "metadata": {
        "id": "7TEW1To6AGJS"
      }
    },
    {
      "cell_type": "code",
      "source": [
        "nums = [1, 3, 5, 7, 9]\n",
        "print(any(n % 2 == 0 for n in nums))  # False"
      ],
      "metadata": {
        "colab": {
          "base_uri": "https://localhost:8080/"
        },
        "id": "P-bCY1McAPnz",
        "outputId": "64e288cf-de59-465c-bdc5-1f9573209e46"
      },
      "execution_count": 15,
      "outputs": [
        {
          "output_type": "stream",
          "name": "stdout",
          "text": [
            "False\n"
          ]
        }
      ]
    },
    {
      "cell_type": "markdown",
      "source": [
        "Isso aparece em problemas de detecção de padrão (tem pelo menos um válido?)."
      ],
      "metadata": {
        "id": "uZQmk2lcATct"
      }
    },
    {
      "cell_type": "markdown",
      "source": [
        "## Problemas de grafos (caminhos, conexões)"
      ],
      "metadata": {
        "id": "YPsosigoAWeO"
      }
    },
    {
      "cell_type": "markdown",
      "source": [
        "`all` → usado para checar se todos os nós foram visitados.\n",
        "\n",
        "`any` → usado para checar se ainda há vizinhos disponíveis para explorar."
      ],
      "metadata": {
        "id": "9evLDzX9Ashg"
      }
    },
    {
      "cell_type": "code",
      "source": [
        "visited = [True, True, False]\n",
        "print(all(visited))  # False (nem todos visitados)"
      ],
      "metadata": {
        "colab": {
          "base_uri": "https://localhost:8080/"
        },
        "id": "5UHGuIPGApzF",
        "outputId": "5864153e-1206-4976-af80-d3dabf0b9c41"
      },
      "execution_count": 16,
      "outputs": [
        {
          "output_type": "stream",
          "name": "stdout",
          "text": [
            "False\n"
          ]
        }
      ]
    },
    {
      "cell_type": "markdown",
      "source": [
        "## Substrings e prefixos"
      ],
      "metadata": {
        "id": "mAvQMDLGA_jk"
      }
    },
    {
      "cell_type": "markdown",
      "source": [
        "problemas de verificar se uma string é prefixo/sufixo de várias palavras."
      ],
      "metadata": {
        "id": "uS3YSLcWBAjk"
      }
    },
    {
      "cell_type": "code",
      "source": [
        "words = [\"apple\", \"application\", \"appetizer\"]\n",
        "print(all(w.startswith(\"app\") for w in words))  # True"
      ],
      "metadata": {
        "colab": {
          "base_uri": "https://localhost:8080/"
        },
        "id": "OG8lLP0qBDGa",
        "outputId": "66ca0daa-4fe8-42d2-b02c-0a143788e0f6"
      },
      "execution_count": 17,
      "outputs": [
        {
          "output_type": "stream",
          "name": "stdout",
          "text": [
            "True\n"
          ]
        }
      ]
    },
    {
      "cell_type": "markdown",
      "source": [
        "## Validação de matrizes"
      ],
      "metadata": {
        "id": "4pzFqCjTBcGG"
      }
    },
    {
      "cell_type": "markdown",
      "source": [
        "`all` → verificar se todas as linhas têm a mesma soma.\n",
        "\n",
        "`any` → verificar se existe linha/coluna só de zeros."
      ],
      "metadata": {
        "id": "AwATFwEmBdKH"
      }
    },
    {
      "cell_type": "code",
      "source": [
        "matrix = [[1, 2], [3, 4]]\n",
        "print(all(sum(row) % 2 == 0 for row in matrix))  # False"
      ],
      "metadata": {
        "colab": {
          "base_uri": "https://localhost:8080/"
        },
        "id": "gPI7Cp4HBhQO",
        "outputId": "3f6edc60-3b9d-4d6a-f10d-3938913e9ffe"
      },
      "execution_count": 18,
      "outputs": [
        {
          "output_type": "stream",
          "name": "stdout",
          "text": [
            "False\n"
          ]
        }
      ]
    },
    {
      "cell_type": "markdown",
      "source": [
        "## Vantagens de Utilizar\n",
        "\n",
        "Reduz boilerplate (sem precisar escrever for e if manualmente).\n",
        "\n",
        "Mais eficiente quando combinado com geradores → não cria listas intermediárias.\n",
        "\n",
        "Permite expressar condições complexas em uma linha clara.\n",
        "\n",
        "\n",
        "\n",
        "Use `all` quando quiser garantir que tudo passa num teste.\n",
        "\n",
        "Use `any` quando quiser garantir que pelo menos um passa.\n",
        "\n",
        "Ambos economizam tempo e código em problemas de validação de arrays, strings, grafos e matrizes."
      ],
      "metadata": {
        "id": "Ck_S1QzkB0fR"
      }
    }
  ]
}