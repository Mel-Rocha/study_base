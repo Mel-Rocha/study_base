{
  "nbformat": 4,
  "nbformat_minor": 0,
  "metadata": {
    "colab": {
      "provenance": [],
      "toc_visible": true
    },
    "kernelspec": {
      "name": "python3",
      "display_name": "Python 3"
    },
    "language_info": {
      "name": "python"
    }
  },
  "cells": [
    {
      "cell_type": "markdown",
      "source": [
        "## Introdução"
      ],
      "metadata": {
        "id": "dxI1WJfl8YYs"
      }
    },
    {
      "cell_type": "markdown",
      "source": [
        "## Conceito\n",
        "\n",
        "`min()` retorna o menor elemento de um iterável ou entre dois ou mais argumentos.\n",
        "\n",
        "`max()` retorna o maior elemento de um iterável ou entre dois ou mais argumentos.\n",
        "\n",
        "\n",
        "permitem comparar rapidamente valores, listas, strings, tuplas, etc."
      ],
      "metadata": {
        "id": "8bxO7RVk8ptx"
      }
    },
    {
      "cell_type": "markdown",
      "source": [
        "## Documentação\n",
        "\n",
        "Para acessar a documentação oficial diretamente no terminal python, use:"
      ],
      "metadata": {
        "id": "KwaNa9IH87Wx"
      }
    },
    {
      "cell_type": "code",
      "source": [
        "help(min)"
      ],
      "metadata": {
        "colab": {
          "base_uri": "https://localhost:8080/"
        },
        "id": "LoHWrl-r8qMn",
        "outputId": "b87ed789-1cbd-4897-a955-a1c6863ae7c4"
      },
      "execution_count": 1,
      "outputs": [
        {
          "output_type": "stream",
          "name": "stdout",
          "text": [
            "Help on built-in function min in module builtins:\n",
            "\n",
            "min(...)\n",
            "    min(iterable, *[, default=obj, key=func]) -> value\n",
            "    min(arg1, arg2, *args, *[, key=func]) -> value\n",
            "\n",
            "    With a single iterable argument, return its smallest item. The\n",
            "    default keyword-only argument specifies an object to return if\n",
            "    the provided iterable is empty.\n",
            "    With two or more arguments, return the smallest argument.\n",
            "\n"
          ]
        }
      ]
    },
    {
      "cell_type": "code",
      "source": [
        "help(max)"
      ],
      "metadata": {
        "colab": {
          "base_uri": "https://localhost:8080/"
        },
        "id": "oiwZjaNn9nsY",
        "outputId": "9977250e-8ef9-4b93-f9a4-d8918160ecd6"
      },
      "execution_count": 2,
      "outputs": [
        {
          "output_type": "stream",
          "name": "stdout",
          "text": [
            "Help on built-in function max in module builtins:\n",
            "\n",
            "max(...)\n",
            "    max(iterable, *[, default=obj, key=func]) -> value\n",
            "    max(arg1, arg2, *args, *[, key=func]) -> value\n",
            "\n",
            "    With a single iterable argument, return its biggest item. The\n",
            "    default keyword-only argument specifies an object to return if\n",
            "    the provided iterable is empty.\n",
            "    With two or more arguments, return the largest argument.\n",
            "\n"
          ]
        }
      ]
    },
    {
      "cell_type": "markdown",
      "source": [
        "## Assinatura da função\n",
        "\n",
        "\n",
        "\n",
        "\n",
        "```\n",
        "min(iterable, *[, key, default])\n",
        "```\n",
        "\n",
        "\n",
        "\n",
        "```\n",
        "min(arg1, arg2, *args[, key])\n",
        "```\n",
        "`max tem a mesma assinatura.`\n",
        "\n",
        "\n",
        "\n",
        "`iterable`: lista, tupla, set, etc.\n",
        "\n",
        "`key`: função aplicada a cada elemento antes da comparação.\n",
        "\n",
        "`default`: valor retornado se o iterável estiver vazio (opcional, só funciona com iterável).\n",
        "\n",
        "Quando passar mais de um argumento (arg1, arg2, ...), min()/max() retorna o menor/maior entre eles.\n"
      ],
      "metadata": {
        "id": "t6XBMNH0932N"
      }
    },
    {
      "cell_type": "markdown",
      "source": [
        "## Exemplos Básicos"
      ],
      "metadata": {
        "id": "G8QqMBp2_twL"
      }
    },
    {
      "cell_type": "markdown",
      "source": [
        "### Usando iterável\n",
        "\n",
        "Aqui nums é a lista (iterável). A função percorre todos os elementos e retorna o menor ou maior."
      ],
      "metadata": {
        "id": "tHj4IyW__2Es"
      }
    },
    {
      "cell_type": "code",
      "source": [
        "nums = [5, 2, 9, 1]\n",
        "print(min(nums))  # 1\n",
        "print(max(nums))  # 9"
      ],
      "metadata": {
        "colab": {
          "base_uri": "https://localhost:8080/"
        },
        "id": "TJFKxyJQ-Xec",
        "outputId": "9cd32a8d-3835-448d-db36-f46164936b62"
      },
      "execution_count": 3,
      "outputs": [
        {
          "output_type": "stream",
          "name": "stdout",
          "text": [
            "1\n",
            "9\n"
          ]
        }
      ]
    },
    {
      "cell_type": "markdown",
      "source": [
        "### Usando vários argumentos\n",
        "\n",
        "Passando argumentos separados, min() e max() comparam diretamente os valores e retornam o menor/maior.\n",
        "\n"
      ],
      "metadata": {
        "id": "STz4FmRbANGh"
      }
    },
    {
      "cell_type": "code",
      "source": [
        "print(min(3, 7, 1, 4))  # 1\n",
        "print(max(3, 7, 1, 4))  # 7"
      ],
      "metadata": {
        "colab": {
          "base_uri": "https://localhost:8080/"
        },
        "id": "fV9L0HxGAWdb",
        "outputId": "9002ab8e-0b8a-4f38-fd09-419655ab25ba"
      },
      "execution_count": 4,
      "outputs": [
        {
          "output_type": "stream",
          "name": "stdout",
          "text": [
            "1\n",
            "7\n"
          ]
        }
      ]
    }
  ]
}