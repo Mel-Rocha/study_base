{
  "nbformat": 4,
  "nbformat_minor": 0,
  "metadata": {
    "colab": {
      "provenance": [],
      "toc_visible": true
    },
    "kernelspec": {
      "name": "python3",
      "display_name": "Python 3"
    },
    "language_info": {
      "name": "python"
    }
  },
  "cells": [
    {
      "cell_type": "markdown",
      "source": [
        "## Introdução"
      ],
      "metadata": {
        "id": "dxI1WJfl8YYs"
      }
    },
    {
      "cell_type": "markdown",
      "source": [
        "## Conceito\n",
        "\n",
        "`min()` retorna o menor elemento de um iterável ou entre dois ou mais argumentos.\n",
        "\n",
        "`max()` retorna o maior elemento de um iterável ou entre dois ou mais argumentos.\n",
        "\n",
        "\n",
        "permitem comparar rapidamente valores, listas, strings, tuplas, etc."
      ],
      "metadata": {
        "id": "8bxO7RVk8ptx"
      }
    },
    {
      "cell_type": "markdown",
      "source": [
        "## Documentação\n",
        "\n",
        "Para acessar a documentação oficial diretamente no terminal python, use:"
      ],
      "metadata": {
        "id": "KwaNa9IH87Wx"
      }
    },
    {
      "cell_type": "code",
      "source": [
        "help(min)"
      ],
      "metadata": {
        "colab": {
          "base_uri": "https://localhost:8080/"
        },
        "id": "LoHWrl-r8qMn",
        "outputId": "b87ed789-1cbd-4897-a955-a1c6863ae7c4"
      },
      "execution_count": null,
      "outputs": [
        {
          "output_type": "stream",
          "name": "stdout",
          "text": [
            "Help on built-in function min in module builtins:\n",
            "\n",
            "min(...)\n",
            "    min(iterable, *[, default=obj, key=func]) -> value\n",
            "    min(arg1, arg2, *args, *[, key=func]) -> value\n",
            "\n",
            "    With a single iterable argument, return its smallest item. The\n",
            "    default keyword-only argument specifies an object to return if\n",
            "    the provided iterable is empty.\n",
            "    With two or more arguments, return the smallest argument.\n",
            "\n"
          ]
        }
      ]
    },
    {
      "cell_type": "code",
      "source": [
        "help(max)"
      ],
      "metadata": {
        "colab": {
          "base_uri": "https://localhost:8080/"
        },
        "id": "oiwZjaNn9nsY",
        "outputId": "9977250e-8ef9-4b93-f9a4-d8918160ecd6"
      },
      "execution_count": null,
      "outputs": [
        {
          "output_type": "stream",
          "name": "stdout",
          "text": [
            "Help on built-in function max in module builtins:\n",
            "\n",
            "max(...)\n",
            "    max(iterable, *[, default=obj, key=func]) -> value\n",
            "    max(arg1, arg2, *args, *[, key=func]) -> value\n",
            "\n",
            "    With a single iterable argument, return its biggest item. The\n",
            "    default keyword-only argument specifies an object to return if\n",
            "    the provided iterable is empty.\n",
            "    With two or more arguments, return the largest argument.\n",
            "\n"
          ]
        }
      ]
    },
    {
      "cell_type": "markdown",
      "source": [
        "## Assinatura da função\n",
        "\n",
        "\n",
        "\n",
        "\n",
        "```\n",
        "min(iterable, *[, key, default])\n",
        "```\n",
        "\n",
        "\n",
        "\n",
        "```\n",
        "min(arg1, arg2, *args[, key])\n",
        "```\n",
        "`max tem a mesma assinatura.`\n",
        "\n",
        "\n",
        "\n",
        "`iterable`: lista, tupla, set, etc.\n",
        "\n",
        "`key`: função aplicada a cada elemento antes da comparação.\n",
        "\n",
        "`default`: valor retornado se o iterável estiver vazio (opcional, só funciona com iterável).\n",
        "\n",
        "Quando passar mais de um argumento (arg1, arg2, ...), min()/max() retorna o menor/maior entre eles.\n"
      ],
      "metadata": {
        "id": "t6XBMNH0932N"
      }
    },
    {
      "cell_type": "markdown",
      "source": [
        "## Exemplos Básicos"
      ],
      "metadata": {
        "id": "G8QqMBp2_twL"
      }
    },
    {
      "cell_type": "markdown",
      "source": [
        "### Usando iterável\n",
        "\n",
        "Aqui nums é a lista (iterável). A função percorre todos os elementos e retorna o menor ou maior."
      ],
      "metadata": {
        "id": "tHj4IyW__2Es"
      }
    },
    {
      "cell_type": "code",
      "source": [
        "nums = [5, 2, 9, 1]\n",
        "print(min(nums))  # 1\n",
        "print(max(nums))  # 9"
      ],
      "metadata": {
        "colab": {
          "base_uri": "https://localhost:8080/"
        },
        "id": "TJFKxyJQ-Xec",
        "outputId": "9cd32a8d-3835-448d-db36-f46164936b62"
      },
      "execution_count": null,
      "outputs": [
        {
          "output_type": "stream",
          "name": "stdout",
          "text": [
            "1\n",
            "9\n"
          ]
        }
      ]
    },
    {
      "cell_type": "markdown",
      "source": [
        "### Usando vários argumentos\n",
        "\n",
        "Passando argumentos separados, min() e max() comparam diretamente os valores e retornam o menor/maior.\n",
        "\n"
      ],
      "metadata": {
        "id": "STz4FmRbANGh"
      }
    },
    {
      "cell_type": "code",
      "source": [
        "print(min(3, 7, 1, 4))  # 1\n",
        "print(max(3, 7, 1, 4))  # 7"
      ],
      "metadata": {
        "colab": {
          "base_uri": "https://localhost:8080/"
        },
        "id": "fV9L0HxGAWdb",
        "outputId": "9002ab8e-0b8a-4f38-fd09-419655ab25ba"
      },
      "execution_count": null,
      "outputs": [
        {
          "output_type": "stream",
          "name": "stdout",
          "text": [
            "1\n",
            "7\n"
          ]
        }
      ]
    },
    {
      "cell_type": "markdown",
      "source": [
        "# Detalhamento dos modos de uso"
      ],
      "metadata": {
        "id": "gkT9M85cBgJD"
      }
    },
    {
      "cell_type": "markdown",
      "source": [
        "## Fluxo Visual"
      ],
      "metadata": {
        "id": "NzlvS_jZB_1B"
      }
    },
    {
      "cell_type": "markdown",
      "source": [
        "### Usando iterável\n",
        "\n",
        "\n",
        "\n",
        "```\n",
        "min([5, 2, 9, 1])\n",
        "   \n",
        "   ┌─────────────┐\n",
        "   │ Iterável    │\n",
        "   │ [5, 2, 9, 1]│\n",
        "   └─────┬───────┘\n",
        "         │\n",
        "         ▼\n",
        "   Python percorre cada elemento\n",
        "   Comparando: 5 → 2 → 9 → 1\n",
        "         │\n",
        "         ▼\n",
        "   Menor valor encontrado = 1\n",
        "         │\n",
        "         ▼\n",
        "   Retorno: 1\n",
        "```\n",
        "\n"
      ],
      "metadata": {
        "id": "ieCItYn6BuDL"
      }
    },
    {
      "cell_type": "markdown",
      "source": [
        "### Usando vários argumentos\n",
        "\n",
        "\n",
        "\n",
        "\n",
        "```\n",
        " min(3, 7, 1, 4)\n",
        "   \n",
        "   ┌───────────────┐\n",
        "   │ Argumentos    │\n",
        "   │ 3, 7, 1, 4    │\n",
        "   └─────┬─────────┘\n",
        "         │\n",
        "         ▼\n",
        "   Python percorre cada argumento\n",
        "   Comparando: 3 → 7 → 1 → 4\n",
        "         │\n",
        "         ▼\n",
        "   Menor valor encontrado = 1\n",
        "         │\n",
        "         ▼\n",
        "   Retorno: 1\n",
        "```\n",
        "\n"
      ],
      "metadata": {
        "id": "WI-G7_C9B8E8"
      }
    },
    {
      "cell_type": "markdown",
      "source": [
        "## Erros e exceções"
      ],
      "metadata": {
        "id": "munGbVCiWyhz"
      }
    },
    {
      "cell_type": "markdown",
      "source": [
        "Sempre verifique se o iterável não é vazio antes de chamar min ou max ou forneça default.\n",
        "\n",
        "Evite misturar tipos que não são diretamente comparáveis (ex.: int e str)."
      ],
      "metadata": {
        "id": "BelPSCmXYUu2"
      }
    },
    {
      "cell_type": "markdown",
      "source": [
        "### Elementos não comparáveis\n",
        "\n",
        "Todos os elementos do iterável ou dos argumentos precisam ser comparáveis entre si.\n",
        "\n",
        "Caso contrário, Python lança um `TypeError`."
      ],
      "metadata": {
        "id": "N2bvvrahXIqj"
      }
    },
    {
      "cell_type": "code",
      "source": [
        "min([1, \"2\", 3])\n",
        "# TypeError: '<' not supported between instances of 'str' and 'int'\n",
        "\n",
        "max([1, \"2\", 3])\n",
        "# TypeError: '>' not supported between instances of 'str' and 'int'"
      ],
      "metadata": {
        "colab": {
          "base_uri": "https://localhost:8080/",
          "height": 211
        },
        "id": "LsnWiUuTXWlq",
        "outputId": "8f58a2c2-a72f-4f95-a932-ee07118a9cba"
      },
      "execution_count": 14,
      "outputs": [
        {
          "output_type": "error",
          "ename": "TypeError",
          "evalue": "'<' not supported between instances of 'str' and 'int'",
          "traceback": [
            "\u001b[0;31m---------------------------------------------------------------------------\u001b[0m",
            "\u001b[0;31mTypeError\u001b[0m                                 Traceback (most recent call last)",
            "\u001b[0;32m/tmp/ipython-input-184630964.py\u001b[0m in \u001b[0;36m<cell line: 0>\u001b[0;34m()\u001b[0m\n\u001b[0;32m----> 1\u001b[0;31m \u001b[0mmin\u001b[0m\u001b[0;34m(\u001b[0m\u001b[0;34m[\u001b[0m\u001b[0;36m1\u001b[0m\u001b[0;34m,\u001b[0m \u001b[0;34m\"2\"\u001b[0m\u001b[0;34m,\u001b[0m \u001b[0;36m3\u001b[0m\u001b[0;34m]\u001b[0m\u001b[0;34m)\u001b[0m\u001b[0;34m\u001b[0m\u001b[0;34m\u001b[0m\u001b[0m\n\u001b[0m\u001b[1;32m      2\u001b[0m \u001b[0;31m# TypeError: '<' not supported between instances of 'str' and 'int'\u001b[0m\u001b[0;34m\u001b[0m\u001b[0;34m\u001b[0m\u001b[0m\n\u001b[1;32m      3\u001b[0m \u001b[0;34m\u001b[0m\u001b[0m\n\u001b[1;32m      4\u001b[0m \u001b[0mmax\u001b[0m\u001b[0;34m(\u001b[0m\u001b[0;34m[\u001b[0m\u001b[0;36m1\u001b[0m\u001b[0;34m,\u001b[0m \u001b[0;34m\"2\"\u001b[0m\u001b[0;34m,\u001b[0m \u001b[0;36m3\u001b[0m\u001b[0;34m]\u001b[0m\u001b[0;34m)\u001b[0m\u001b[0;34m\u001b[0m\u001b[0;34m\u001b[0m\u001b[0m\n\u001b[1;32m      5\u001b[0m \u001b[0;31m# TypeError: '>' not supported between instances of 'str' and 'int'\u001b[0m\u001b[0;34m\u001b[0m\u001b[0;34m\u001b[0m\u001b[0m\n",
            "\u001b[0;31mTypeError\u001b[0m: '<' not supported between instances of 'str' and 'int'"
          ]
        }
      ]
    },
    {
      "cell_type": "markdown",
      "source": [
        "### Iterável vazio sem default\n",
        "\n",
        "Se você passar um iterável vazio e não fornecer default, Python lança um `ValueError`:"
      ],
      "metadata": {
        "id": "l3wE52A1XsZ4"
      }
    },
    {
      "cell_type": "code",
      "source": [
        "empty_list = []\n",
        "min(empty_list)\n",
        "# ValueError: min() arg is an empty sequence\n",
        "\n",
        "max(empty_list)\n",
        "# ValueError: max() arg is an empty sequence"
      ],
      "metadata": {
        "colab": {
          "base_uri": "https://localhost:8080/",
          "height": 211
        },
        "id": "IlIIUj4hXxq7",
        "outputId": "76932aa9-866a-4ca3-ba6e-398e7fca9177"
      },
      "execution_count": 15,
      "outputs": [
        {
          "output_type": "error",
          "ename": "ValueError",
          "evalue": "min() iterable argument is empty",
          "traceback": [
            "\u001b[0;31m---------------------------------------------------------------------------\u001b[0m",
            "\u001b[0;31mValueError\u001b[0m                                Traceback (most recent call last)",
            "\u001b[0;32m/tmp/ipython-input-2403113747.py\u001b[0m in \u001b[0;36m<cell line: 0>\u001b[0;34m()\u001b[0m\n\u001b[1;32m      1\u001b[0m \u001b[0mempty_list\u001b[0m \u001b[0;34m=\u001b[0m \u001b[0;34m[\u001b[0m\u001b[0;34m]\u001b[0m\u001b[0;34m\u001b[0m\u001b[0;34m\u001b[0m\u001b[0m\n\u001b[0;32m----> 2\u001b[0;31m \u001b[0mmin\u001b[0m\u001b[0;34m(\u001b[0m\u001b[0mempty_list\u001b[0m\u001b[0;34m)\u001b[0m\u001b[0;34m\u001b[0m\u001b[0;34m\u001b[0m\u001b[0m\n\u001b[0m\u001b[1;32m      3\u001b[0m \u001b[0;31m# ValueError: min() arg is an empty sequence\u001b[0m\u001b[0;34m\u001b[0m\u001b[0;34m\u001b[0m\u001b[0m\n\u001b[1;32m      4\u001b[0m \u001b[0;34m\u001b[0m\u001b[0m\n\u001b[1;32m      5\u001b[0m \u001b[0mmax\u001b[0m\u001b[0;34m(\u001b[0m\u001b[0mempty_list\u001b[0m\u001b[0;34m)\u001b[0m\u001b[0;34m\u001b[0m\u001b[0;34m\u001b[0m\u001b[0m\n",
            "\u001b[0;31mValueError\u001b[0m: min() iterable argument is empty"
          ]
        }
      ]
    },
    {
      "cell_type": "markdown",
      "source": [
        "Solução: use o param `default`:"
      ],
      "metadata": {
        "id": "XxpwAHXvX8dI"
      }
    },
    {
      "cell_type": "code",
      "source": [
        "min(empty_list, default=0)\n",
        "max(empty_list, default=0)"
      ],
      "metadata": {
        "colab": {
          "base_uri": "https://localhost:8080/"
        },
        "id": "jF7T1qO-YCjr",
        "outputId": "19c073a2-595f-4b73-fe49-813fd109c382"
      },
      "execution_count": 17,
      "outputs": [
        {
          "output_type": "execute_result",
          "data": {
            "text/plain": [
              "0"
            ]
          },
          "metadata": {},
          "execution_count": 17
        }
      ]
    },
    {
      "cell_type": "markdown",
      "source": [
        "# Parâmetros"
      ],
      "metadata": {
        "id": "zse8vBYqJ0HQ"
      }
    },
    {
      "cell_type": "markdown",
      "source": [
        "## Key\n",
        "\n",
        "`key` é uma função que será aplicada a cada elemento antes da comparação. Python compara os resultados da função, mas retorna o elemento original."
      ],
      "metadata": {
        "id": "8XfMoGJ7J3-8"
      }
    },
    {
      "cell_type": "code",
      "source": [
        "nums = [-3, 4, -1, 5]\n",
        "# Queremos o menor em valor absoluto\n",
        "min_val = min(nums, key=abs)\n",
        "print(min_val)  # Resultado: -1"
      ],
      "metadata": {
        "colab": {
          "base_uri": "https://localhost:8080/"
        },
        "id": "LvOCGLA6J_EY",
        "outputId": "0b36dfca-8557-460a-db40-186108010a46"
      },
      "execution_count": null,
      "outputs": [
        {
          "output_type": "stream",
          "name": "stdout",
          "text": [
            "-1\n"
          ]
        }
      ]
    },
    {
      "cell_type": "markdown",
      "source": [
        "Casos comuns: ordenar strings ignorando maiúsculas/minúsculas, encontrar maior valor em tuplas por determinado índice, etc."
      ],
      "metadata": {
        "id": "GgBg6FumKWSx"
      }
    },
    {
      "cell_type": "markdown",
      "source": [
        "## default\n",
        "\n",
        "usado quando você passa um iterável vazio. Evita erro `ValueError`."
      ],
      "metadata": {
        "id": "FgY8ppohKdSV"
      }
    },
    {
      "cell_type": "code",
      "source": [
        "empty = []\n",
        "print(min(empty, default=0))  # Resultado: 0"
      ],
      "metadata": {
        "colab": {
          "base_uri": "https://localhost:8080/"
        },
        "id": "LbBqfYgiKa6U",
        "outputId": "ecda3fcf-2ae2-4842-dbe2-d1dc124ef21a"
      },
      "execution_count": null,
      "outputs": [
        {
          "output_type": "stream",
          "name": "stdout",
          "text": [
            "0\n"
          ]
        }
      ]
    },
    {
      "cell_type": "markdown",
      "source": [
        "# Estruturas de dados"
      ],
      "metadata": {
        "id": "EejSM7nHMXq3"
      }
    },
    {
      "cell_type": "markdown",
      "source": [
        "## Listas"
      ],
      "metadata": {
        "id": "Pl5ZSMFQMcmj"
      }
    },
    {
      "cell_type": "code",
      "source": [
        "strings = [\"apple\", \"banana\", \"kiwi\"]\n",
        "print(min(strings))  # \"apple\" (ordem lexicográfica)\n",
        "print(max(strings))  # \"kiwi\""
      ],
      "metadata": {
        "colab": {
          "base_uri": "https://localhost:8080/"
        },
        "id": "o0HAL7BtMdx0",
        "outputId": "e68a7e0f-91d8-40ac-e10e-c99d8ef6a21d"
      },
      "execution_count": null,
      "outputs": [
        {
          "output_type": "stream",
          "name": "stdout",
          "text": [
            "apple\n",
            "kiwi\n"
          ]
        }
      ]
    },
    {
      "cell_type": "markdown",
      "source": [
        "## Tuplas"
      ],
      "metadata": {
        "id": "a88HtueAM5md"
      }
    },
    {
      "cell_type": "code",
      "source": [
        "coords = (10, 5, 7)\n",
        "print(min(coords))  # 5\n",
        "print(max(coords))  # 10"
      ],
      "metadata": {
        "colab": {
          "base_uri": "https://localhost:8080/"
        },
        "id": "05SsAtaaM-sk",
        "outputId": "ad81a285-cd94-4899-e94e-0299c1ca5bf7"
      },
      "execution_count": null,
      "outputs": [
        {
          "output_type": "stream",
          "name": "stdout",
          "text": [
            "5\n",
            "10\n"
          ]
        }
      ]
    },
    {
      "cell_type": "markdown",
      "source": [
        "## Dicionários"
      ],
      "metadata": {
        "id": "fBoRUQMeNNBP"
      }
    },
    {
      "cell_type": "code",
      "source": [
        "data = {\"a\": 3, \"b\": 1, \"c\": 2}\n",
        "\n",
        "# Retorna a menor chave por padrão\n",
        "print(min(data))  # 'a'\n",
        "print(max(data))  # 'c'\n",
        "\n",
        "# Ordenar por valores\n",
        "print(min(data.items(), key=lambda x: x[1]))  # ('b', 1)\n",
        "print(max(data.items(), key=lambda x: x[1]))  # ('a', 3)"
      ],
      "metadata": {
        "colab": {
          "base_uri": "https://localhost:8080/"
        },
        "id": "Qip9YjzeNSab",
        "outputId": "74819ac4-8ec1-4918-a466-7d67f6f24a3e"
      },
      "execution_count": null,
      "outputs": [
        {
          "output_type": "stream",
          "name": "stdout",
          "text": [
            "a\n",
            "c\n",
            "('b', 1)\n",
            "('a', 3)\n"
          ]
        }
      ]
    },
    {
      "cell_type": "markdown",
      "source": [
        "## Sets e frozensets"
      ],
      "metadata": {
        "id": "JEn5bWUxOSmE"
      }
    },
    {
      "cell_type": "code",
      "source": [
        "s = {10, 3, 7}\n",
        "print(min(s))  # 3\n",
        "print(max(s))  # 10"
      ],
      "metadata": {
        "colab": {
          "base_uri": "https://localhost:8080/"
        },
        "id": "yGyAH2xlOVWW",
        "outputId": "b38b2c63-74a1-4b17-d6f9-b216fde762cc"
      },
      "execution_count": null,
      "outputs": [
        {
          "output_type": "stream",
          "name": "stdout",
          "text": [
            "3\n",
            "10\n"
          ]
        }
      ]
    },
    {
      "cell_type": "markdown",
      "source": [
        "## Estruturas aninhadas (listas de listas, tuplas dentro de listas)"
      ],
      "metadata": {
        "id": "0r_aiGF1PN2L"
      }
    },
    {
      "cell_type": "code",
      "source": [
        "matrix = [[1,2,3], [4,0], [2,5]]\n",
        "print(min(matrix))  # [1,2,3] (compara pelo primeiro elemento de cada sublista)\n",
        "print(max(matrix))  # [4,0]"
      ],
      "metadata": {
        "colab": {
          "base_uri": "https://localhost:8080/"
        },
        "id": "qiyfFhhdPQe3",
        "outputId": "6b1e4956-4aef-4074-e055-e677e43b7543"
      },
      "execution_count": null,
      "outputs": [
        {
          "output_type": "stream",
          "name": "stdout",
          "text": [
            "[1, 2, 3]\n",
            "[4, 0]\n"
          ]
        }
      ]
    },
    {
      "cell_type": "markdown",
      "source": [
        "Nota: A comparação é feita no primeiro elemento de cada lista, caso haja empate prossegue para o segundo e assim segue sucessivamente até que a ordem seja definida ou os elementos se esgotem."
      ],
      "metadata": {
        "id": "1-TpCfrIQLVd"
      }
    },
    {
      "cell_type": "markdown",
      "source": [
        "## Objetos personalizados com min/max"
      ],
      "metadata": {
        "id": "A_2xRMixR032"
      }
    },
    {
      "cell_type": "markdown",
      "source": [
        "Necessário definir como os objetos serão comparados, ou utilizar lambda."
      ],
      "metadata": {
        "id": "k4HwR1QNSAki"
      }
    },
    {
      "cell_type": "markdown",
      "source": [
        "### Implementação métodos mágicos"
      ],
      "metadata": {
        "id": "nIGZqHdsSOOB"
      }
    },
    {
      "cell_type": "markdown",
      "source": [
        "`__gt__`: Método de comparação para retornar o maior (>)\n",
        "\n",
        "`__lt__`: Método de  comparação para retornar o menor (<)"
      ],
      "metadata": {
        "id": "6DRdBESbVyid"
      }
    },
    {
      "cell_type": "code",
      "source": [
        "class Carro:\n",
        "    def __init__(self, modelo, ano):\n",
        "        self.modelo = modelo\n",
        "        self.ano = ano\n",
        "\n",
        "    def __repr__(self):\n",
        "        return f\"{self.modelo} ({self.ano})\"\n",
        "\n",
        "    def __lt__(self, other):\n",
        "        return self.ano < other.ano  # compara pelo ano\n",
        "\n",
        "carros = [\n",
        "    Carro(\"Gol\", 2010),\n",
        "    Carro(\"Civic\", 2015),\n",
        "    Carro(\"Fusca\", 1980)\n",
        "]\n",
        "\n",
        "print(min(carros))  # Fusca (1980)\n",
        "print(max(carros))  # Civic (2015)"
      ],
      "metadata": {
        "colab": {
          "base_uri": "https://localhost:8080/"
        },
        "id": "O-IF03MXSW_9",
        "outputId": "08113645-c4d9-45ab-9c97-1618995d633f"
      },
      "execution_count": 12,
      "outputs": [
        {
          "output_type": "stream",
          "name": "stdout",
          "text": [
            "Fusca (1980)\n",
            "Civic (2015)\n"
          ]
        }
      ]
    },
    {
      "cell_type": "markdown",
      "source": [
        "Explicação:\n",
        "\n",
        "`__lt__ `é chamado pelo min/max para determinar a ordem.\n",
        "\n",
        "Agora Python consegue comparar objetos Carro pelo atributo ano."
      ],
      "metadata": {
        "id": "fnwW1ipPTY8W"
      }
    },
    {
      "cell_type": "markdown",
      "source": [
        "### Alternativa: usar `key`"
      ],
      "metadata": {
        "id": "8WN31ajvTdqp"
      }
    },
    {
      "cell_type": "code",
      "source": [
        "min_carro = min(carros, key=lambda c: c.ano)\n",
        "max_carro = max(carros, key=lambda c: c.ano)\n",
        "\n",
        "print(min_carro)  # Fusca (1980)\n",
        "print(max_carro)  # Civic (2015)"
      ],
      "metadata": {
        "colab": {
          "base_uri": "https://localhost:8080/"
        },
        "id": "DkJDEeD1TpD8",
        "outputId": "bf8dfe19-6c04-457e-f2c8-d36dc4b19485"
      },
      "execution_count": 13,
      "outputs": [
        {
          "output_type": "stream",
          "name": "stdout",
          "text": [
            "Fusca (1980)\n",
            "Civic (2015)\n"
          ]
        }
      ]
    },
    {
      "cell_type": "markdown",
      "source": [
        "Você também pode manter a classe sem implementar __lt__ e passar uma função key para min/max.\n",
        "\n",
        "Aqui `key=lambda c: c.ano` diz “use o ano para comparar”.\n",
        "\n",
        "É mais flexível, especialmente quando você quer comparar por diferentes atributos em momentos distintos."
      ],
      "metadata": {
        "id": "Ynl3TBY9T_a8"
      }
    }
  ]
}