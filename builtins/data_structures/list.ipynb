{
  "nbformat": 4,
  "nbformat_minor": 0,
  "metadata": {
    "colab": {
      "provenance": []
    },
    "kernelspec": {
      "name": "python3",
      "display_name": "Python 3"
    },
    "language_info": {
      "name": "python"
    }
  },
  "cells": [
    {
      "cell_type": "markdown",
      "source": [
        "# Introdução"
      ],
      "metadata": {
        "id": "-lG1bJfpV0LQ"
      }
    },
    {
      "cell_type": "markdown",
      "source": [
        "Listas (list) — sequência mutável, ordenada, com suporte a elementos duplicados e heterogêneos.\n",
        "Objetivo de aprendizagem: entender o que é uma lista, quando usar em problemas de programação competitiva e quais propriedades essenciais ela possui."
      ],
      "metadata": {
        "id": "bH59GikqV7nu"
      }
    },
    {
      "cell_type": "markdown",
      "source": [
        "<div style=\"background-color:#e0ffe0; padding:10px; border-radius:8px;\">\n",
        "🟢 <b>Essencial (Maratona)</b><br>\n",
        "• Lista é <b>ordenada</b> e <b>mutável</b>.<br>\n",
        "• Permite <b>duplicatas</b> e <b>tipos mistos</b> (ex.: int e str juntos).<br>\n",
        "• Acesso por índice é <b>O(1)</b>; inserções/remoções no meio são <b>O(n)</b>.<br>\n",
        "• Ótima para simular <b>pilha (stack)</b> com <code>append</code>/<code>pop</code>.\n",
        "</div>\n"
      ],
      "metadata": {
        "id": "bfZjWYtSWCc2"
      }
    },
    {
      "cell_type": "markdown",
      "source": [
        "<div style=\"background-color:#e0f0ff; padding:10px; border-radius:8px;\">\n",
        "🔵 <b>Teoria extra</b><br>\n",
        "• Em CPython, listas são implementadas como <i>arrays dinâmicos</i> (crescimento amortizado).<br>\n",
        "• A ordem dos elementos é a ordem de inserção; índices começam em 0.<br>\n",
        "• Comparar com outras coleções: <i>list</i> (ordem e duplicatas), <i>set</i> (unicidade, sem ordem), <i>dict</i> (mapeamento chave→valor, preserva ordem de inserção).\n",
        "</div>\n"
      ],
      "metadata": {
        "id": "Etrds7uYWh0j"
      }
    },
    {
      "cell_type": "code",
      "execution_count": 1,
      "metadata": {
        "id": "Jawy6sARjxRN",
        "colab": {
          "base_uri": "https://localhost:8080/"
        },
        "outputId": "c85c6d57-7db1-4ce4-fc89-8ec6da389567"
      },
      "outputs": [
        {
          "output_type": "stream",
          "name": "stdout",
          "text": [
            "a = [10, 20, 10, 30]\n",
            "a[0] = 10\n",
            "a[-1] = 30\n",
            "b = [1, 'x', 3.14, True] | tipos = ['int', 'str', 'float', 'bool']\n",
            "a após a[1]=99 -> [10, 99, 10, 30]\n"
          ]
        }
      ],
      "source": [
        "# Ordem e duplicatas\n",
        "a = [10, 20, 10, 30]\n",
        "print(\"a =\", a)                 # mantém ordem e repetidos\n",
        "print(\"a[0] =\", a[0])           # acesso por índice\n",
        "print(\"a[-1] =\", a[-1])         # índice negativo é do fim para o início\n",
        "\n",
        "# Heterogeneidade\n",
        "b = [1, \"x\", 3.14, True]\n",
        "print(\"b =\", b, \"| tipos =\", [type(x).__name__ for x in b])\n",
        "\n",
        "# Mutabilidade (troca in-place)\n",
        "a[1] = 99\n",
        "print(\"a após a[1]=99 ->\", a)\n"
      ]
    },
    {
      "cell_type": "markdown",
      "source": [
        "# Criação"
      ],
      "metadata": {
        "id": "3sxwrL2PdZWS"
      }
    },
    {
      "cell_type": "markdown",
      "source": [
        "Básico"
      ],
      "metadata": {
        "id": "W6WQEQxxeKlS"
      }
    },
    {
      "cell_type": "code",
      "source": [
        "# Lista vazia\n",
        "lst = []\n",
        "print(lst)  # []\n",
        "\n",
        "# Criar lista com valores já definidos\n",
        "nums = [1, 2, 3, 4, 5]\n",
        "print(nums)  # [1, 2, 3, 4, 5]"
      ],
      "metadata": {
        "colab": {
          "base_uri": "https://localhost:8080/"
        },
        "id": "6HKmCF4_dqWO",
        "outputId": "7d42f02d-e9be-4d9a-d295-90332040f1a0"
      },
      "execution_count": 2,
      "outputs": [
        {
          "output_type": "stream",
          "name": "stdout",
          "text": [
            "[]\n",
            "[1, 2, 3, 4, 5]\n"
          ]
        }
      ]
    },
    {
      "cell_type": "markdown",
      "source": [
        "Criar lista a partir de outra estrutura (conversão com list())"
      ],
      "metadata": {
        "id": "TaoSzT6KeeWK"
      }
    },
    {
      "cell_type": "code",
      "source": [
        "# De string para lista de caracteres\n",
        "chars = list(\"hello\")\n",
        "print(chars)  # ['h', 'e', 'l', 'l', 'o']\n",
        "\n",
        "# De range para lista\n",
        "nums = list(range(5))\n",
        "print(nums)  # [0, 1, 2, 3, 4]\n"
      ],
      "metadata": {
        "colab": {
          "base_uri": "https://localhost:8080/"
        },
        "id": "eV-pMRN0eQSx",
        "outputId": "1cb80ea4-ff9c-4c09-d31e-f0b82f3dec35"
      },
      "execution_count": 3,
      "outputs": [
        {
          "output_type": "stream",
          "name": "stdout",
          "text": [
            "['h', 'e', 'l', 'l', 'o']\n",
            "[0, 1, 2, 3, 4]\n"
          ]
        }
      ]
    },
    {
      "cell_type": "markdown",
      "source": [
        "Listas criadas com repetição"
      ],
      "metadata": {
        "id": "PjcDcjs2fAC5"
      }
    },
    {
      "cell_type": "code",
      "source": [
        "my_list = [None] * 5 # 5 posições None\n",
        "print(my_list)\n",
        "\n",
        "zeros = [0] * 10 # 10 posições, preenchidas com 0\n",
        "print(zeros)"
      ],
      "metadata": {
        "colab": {
          "base_uri": "https://localhost:8080/"
        },
        "id": "lqqCDlsofGzY",
        "outputId": "f3f50f39-7516-4ee0-ec1c-3aa24c32f4d8"
      },
      "execution_count": 5,
      "outputs": [
        {
          "output_type": "stream",
          "name": "stdout",
          "text": [
            "[None, None, None, None, None]\n",
            "[0, 0, 0, 0, 0, 0, 0, 0, 0, 0]\n"
          ]
        }
      ]
    },
    {
      "cell_type": "code",
      "source": [],
      "metadata": {
        "id": "bo3U-_OfQkb_"
      },
      "execution_count": null,
      "outputs": []
    },
    {
      "cell_type": "markdown",
      "source": [
        "listas com compreensão"
      ],
      "metadata": {
        "id": "BBOrLewbgImf"
      }
    },
    {
      "cell_type": "code",
      "source": [
        "squares = [x**2 for x in range(5)]\n",
        "print(squares)  # [0, 1, 4, 9, 16]"
      ],
      "metadata": {
        "colab": {
          "base_uri": "https://localhost:8080/"
        },
        "id": "uv8AcoowgJqR",
        "outputId": "597726f8-ae66-416e-8f9b-6dd5ef5d0d44"
      },
      "execution_count": 6,
      "outputs": [
        {
          "output_type": "stream",
          "name": "stdout",
          "text": [
            "[0, 1, 4, 9, 16]\n"
          ]
        }
      ]
    },
    {
      "cell_type": "markdown",
      "source": [
        "## Manipulação de Objetos: Cópia rasa e profunda"
      ],
      "metadata": {
        "id": "xejfCrMOQfvD"
      }
    },
    {
      "cell_type": "markdown",
      "source": [
        "### 🔵 <b>Teoria extra</b><br>\n",
        "\n",
        "Diferenças de memória\n",
        "\n",
        "Cada lista é um objeto na memória.\n",
        "\n",
        "Quando você faz [0] * 5, você cria 5 referências para o mesmo objeto 0 (imutável).\n",
        "\n",
        "Para tipos mutáveis, **cuidado**:"
      ],
      "metadata": {
        "id": "vijJfinLiB5m"
      }
    },
    {
      "cell_type": "code",
      "source": [
        "# Isso cria 3 referências para a MESMA lista interna\n",
        "matrix = [[0] * 3] * 3\n",
        "print(matrix)  # [[0, 0, 0], [0, 0, 0], [0, 0, 0]]\n",
        "\n",
        "matrix[0][0] = 99\n",
        "print(matrix)  # [[99, 0, 0], [99, 0, 0], [99, 0, 0]]"
      ],
      "metadata": {
        "colab": {
          "base_uri": "https://localhost:8080/"
        },
        "id": "XzvBGQQriM0U",
        "outputId": "872c897c-4f5f-4d6e-f11a-3db0c4b6c715"
      },
      "execution_count": 7,
      "outputs": [
        {
          "output_type": "stream",
          "name": "stdout",
          "text": [
            "[[0, 0, 0], [0, 0, 0], [0, 0, 0]]\n",
            "[[99, 0, 0], [99, 0, 0], [99, 0, 0]]\n"
          ]
        }
      ]
    },
    {
      "cell_type": "markdown",
      "source": [
        "Se você quer listas independentes, use list comprehension:"
      ],
      "metadata": {
        "id": "gCczjItmjOZL"
      }
    },
    {
      "cell_type": "code",
      "source": [
        "matrix = [[0] * 3 for _ in range(3)]\n",
        "matrix[0][0] = 99\n",
        "print(matrix)  # [[99, 0, 0], [0, 0, 0], [0, 0, 0]]"
      ],
      "metadata": {
        "colab": {
          "base_uri": "https://localhost:8080/"
        },
        "id": "t_ZvgVP8jPwi",
        "outputId": "ec5897c5-cfee-4a24-cbb5-0896a8a7a9d1"
      },
      "execution_count": 8,
      "outputs": [
        {
          "output_type": "stream",
          "name": "stdout",
          "text": [
            "[[99, 0, 0], [0, 0, 0], [0, 0, 0]]\n"
          ]
        }
      ]
    },
    {
      "cell_type": "markdown",
      "source": [
        "### <div style=\"background-color:#e0ffe0; padding:10px; border-radius:8px;\"> 🟢 <b>Essencial (Maratona): verdade/falsidade</b><br> • <code>if a:</code> é <b>False</b> quando <code>a</code> é lista vazia (<code>[]</code>).<br> • <code>if a:</code> é <b>True</b> quando a lista tem pelo menos 1 elemento.<br> • <code>if None:</code> é sempre <b>False</b>.<br> • Use <code>if a:</code> para “lista não vazia” e <code>if a is None:</code> para checar “ausência de valor”. </div>"
      ],
      "metadata": {
        "id": "XKhmr8GlB1Np"
      }
    },
    {
      "cell_type": "code",
      "source": [
        "print(bool([]), \"← bool([]) é False\")\n",
        "print(bool([0]), \"← bool([0]) é True (lista não vazia)\")\n",
        "print(bool(None), \"← bool(None) é False\")\n",
        "\n",
        "a = []\n",
        "if a:\n",
        "    print(\"entrou\")\n",
        "else:\n",
        "    print(\"não entrou (lista vazia)\")\n",
        "\n",
        "b = None\n",
        "if b is None:\n",
        "    print(\"b é None (ausência de valor)\")\n"
      ],
      "metadata": {
        "colab": {
          "base_uri": "https://localhost:8080/"
        },
        "id": "si6Yo-B9B3pX",
        "outputId": "a2592462-b744-4f9b-9a3f-e99313aa8c92"
      },
      "execution_count": 1,
      "outputs": [
        {
          "output_type": "stream",
          "name": "stdout",
          "text": [
            "False ← bool([]) é False\n",
            "True ← bool([0]) é True (lista não vazia)\n",
            "False ← bool(None) é False\n",
            "não entrou (lista vazia)\n",
            "b é None (ausência de valor)\n"
          ]
        }
      ]
    },
    {
      "cell_type": "markdown",
      "source": [
        "### <div style=\"background-color:#e0f0ff; padding:10px; border-radius:8px;\"> 🔵 <b>Teoria Extra</b>\n",
        "\n",
        "1) Modelo mental: nomes → objetos → identidade\n",
        "\n",
        "<br> Em Python, <b>variáveis são nomes</b> que apontam para <b>objetos</b> na memória.<br> Dois nomes podem apontar para o mesmo objeto (identidade), mesmo que apareçam em lugares diferentes do código. </div>"
      ],
      "metadata": {
        "id": "3jQK6DjGDbL5"
      }
    },
    {
      "cell_type": "markdown",
      "source": [
        "“Desenho” de identidade (id) e valor (==)"
      ],
      "metadata": {
        "id": "SCLSUCnkD6rf"
      }
    },
    {
      "cell_type": "code",
      "source": [
        "a = [10, 20]\n",
        "b = a          # b aponta para o MESMO objeto que a\n",
        "c = [10, 20]   # c aponta para OUTRO objeto, mas com o mesmo valor\n",
        "\n",
        "print(a == b, a is b)  # True True  -> mesmo valor e MESMA identidade\n",
        "print(a == c, a is c)  # True False -> mesmo valor, IDENTIDADE diferente\n",
        "print(id(a), id(b), id(c))  # relação de onde o objeto está na memória"
      ],
      "metadata": {
        "colab": {
          "base_uri": "https://localhost:8080/"
        },
        "id": "n912UJmQEZjY",
        "outputId": "427ee3ab-9626-423e-cc8d-302c7355658a"
      },
      "execution_count": 2,
      "outputs": [
        {
          "output_type": "stream",
          "name": "stdout",
          "text": [
            "True True\n",
            "True False\n",
            "140125289778816 140125289778816 140125289777344\n"
          ]
        }
      ]
    },
    {
      "cell_type": "markdown",
      "source": [
        "== compara valor (conteúdo).\n",
        "\n",
        "is compara identidade (mesmo objeto)."
      ],
      "metadata": {
        "id": "Dxmh9ussIriY"
      }
    },
    {
      "cell_type": "markdown",
      "source": [
        "\n",
        "\n",
        "```\n",
        "NOMES     OBJETO (memória)\n",
        "a ──┐\n",
        "    ├──► [10, 20]   ← mesmo objeto\n",
        "b ──┘\n",
        "\n",
        "c ──► [10, 20]      ← outro objeto com o mesmo valor\n",
        "```\n",
        "\n"
      ],
      "metadata": {
        "id": "Ky274xb0LMHR"
      }
    },
    {
      "cell_type": "markdown",
      "source": [
        "2) Armadilha clássica: multiplicação de listas e aliasing\n",
        "Caso problemático"
      ],
      "metadata": {
        "id": "FOctOgzHJX-M"
      }
    },
    {
      "cell_type": "code",
      "source": [
        "# 3 linhas, 3 colunas — mas com ALIASING nas linhas!\n",
        "mat = [[0] * 3] * 3\n",
        "print(mat)  # [[0, 0, 0], [0, 0, 0], [0, 0, 0]]\n",
        "\n",
        "# \"Desenho\" das identidades\n",
        "print([id(row) for row in mat])  # as 3 linhas terão o MESMO id\n",
        "\n",
        "mat[0][0] = 99\n",
        "print(mat)  # [[99, 0, 0], [99, 0, 0], [99, 0, 0]]  ← mudou \"em todas\"\n"
      ],
      "metadata": {
        "colab": {
          "base_uri": "https://localhost:8080/"
        },
        "id": "asFAMzxJJa1I",
        "outputId": "518e4671-0a82-43dc-98bd-a7284e33d2e5"
      },
      "execution_count": 4,
      "outputs": [
        {
          "output_type": "stream",
          "name": "stdout",
          "text": [
            "[[0, 0, 0], [0, 0, 0], [0, 0, 0]]\n",
            "[140125291019584, 140125291019584, 140125291019584]\n",
            "[[99, 0, 0], [99, 0, 0], [99, 0, 0]]\n"
          ]
        }
      ]
    },
    {
      "cell_type": "markdown",
      "source": [
        "Desenho do problema (as três “linhas” apontam para o MESMO objeto):"
      ],
      "metadata": {
        "id": "QvkN-Hi0MSFa"
      }
    },
    {
      "cell_type": "markdown",
      "source": [
        "```\n",
        "mat ──► [  ┌───────────┐\n",
        "          │   row ─────┼─► [0, 0, 0]\n",
        "          │   row ─────┼─┘   ^  ^  ^\n",
        "          │   row ─────┘     |  |  |\n",
        "          └───────────────────┴──┴──┘  (é a MESMA lista)\n",
        "]\n",
        "```\n"
      ],
      "metadata": {
        "id": "uegamAyVLyuk"
      }
    },
    {
      "cell_type": "markdown",
      "source": [
        "[[0]*3] cria uma lista interna [0,0,0].\n",
        "\n",
        "* 3 repete a referência dessa mesma lista 3 vezes (não cria 3 listas novas)."
      ],
      "metadata": {
        "id": "HDURcmoaMT-v"
      }
    },
    {
      "cell_type": "markdown",
      "source": [
        "Solução correta (listas independentes)"
      ],
      "metadata": {
        "id": "J7DGhgefNAT6"
      }
    },
    {
      "cell_type": "code",
      "source": [
        "# 3 linhas independentes\n",
        "mat2 = [[0] * 3 for _ in range(3)]\n",
        "print(mat2)\n",
        "print([id(row) for row in mat2])  # ids diferentes\n",
        "\n",
        "mat2[0][0] = 99\n",
        "print(mat2)  # só a primeira linha muda"
      ],
      "metadata": {
        "colab": {
          "base_uri": "https://localhost:8080/"
        },
        "id": "YbgBfWYrNCtA",
        "outputId": "a5f6cadd-21cb-4181-e0b4-c1e39608fa5b"
      },
      "execution_count": 5,
      "outputs": [
        {
          "output_type": "stream",
          "name": "stdout",
          "text": [
            "[[0, 0, 0], [0, 0, 0], [0, 0, 0]]\n",
            "[140125289775744, 140125289777536, 140125571112192]\n",
            "[[99, 0, 0], [0, 0, 0], [0, 0, 0]]\n"
          ]
        }
      ]
    },
    {
      "cell_type": "markdown",
      "source": [
        "Desenho correto:"
      ],
      "metadata": {
        "id": "foF1Gt4zNod8"
      }
    },
    {
      "cell_type": "markdown",
      "source": [
        "```\n",
        "mat2 ──► [\n",
        "           row1 ─► [0, 0, 0]\n",
        "           row2 ─► [0, 0, 0]\n",
        "           row3 ─► [0, 0, 0]\n",
        "         ]   (3 objetos diferentes)\n",
        "```"
      ],
      "metadata": {
        "id": "fG9-550sNpdT"
      }
    },
    {
      "cell_type": "markdown",
      "source": [
        "### <div style=\"background-color:#e0ffe0; padding:10px; border-radius:8px;\"> 🟢 <b>Essencial (Maratona)</b>\n",
        "\n",
        "3) Cópia rasa vs cópia profunda (shallow vs deep copy)\n",
        "\n",
        "<br> • Cópia “rápida” de lista (shallow): <code>a.copy()</code>, <code>a[:]</code> ou <code>list(a)</code>.<br> • Para listas de <b>listas</b> (ou objetos), a cópia é rasa: só copia a lista de fora; dentro continua a mesma referência. </div>"
      ],
      "metadata": {
        "id": "2Lt7hI-gN2tq"
      }
    },
    {
      "cell_type": "code",
      "source": [
        "import copy\n",
        "\n",
        "outer = [[1, 2], [3, 4]]\n",
        "\n",
        "# cópia RASA (3 jeitos equivalentes)\n",
        "sh1 = outer.copy()\n",
        "sh2 = outer[:]\n",
        "sh3 = list(outer)\n",
        "\n",
        "print(outer is sh1, outer == sh1)  # False True\n",
        "print(id(outer[0]), id(sh1[0]))    # MESMO id → mesmo objeto interno\n",
        "\n",
        "# cópia PROFUNDA\n",
        "dp = copy.deepcopy(outer)\n",
        "print(id(outer[0]), id(dp[0]))     # ids diferentes → objetos internos independentes\n",
        "\n",
        "# efeito prático\n",
        "outer[0][0] = 99\n",
        "print(\"outer :\", outer)  # [[99, 2], [3, 4]]\n",
        "print(\"sh1   :\", sh1)    # [[99, 2], [3, 4]]  ← mudou junto (rasa)\n",
        "print(\"dp    :\", dp)     # [[1, 2], [3, 4]]   ← não foi alterada (profunda)\n"
      ],
      "metadata": {
        "colab": {
          "base_uri": "https://localhost:8080/"
        },
        "id": "RwEyc4xDP1HB",
        "outputId": "ac87d2b9-fefb-424a-9314-557ca8b63f6c"
      },
      "execution_count": 6,
      "outputs": [
        {
          "output_type": "stream",
          "name": "stdout",
          "text": [
            "False True\n",
            "140125289780160 140125289780160\n",
            "140125289780160 140125289781760\n",
            "outer : [[99, 2], [3, 4]]\n",
            "sh1   : [[99, 2], [3, 4]]\n",
            "dp    : [[1, 2], [3, 4]]\n"
          ]
        }
      ]
    },
    {
      "cell_type": "markdown",
      "source": [
        "4) “Desenho” de cópia rasa (shallow)"
      ],
      "metadata": {
        "id": "AI51rxtaQCRL"
      }
    },
    {
      "cell_type": "markdown",
      "source": [
        "```\n",
        "outer ──► [ A ─► [1, 2],  B ─► [3, 4] ]\n",
        "\n",
        "shallow_copy ──► [ A ─► [1, 2],  B ─► [3, 4] ]\n",
        "                   ^                ^\n",
        "                   |                |\n",
        "          mesmas referências internas\n",
        "```"
      ],
      "metadata": {
        "id": "IGqwV0_SQDN-"
      }
    },
    {
      "cell_type": "markdown",
      "source": [
        "Cópia profunda cria novas listas internas:"
      ],
      "metadata": {
        "id": "CaHVWtlCQLvo"
      }
    },
    {
      "cell_type": "markdown",
      "source": [
        "```\n",
        "deep_copy ──► [ A' ─► [1, 2],  B' ─► [3, 4] ]\n",
        "```"
      ],
      "metadata": {
        "id": "7A5RQ4-KQOhg"
      }
    },
    {
      "cell_type": "markdown",
      "source": [
        "Exemplos"
      ],
      "metadata": {
        "id": "IYKl87plSH-B"
      }
    },
    {
      "cell_type": "markdown",
      "source": [
        "(A) Verdade/falsidade e None"
      ],
      "metadata": {
        "id": "dsfSD5aJSLXf"
      }
    },
    {
      "cell_type": "code",
      "source": [
        "cases = [[], [0], [None], None, 0, \"\", \"a\"]\n",
        "for x in cases:\n",
        "    print(f\"x={x!r:8s}  bool(x)={bool(x)}\")"
      ],
      "metadata": {
        "colab": {
          "base_uri": "https://localhost:8080/"
        },
        "id": "hXhrouChSKJN",
        "outputId": "ac3ca2d0-95e1-4e8f-ddc6-c05f034a2635"
      },
      "execution_count": 7,
      "outputs": [
        {
          "output_type": "stream",
          "name": "stdout",
          "text": [
            "x=[]        bool(x)=False\n",
            "x=[0]       bool(x)=True\n",
            "x=[None]    bool(x)=True\n",
            "x=None      bool(x)=False\n",
            "x=0         bool(x)=False\n",
            "x=''        bool(x)=False\n",
            "x='a'       bool(x)=True\n"
          ]
        }
      ]
    },
    {
      "cell_type": "markdown",
      "source": [
        "(B) Identidade vs valor"
      ],
      "metadata": {
        "id": "XxxQ4se-SZMd"
      }
    },
    {
      "cell_type": "code",
      "source": [
        "a = [1,2]\n",
        "b = a\n",
        "c = [1,2]\n",
        "print(\"a == b?\", a == b, \"| a is b?\", a is b)\n",
        "print(\"a == c?\", a == c, \"| a is c?\", a is c)"
      ],
      "metadata": {
        "colab": {
          "base_uri": "https://localhost:8080/"
        },
        "id": "IPa016QBSZo3",
        "outputId": "10942340-301d-4a2d-bfe5-779244f98ba0"
      },
      "execution_count": 8,
      "outputs": [
        {
          "output_type": "stream",
          "name": "stdout",
          "text": [
            "a == b? True | a is b? True\n",
            "a == c? True | a is c? False\n"
          ]
        }
      ]
    },
    {
      "cell_type": "markdown",
      "source": [
        "(C) Multiplicação e aliasing"
      ],
      "metadata": {
        "id": "12ciJrl0SjEt"
      }
    },
    {
      "cell_type": "code",
      "source": [
        "bad = [[0]*2]*2\n",
        "good = [[0]*2 for _ in range(2)]\n",
        "print(\"bad ids:\", [id(row) for row in bad])\n",
        "print(\"good ids:\", [id(row) for row in good])\n",
        "bad[0][0] = 7\n",
        "print(\"bad :\", bad)\n",
        "good[0][0] = 7\n",
        "print(\"good:\", good)"
      ],
      "metadata": {
        "colab": {
          "base_uri": "https://localhost:8080/"
        },
        "id": "C6x1wiZ7SkD6",
        "outputId": "49c07b8c-a2a8-444a-e4df-abdbd841a7f6"
      },
      "execution_count": 10,
      "outputs": [
        {
          "output_type": "stream",
          "name": "stdout",
          "text": [
            "bad ids: [140125289859712, 140125289859712]\n",
            "good ids: [140125289777344, 140125289777792]\n",
            "bad : [[7, 0], [7, 0]]\n",
            "good: [[7, 0], [0, 0]]\n"
          ]
        }
      ]
    },
    {
      "cell_type": "markdown",
      "source": [
        "(D) Shallow vs deep"
      ],
      "metadata": {
        "id": "GOvXjssgTcze"
      }
    },
    {
      "cell_type": "code",
      "source": [
        "import copy\n",
        "\n",
        "outer = [[0], [1]]\n",
        "sh = outer[:]           # rasa\n",
        "dp = copy.deepcopy(outer)\n",
        "\n",
        "outer[0].append(99)\n",
        "print(\"outer:\", outer)\n",
        "print(\"sh   :\", sh)     # mudou junto\n",
        "print(\"dp   :\", dp)     # não mudou"
      ],
      "metadata": {
        "colab": {
          "base_uri": "https://localhost:8080/"
        },
        "id": "DCY0cLtXTdZD",
        "outputId": "601f2eba-015d-4a48-a648-5e30b3f237e2"
      },
      "execution_count": 11,
      "outputs": [
        {
          "output_type": "stream",
          "name": "stdout",
          "text": [
            "outer: [[0, 99], [1]]\n",
            "sh   : [[0, 99], [1]]\n",
            "dp   : [[0], [1]]\n"
          ]
        }
      ]
    },
    {
      "cell_type": "markdown",
      "source": [
        "### <div style=\"background-color:#e0ffe0; padding:10px; border-radius:8px;\"> 🟢 <b>Essencial (Maratona)</b>\n",
        "\n",
        "6) Dicas rápidas de uso (listas) — maratona\n",
        "\n",
        "<br> • Teste “não vazia” com <code>if a:</code> (mais idiomático e rápido que <code>len(a) > 0</code>).<br> • Para checar ausência de valor, use <code>is None</code>/<code>is not None</code> (identidade).<br> • Evite <code>[[x]*m]*n</code> para matriz; prefira compreensão: <code>[[x]*m for _ in range(n)]</code>.<br> • Cópia rápida da lista: <code>a[:]</code> ou <code>a.copy()</code>; para aninhadas, use <code>copy.deepcopy</code> se precisar independência total. </div>"
      ],
      "metadata": {
        "id": "aLdlPDYhTu3T"
      }
    }
  ]
}