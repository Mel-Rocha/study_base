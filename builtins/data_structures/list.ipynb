{
  "nbformat": 4,
  "nbformat_minor": 0,
  "metadata": {
    "colab": {
      "provenance": []
    },
    "kernelspec": {
      "name": "python3",
      "display_name": "Python 3"
    },
    "language_info": {
      "name": "python"
    }
  },
  "cells": [
    {
      "cell_type": "markdown",
      "source": [
        "# Introdução"
      ],
      "metadata": {
        "id": "-lG1bJfpV0LQ"
      }
    },
    {
      "cell_type": "markdown",
      "source": [
        "Listas (list) — sequência mutável, ordenada, com suporte a elementos duplicados e heterogêneos.\n",
        "Objetivo de aprendizagem: entender o que é uma lista, quando usar em problemas de programação competitiva e quais propriedades essenciais ela possui."
      ],
      "metadata": {
        "id": "bH59GikqV7nu"
      }
    },
    {
      "cell_type": "markdown",
      "source": [
        "🟢 <b>Essencial (Maratona)</b><br>\n",
        "• Lista é <b>ordenada</b> e <b>mutável</b>.<br>\n",
        "• Permite <b>duplicatas</b> e <b>tipos mistos</b> (ex.: int e str juntos).<br>\n",
        "• Acesso por índice é <b>O(1)</b>; inserções/remoções no meio são <b>O(n)</b>.<br>\n",
        "• Ótima para simular <b>pilha (stack)</b> com <code>append</code>/<code>pop</code>.\n",
        "</div>\n"
      ],
      "metadata": {
        "id": "bfZjWYtSWCc2"
      }
    },
    {
      "cell_type": "markdown",
      "source": [
        "🔵 <b>Teoria extra</b><br>\n",
        "• Em CPython, listas são implementadas como <i>arrays dinâmicos</i> (crescimento amortizado).<br>\n",
        "• A ordem dos elementos é a ordem de inserção; índices começam em 0.<br>\n",
        "• Comparar com outras coleções: <i>list</i> (ordem e duplicatas), <i>set</i> (unicidade, sem ordem), <i>dict</i> (mapeamento chave→valor, preserva ordem de inserção).\n",
        "</div>\n"
      ],
      "metadata": {
        "id": "Etrds7uYWh0j"
      }
    },
    {
      "cell_type": "code",
      "execution_count": null,
      "metadata": {
        "id": "Jawy6sARjxRN",
        "colab": {
          "base_uri": "https://localhost:8080/"
        },
        "outputId": "c85c6d57-7db1-4ce4-fc89-8ec6da389567"
      },
      "outputs": [
        {
          "output_type": "stream",
          "name": "stdout",
          "text": [
            "a = [10, 20, 10, 30]\n",
            "a[0] = 10\n",
            "a[-1] = 30\n",
            "b = [1, 'x', 3.14, True] | tipos = ['int', 'str', 'float', 'bool']\n",
            "a após a[1]=99 -> [10, 99, 10, 30]\n"
          ]
        }
      ],
      "source": [
        "# Ordem e duplicatas\n",
        "a = [10, 20, 10, 30]\n",
        "print(\"a =\", a)                 # mantém ordem e repetidos\n",
        "print(\"a[0] =\", a[0])           # acesso por índice\n",
        "print(\"a[-1] =\", a[-1])         # índice negativo é do fim para o início\n",
        "\n",
        "# Heterogeneidade\n",
        "b = [1, \"x\", 3.14, True]\n",
        "print(\"b =\", b, \"| tipos =\", [type(x).__name__ for x in b])\n",
        "\n",
        "# Mutabilidade (troca in-place)\n",
        "a[1] = 99\n",
        "print(\"a após a[1]=99 ->\", a)\n"
      ]
    },
    {
      "cell_type": "markdown",
      "source": [
        "# Criação"
      ],
      "metadata": {
        "id": "3sxwrL2PdZWS"
      }
    },
    {
      "cell_type": "markdown",
      "source": [
        "Básico"
      ],
      "metadata": {
        "id": "W6WQEQxxeKlS"
      }
    },
    {
      "cell_type": "code",
      "source": [
        "# Lista vazia\n",
        "lst = []\n",
        "print(lst)  # []\n",
        "\n",
        "# Criar lista com valores já definidos\n",
        "nums = [1, 2, 3, 4, 5]\n",
        "print(nums)  # [1, 2, 3, 4, 5]"
      ],
      "metadata": {
        "colab": {
          "base_uri": "https://localhost:8080/"
        },
        "id": "6HKmCF4_dqWO",
        "outputId": "7d42f02d-e9be-4d9a-d295-90332040f1a0"
      },
      "execution_count": null,
      "outputs": [
        {
          "output_type": "stream",
          "name": "stdout",
          "text": [
            "[]\n",
            "[1, 2, 3, 4, 5]\n"
          ]
        }
      ]
    },
    {
      "cell_type": "markdown",
      "source": [
        "Criar lista a partir de outra estrutura (conversão com list())"
      ],
      "metadata": {
        "id": "TaoSzT6KeeWK"
      }
    },
    {
      "cell_type": "code",
      "source": [
        "# De string para lista de caracteres\n",
        "chars = list(\"hello\")\n",
        "print(chars)  # ['h', 'e', 'l', 'l', 'o']\n",
        "\n",
        "# De range para lista\n",
        "nums = list(range(5))\n",
        "print(nums)  # [0, 1, 2, 3, 4]\n"
      ],
      "metadata": {
        "colab": {
          "base_uri": "https://localhost:8080/"
        },
        "id": "eV-pMRN0eQSx",
        "outputId": "1cb80ea4-ff9c-4c09-d31e-f0b82f3dec35"
      },
      "execution_count": null,
      "outputs": [
        {
          "output_type": "stream",
          "name": "stdout",
          "text": [
            "['h', 'e', 'l', 'l', 'o']\n",
            "[0, 1, 2, 3, 4]\n"
          ]
        }
      ]
    },
    {
      "cell_type": "markdown",
      "source": [
        "Listas criadas com repetição"
      ],
      "metadata": {
        "id": "PjcDcjs2fAC5"
      }
    },
    {
      "cell_type": "code",
      "source": [
        "my_list = [None] * 5 # 5 posições None\n",
        "print(my_list)\n",
        "\n",
        "zeros = [0] * 10 # 10 posições, preenchidas com 0\n",
        "print(zeros)"
      ],
      "metadata": {
        "colab": {
          "base_uri": "https://localhost:8080/"
        },
        "id": "lqqCDlsofGzY",
        "outputId": "f3f50f39-7516-4ee0-ec1c-3aa24c32f4d8"
      },
      "execution_count": null,
      "outputs": [
        {
          "output_type": "stream",
          "name": "stdout",
          "text": [
            "[None, None, None, None, None]\n",
            "[0, 0, 0, 0, 0, 0, 0, 0, 0, 0]\n"
          ]
        }
      ]
    },
    {
      "cell_type": "code",
      "source": [],
      "metadata": {
        "id": "bo3U-_OfQkb_"
      },
      "execution_count": null,
      "outputs": []
    },
    {
      "cell_type": "markdown",
      "source": [
        "listas com compreensão"
      ],
      "metadata": {
        "id": "BBOrLewbgImf"
      }
    },
    {
      "cell_type": "code",
      "source": [
        "squares = [x**2 for x in range(5)]\n",
        "print(squares)  # [0, 1, 4, 9, 16]"
      ],
      "metadata": {
        "colab": {
          "base_uri": "https://localhost:8080/"
        },
        "id": "uv8AcoowgJqR",
        "outputId": "597726f8-ae66-416e-8f9b-6dd5ef5d0d44"
      },
      "execution_count": null,
      "outputs": [
        {
          "output_type": "stream",
          "name": "stdout",
          "text": [
            "[0, 1, 4, 9, 16]\n"
          ]
        }
      ]
    },
    {
      "cell_type": "markdown",
      "source": [
        "## Manipulação de Objetos: Cópia rasa e profunda"
      ],
      "metadata": {
        "id": "xejfCrMOQfvD"
      }
    },
    {
      "cell_type": "markdown",
      "source": [
        "### 🔵 Teoria extra\n",
        "\n",
        "Diferenças de memória\n",
        "\n",
        "Cada lista é um objeto na memória.\n",
        "\n",
        "Quando você faz [0] * 5, você cria 5 referências para o mesmo objeto 0 (imutável).\n",
        "\n",
        "Para tipos mutáveis, **cuidado**:"
      ],
      "metadata": {
        "id": "vijJfinLiB5m"
      }
    },
    {
      "cell_type": "code",
      "source": [
        "# Isso cria 3 referências para a MESMA lista interna\n",
        "matrix = [[0] * 3] * 3\n",
        "print(matrix)  # [[0, 0, 0], [0, 0, 0], [0, 0, 0]]\n",
        "\n",
        "matrix[0][0] = 99\n",
        "print(matrix)  # [[99, 0, 0], [99, 0, 0], [99, 0, 0]]"
      ],
      "metadata": {
        "colab": {
          "base_uri": "https://localhost:8080/"
        },
        "id": "XzvBGQQriM0U",
        "outputId": "872c897c-4f5f-4d6e-f11a-3db0c4b6c715"
      },
      "execution_count": null,
      "outputs": [
        {
          "output_type": "stream",
          "name": "stdout",
          "text": [
            "[[0, 0, 0], [0, 0, 0], [0, 0, 0]]\n",
            "[[99, 0, 0], [99, 0, 0], [99, 0, 0]]\n"
          ]
        }
      ]
    },
    {
      "cell_type": "markdown",
      "source": [
        "Se você quer listas independentes, use list comprehension:"
      ],
      "metadata": {
        "id": "gCczjItmjOZL"
      }
    },
    {
      "cell_type": "code",
      "source": [
        "matrix = [[0] * 3 for _ in range(3)]\n",
        "matrix[0][0] = 99\n",
        "print(matrix)  # [[99, 0, 0], [0, 0, 0], [0, 0, 0]]"
      ],
      "metadata": {
        "colab": {
          "base_uri": "https://localhost:8080/"
        },
        "id": "t_ZvgVP8jPwi",
        "outputId": "ec5897c5-cfee-4a24-cbb5-0896a8a7a9d1"
      },
      "execution_count": null,
      "outputs": [
        {
          "output_type": "stream",
          "name": "stdout",
          "text": [
            "[[99, 0, 0], [0, 0, 0], [0, 0, 0]]\n"
          ]
        }
      ]
    },
    {
      "cell_type": "markdown",
      "source": [
        "#🟢 Essencial (Maratona):\n",
        "\n",
        "verdade/falsidade\n",
        "• if a: é False quando a é lista vazia ([]).\n",
        "• if a: é True quando a lista tem pelo menos 1 elemento.\n",
        "• if None: é sempre False.\n",
        "• Use if a: para “lista não vazia” e if a is None: para checar “ausência de valor”."
      ],
      "metadata": {
        "id": "XKhmr8GlB1Np"
      }
    },
    {
      "cell_type": "code",
      "source": [
        "print(bool([]), \"← bool([]) é False\")\n",
        "print(bool([0]), \"← bool([0]) é True (lista não vazia)\")\n",
        "print(bool(None), \"← bool(None) é False\")\n",
        "\n",
        "a = []\n",
        "if a:\n",
        "    print(\"entrou\")\n",
        "else:\n",
        "    print(\"não entrou (lista vazia)\")\n",
        "\n",
        "b = None\n",
        "if b is None:\n",
        "    print(\"b é None (ausência de valor)\")\n"
      ],
      "metadata": {
        "colab": {
          "base_uri": "https://localhost:8080/"
        },
        "id": "si6Yo-B9B3pX",
        "outputId": "a2592462-b744-4f9b-9a3f-e99313aa8c92"
      },
      "execution_count": null,
      "outputs": [
        {
          "output_type": "stream",
          "name": "stdout",
          "text": [
            "False ← bool([]) é False\n",
            "True ← bool([0]) é True (lista não vazia)\n",
            "False ← bool(None) é False\n",
            "não entrou (lista vazia)\n",
            "b é None (ausência de valor)\n"
          ]
        }
      ]
    },
    {
      "cell_type": "markdown",
      "source": [
        "###  🔵 <b>Teoria Extra</b>\n",
        "\n",
        "1) Modelo mental: nomes → objetos → identidade\n",
        "\n",
        "<br> Em Python, <b>variáveis são nomes</b> que apontam para <b>objetos</b> na memória.<br> Dois nomes podem apontar para o mesmo objeto (identidade), mesmo que apareçam em lugares diferentes do código. </div>"
      ],
      "metadata": {
        "id": "3jQK6DjGDbL5"
      }
    },
    {
      "cell_type": "markdown",
      "source": [
        "“Desenho” de identidade (id) e valor (==)"
      ],
      "metadata": {
        "id": "SCLSUCnkD6rf"
      }
    },
    {
      "cell_type": "code",
      "source": [
        "a = [10, 20]\n",
        "b = a          # b aponta para o MESMO objeto que a\n",
        "c = [10, 20]   # c aponta para OUTRO objeto, mas com o mesmo valor\n",
        "\n",
        "print(a == b, a is b)  # True True  -> mesmo valor e MESMA identidade\n",
        "print(a == c, a is c)  # True False -> mesmo valor, IDENTIDADE diferente\n",
        "print(id(a), id(b), id(c))  # relação de onde o objeto está na memória"
      ],
      "metadata": {
        "colab": {
          "base_uri": "https://localhost:8080/"
        },
        "id": "n912UJmQEZjY",
        "outputId": "427ee3ab-9626-423e-cc8d-302c7355658a"
      },
      "execution_count": null,
      "outputs": [
        {
          "output_type": "stream",
          "name": "stdout",
          "text": [
            "True True\n",
            "True False\n",
            "140125289778816 140125289778816 140125289777344\n"
          ]
        }
      ]
    },
    {
      "cell_type": "markdown",
      "source": [
        "== compara valor (conteúdo).\n",
        "\n",
        "is compara identidade (mesmo objeto)."
      ],
      "metadata": {
        "id": "Dxmh9ussIriY"
      }
    },
    {
      "cell_type": "markdown",
      "source": [
        "\n",
        "\n",
        "```\n",
        "NOMES     OBJETO (memória)\n",
        "a ──┐\n",
        "    ├──► [10, 20]   ← mesmo objeto\n",
        "b ──┘\n",
        "\n",
        "c ──► [10, 20]      ← outro objeto com o mesmo valor\n",
        "```\n",
        "\n"
      ],
      "metadata": {
        "id": "Ky274xb0LMHR"
      }
    },
    {
      "cell_type": "markdown",
      "source": [
        "2) Armadilha clássica: multiplicação de listas e aliasing\n",
        "Caso problemático"
      ],
      "metadata": {
        "id": "FOctOgzHJX-M"
      }
    },
    {
      "cell_type": "code",
      "source": [
        "# 3 linhas, 3 colunas — mas com ALIASING nas linhas!\n",
        "mat = [[0] * 3] * 3\n",
        "print(mat)  # [[0, 0, 0], [0, 0, 0], [0, 0, 0]]\n",
        "\n",
        "# \"Desenho\" das identidades\n",
        "print([id(row) for row in mat])  # as 3 linhas terão o MESMO id\n",
        "\n",
        "mat[0][0] = 99\n",
        "print(mat)  # [[99, 0, 0], [99, 0, 0], [99, 0, 0]]  ← mudou \"em todas\"\n"
      ],
      "metadata": {
        "colab": {
          "base_uri": "https://localhost:8080/"
        },
        "id": "asFAMzxJJa1I",
        "outputId": "518e4671-0a82-43dc-98bd-a7284e33d2e5"
      },
      "execution_count": null,
      "outputs": [
        {
          "output_type": "stream",
          "name": "stdout",
          "text": [
            "[[0, 0, 0], [0, 0, 0], [0, 0, 0]]\n",
            "[140125291019584, 140125291019584, 140125291019584]\n",
            "[[99, 0, 0], [99, 0, 0], [99, 0, 0]]\n"
          ]
        }
      ]
    },
    {
      "cell_type": "markdown",
      "source": [
        "Desenho do problema (as três “linhas” apontam para o MESMO objeto):"
      ],
      "metadata": {
        "id": "QvkN-Hi0MSFa"
      }
    },
    {
      "cell_type": "markdown",
      "source": [
        "```\n",
        "mat ──► [  ┌───────────┐\n",
        "          │   row ─────┼─► [0, 0, 0]\n",
        "          │   row ─────┼─┘   ^  ^  ^\n",
        "          │   row ─────┘     |  |  |\n",
        "          └───────────────────┴──┴──┘  (é a MESMA lista)\n",
        "]\n",
        "```\n"
      ],
      "metadata": {
        "id": "uegamAyVLyuk"
      }
    },
    {
      "cell_type": "markdown",
      "source": [
        "[[0]*3] cria uma lista interna [0,0,0].\n",
        "\n",
        "* 3 repete a referência dessa mesma lista 3 vezes (não cria 3 listas novas)."
      ],
      "metadata": {
        "id": "HDURcmoaMT-v"
      }
    },
    {
      "cell_type": "markdown",
      "source": [
        "Solução correta (listas independentes)"
      ],
      "metadata": {
        "id": "J7DGhgefNAT6"
      }
    },
    {
      "cell_type": "code",
      "source": [
        "# 3 linhas independentes\n",
        "mat2 = [[0] * 3 for _ in range(3)]\n",
        "print(mat2)\n",
        "print([id(row) for row in mat2])  # ids diferentes\n",
        "\n",
        "mat2[0][0] = 99\n",
        "print(mat2)  # só a primeira linha muda"
      ],
      "metadata": {
        "colab": {
          "base_uri": "https://localhost:8080/"
        },
        "id": "YbgBfWYrNCtA",
        "outputId": "a5f6cadd-21cb-4181-e0b4-c1e39608fa5b"
      },
      "execution_count": null,
      "outputs": [
        {
          "output_type": "stream",
          "name": "stdout",
          "text": [
            "[[0, 0, 0], [0, 0, 0], [0, 0, 0]]\n",
            "[140125289775744, 140125289777536, 140125571112192]\n",
            "[[99, 0, 0], [0, 0, 0], [0, 0, 0]]\n"
          ]
        }
      ]
    },
    {
      "cell_type": "markdown",
      "source": [
        "Desenho correto:"
      ],
      "metadata": {
        "id": "foF1Gt4zNod8"
      }
    },
    {
      "cell_type": "markdown",
      "source": [
        "```\n",
        "mat2 ──► [\n",
        "           row1 ─► [0, 0, 0]\n",
        "           row2 ─► [0, 0, 0]\n",
        "           row3 ─► [0, 0, 0]\n",
        "         ]   (3 objetos diferentes)\n",
        "```"
      ],
      "metadata": {
        "id": "fG9-550sNpdT"
      }
    },
    {
      "cell_type": "markdown",
      "source": [
        "### 🟢 <b>Essencial (Maratona)</b>\n",
        "\n",
        "3) Cópia rasa vs cópia profunda (shallow vs deep copy)\n",
        "\n",
        "<br> • Cópia “rápida” de lista (shallow): <code>a.copy()</code>, <code>a[:]</code> ou <code>list(a)</code>.<br> • Para listas de <b>listas</b> (ou objetos), a cópia é rasa: só copia a lista de fora; dentro continua a mesma referência. </div>"
      ],
      "metadata": {
        "id": "2Lt7hI-gN2tq"
      }
    },
    {
      "cell_type": "code",
      "source": [
        "import copy\n",
        "\n",
        "outer = [[1, 2], [3, 4]]\n",
        "\n",
        "# cópia RASA (3 jeitos equivalentes)\n",
        "sh1 = outer.copy()\n",
        "sh2 = outer[:]\n",
        "sh3 = list(outer)\n",
        "\n",
        "print(outer is sh1, outer == sh1)  # False True\n",
        "print(id(outer[0]), id(sh1[0]))    # MESMO id → mesmo objeto interno\n",
        "\n",
        "# cópia PROFUNDA\n",
        "dp = copy.deepcopy(outer)\n",
        "print(id(outer[0]), id(dp[0]))     # ids diferentes → objetos internos independentes\n",
        "\n",
        "# efeito prático\n",
        "outer[0][0] = 99\n",
        "print(\"outer :\", outer)  # [[99, 2], [3, 4]]\n",
        "print(\"sh1   :\", sh1)    # [[99, 2], [3, 4]]  ← mudou junto (rasa)\n",
        "print(\"dp    :\", dp)     # [[1, 2], [3, 4]]   ← não foi alterada (profunda)\n"
      ],
      "metadata": {
        "colab": {
          "base_uri": "https://localhost:8080/"
        },
        "id": "RwEyc4xDP1HB",
        "outputId": "ac87d2b9-fefb-424a-9314-557ca8b63f6c"
      },
      "execution_count": null,
      "outputs": [
        {
          "output_type": "stream",
          "name": "stdout",
          "text": [
            "False True\n",
            "140125289780160 140125289780160\n",
            "140125289780160 140125289781760\n",
            "outer : [[99, 2], [3, 4]]\n",
            "sh1   : [[99, 2], [3, 4]]\n",
            "dp    : [[1, 2], [3, 4]]\n"
          ]
        }
      ]
    },
    {
      "cell_type": "markdown",
      "source": [
        "4) “Desenho” de cópia rasa (shallow)"
      ],
      "metadata": {
        "id": "AI51rxtaQCRL"
      }
    },
    {
      "cell_type": "markdown",
      "source": [
        "```\n",
        "outer ──► [ A ─► [1, 2],  B ─► [3, 4] ]\n",
        "\n",
        "shallow_copy ──► [ A ─► [1, 2],  B ─► [3, 4] ]\n",
        "                   ^                ^\n",
        "                   |                |\n",
        "          mesmas referências internas\n",
        "```"
      ],
      "metadata": {
        "id": "IGqwV0_SQDN-"
      }
    },
    {
      "cell_type": "markdown",
      "source": [
        "Cópia profunda cria novas listas internas:"
      ],
      "metadata": {
        "id": "CaHVWtlCQLvo"
      }
    },
    {
      "cell_type": "markdown",
      "source": [
        "```\n",
        "deep_copy ──► [ A' ─► [1, 2],  B' ─► [3, 4] ]\n",
        "```"
      ],
      "metadata": {
        "id": "7A5RQ4-KQOhg"
      }
    },
    {
      "cell_type": "markdown",
      "source": [
        "Exemplos"
      ],
      "metadata": {
        "id": "IYKl87plSH-B"
      }
    },
    {
      "cell_type": "markdown",
      "source": [
        "(A) Verdade/falsidade e None"
      ],
      "metadata": {
        "id": "dsfSD5aJSLXf"
      }
    },
    {
      "cell_type": "code",
      "source": [
        "cases = [[], [0], [None], None, 0, \"\", \"a\"]\n",
        "for x in cases:\n",
        "    print(f\"x={x!r:8s}  bool(x)={bool(x)}\")"
      ],
      "metadata": {
        "colab": {
          "base_uri": "https://localhost:8080/"
        },
        "id": "hXhrouChSKJN",
        "outputId": "ac3ca2d0-95e1-4e8f-ddc6-c05f034a2635"
      },
      "execution_count": null,
      "outputs": [
        {
          "output_type": "stream",
          "name": "stdout",
          "text": [
            "x=[]        bool(x)=False\n",
            "x=[0]       bool(x)=True\n",
            "x=[None]    bool(x)=True\n",
            "x=None      bool(x)=False\n",
            "x=0         bool(x)=False\n",
            "x=''        bool(x)=False\n",
            "x='a'       bool(x)=True\n"
          ]
        }
      ]
    },
    {
      "cell_type": "markdown",
      "source": [
        "(B) Identidade vs valor"
      ],
      "metadata": {
        "id": "XxxQ4se-SZMd"
      }
    },
    {
      "cell_type": "code",
      "source": [
        "a = [1,2]\n",
        "b = a\n",
        "c = [1,2]\n",
        "print(\"a == b?\", a == b, \"| a is b?\", a is b)\n",
        "print(\"a == c?\", a == c, \"| a is c?\", a is c)"
      ],
      "metadata": {
        "colab": {
          "base_uri": "https://localhost:8080/"
        },
        "id": "IPa016QBSZo3",
        "outputId": "10942340-301d-4a2d-bfe5-779244f98ba0"
      },
      "execution_count": null,
      "outputs": [
        {
          "output_type": "stream",
          "name": "stdout",
          "text": [
            "a == b? True | a is b? True\n",
            "a == c? True | a is c? False\n"
          ]
        }
      ]
    },
    {
      "cell_type": "markdown",
      "source": [
        "(C) Multiplicação e aliasing"
      ],
      "metadata": {
        "id": "12ciJrl0SjEt"
      }
    },
    {
      "cell_type": "code",
      "source": [
        "bad = [[0]*2]*2\n",
        "good = [[0]*2 for _ in range(2)]\n",
        "print(\"bad ids:\", [id(row) for row in bad])\n",
        "print(\"good ids:\", [id(row) for row in good])\n",
        "bad[0][0] = 7\n",
        "print(\"bad :\", bad)\n",
        "good[0][0] = 7\n",
        "print(\"good:\", good)"
      ],
      "metadata": {
        "colab": {
          "base_uri": "https://localhost:8080/"
        },
        "id": "C6x1wiZ7SkD6",
        "outputId": "49c07b8c-a2a8-444a-e4df-abdbd841a7f6"
      },
      "execution_count": null,
      "outputs": [
        {
          "output_type": "stream",
          "name": "stdout",
          "text": [
            "bad ids: [140125289859712, 140125289859712]\n",
            "good ids: [140125289777344, 140125289777792]\n",
            "bad : [[7, 0], [7, 0]]\n",
            "good: [[7, 0], [0, 0]]\n"
          ]
        }
      ]
    },
    {
      "cell_type": "markdown",
      "source": [
        "(D) Shallow vs deep"
      ],
      "metadata": {
        "id": "GOvXjssgTcze"
      }
    },
    {
      "cell_type": "code",
      "source": [
        "import copy\n",
        "\n",
        "outer = [[0], [1]]\n",
        "sh = outer[:]           # rasa\n",
        "dp = copy.deepcopy(outer)\n",
        "\n",
        "outer[0].append(99)\n",
        "print(\"outer:\", outer)\n",
        "print(\"sh   :\", sh)     # mudou junto\n",
        "print(\"dp   :\", dp)     # não mudou"
      ],
      "metadata": {
        "colab": {
          "base_uri": "https://localhost:8080/"
        },
        "id": "DCY0cLtXTdZD",
        "outputId": "601f2eba-015d-4a48-a648-5e30b3f237e2"
      },
      "execution_count": null,
      "outputs": [
        {
          "output_type": "stream",
          "name": "stdout",
          "text": [
            "outer: [[0, 99], [1]]\n",
            "sh   : [[0, 99], [1]]\n",
            "dp   : [[0], [1]]\n"
          ]
        }
      ]
    },
    {
      "cell_type": "markdown",
      "source": [
        "###  🟢 <b>Essencial (Maratona)</b>\n",
        "\n",
        "6) Dicas rápidas de uso (listas) — maratona\n",
        "\n",
        "<br> • Teste “não vazia” com <code>if a:</code> (mais idiomático e rápido que <code>len(a) > 0</code>).<br> • Para checar ausência de valor, use <code>is None</code>/<code>is not None</code> (identidade).<br> • Evite <code>[[x]*m]*n</code> para matriz; prefira compreensão: <code>[[x]*m for _ in range(n)]</code>.<br> • Cópia rápida da lista: <code>a[:]</code> ou <code>a.copy()</code>; para aninhadas, use <code>copy.deepcopy</code> se precisar independência total. </div>"
      ],
      "metadata": {
        "id": "aLdlPDYhTu3T"
      }
    },
    {
      "cell_type": "markdown",
      "source": [
        "# Operações Fundamentais"
      ],
      "metadata": {
        "id": "Pa2dboaeqUf-"
      }
    },
    {
      "cell_type": "markdown",
      "source": [
        "3.1 Indexação\n",
        "\n",
        "Cada elemento da lista é acessado pelo índice (começa em 0)."
      ],
      "metadata": {
        "id": "BW3ihtNOqWO3"
      }
    },
    {
      "cell_type": "code",
      "source": [
        "fruits = [\"apple\", \"banana\", \"cherry\"]\n",
        "print(fruits[0])   # apple\n",
        "print(fruits[-1])  # cherry (índice negativo = conta de trás pra frente)"
      ],
      "metadata": {
        "colab": {
          "base_uri": "https://localhost:8080/"
        },
        "id": "r70WBY0DqZrI",
        "outputId": "03b12be6-9094-459e-e09b-6bbea0c59301"
      },
      "execution_count": null,
      "outputs": [
        {
          "output_type": "stream",
          "name": "stdout",
          "text": [
            "apple\n",
            "cherry\n"
          ]
        }
      ]
    },
    {
      "cell_type": "markdown",
      "source": [
        "3.2 Fatiamento (slicing)\n",
        "\n",
        "Extrair partes de uma lista."
      ],
      "metadata": {
        "id": "HlbEM0YGq7JO"
      }
    },
    {
      "cell_type": "code",
      "source": [
        "nums = [10, 20, 30, 40, 50]\n",
        "print(nums[1:3])   # [20, 30]\n",
        "print(nums[:3])    # [10, 20, 30]\n",
        "print(nums[2:])    # [30, 40, 50]\n",
        "print(nums[::2])   # [10, 30, 50] (pula de 2 em 2)"
      ],
      "metadata": {
        "id": "lRqmpxiIq8aI",
        "outputId": "8a196ab9-6560-4c1b-e23a-c3ef7000992b",
        "colab": {
          "base_uri": "https://localhost:8080/"
        }
      },
      "execution_count": 21,
      "outputs": [
        {
          "output_type": "stream",
          "name": "stdout",
          "text": [
            "[20, 30]\n",
            "[10, 20, 30]\n",
            "[30, 40, 50]\n",
            "[10, 30, 50]\n"
          ]
        }
      ]
    },
    {
      "cell_type": "markdown",
      "source": [
        "Atribuição via slice (slicing assignment)\n",
        "\n",
        "Você pode substituir, remover ou inserir elementos via fatias:\n",
        "\n",
        "a[1:3] = [9,9] substitui a fatia.\n",
        "\n",
        "a[1:1] = [9,9] insere antes do índice 1.\n",
        "\n",
        "a[:] = [] limpa lista in-place (equivalente a clear()).\n",
        "\n",
        "del a[1:3] remove fatia."
      ],
      "metadata": {
        "id": "gUYSd5QIKEBt"
      }
    },
    {
      "cell_type": "code",
      "source": [
        "a = [0,1,2,3,4]\n",
        "a[1:3] = ['a','b']    # [0,'a','b',3,4]\n",
        "a[1:1] = [9,9]        # [0,9,9,'a','b',3,4]\n",
        "del a[2:4]            # remove elementos\n",
        "a[:] = []             # esvazia"
      ],
      "metadata": {
        "id": "2PSCn9_hKFYY"
      },
      "execution_count": 22,
      "outputs": []
    },
    {
      "cell_type": "markdown",
      "source": [
        "Observação poderosa: slice assignment permite mudar tamanho da lista sem rebind de nome — útil quando outras referências precisam ver a mudança."
      ],
      "metadata": {
        "id": "nwfaWOUuKNWz"
      }
    },
    {
      "cell_type": "markdown",
      "source": [
        "3.3 Iteração\n",
        "\n",
        "O mais comum: percorrer elementos."
      ],
      "metadata": {
        "id": "MRVXoJhWu_ou"
      }
    },
    {
      "cell_type": "code",
      "source": [
        "for fruit in fruits:\n",
        "    print(fruit)"
      ],
      "metadata": {
        "colab": {
          "base_uri": "https://localhost:8080/"
        },
        "id": "g5JtFgF4vA8-",
        "outputId": "764dff76-b0dd-4a5d-e24b-9eadb1a96236"
      },
      "execution_count": 3,
      "outputs": [
        {
          "output_type": "stream",
          "name": "stdout",
          "text": [
            "apple\n",
            "banana\n",
            "cherry\n"
          ]
        }
      ]
    },
    {
      "cell_type": "markdown",
      "source": [
        "3.4 Verificação de pertencimento\n",
        "\n",
        "Usando in e not in."
      ],
      "metadata": {
        "id": "F8zmCcEwvNNx"
      }
    },
    {
      "cell_type": "code",
      "source": [
        "print(\"apple\" in fruits)   # True\n",
        "print(\"pear\" not in fruits)  # True"
      ],
      "metadata": {
        "colab": {
          "base_uri": "https://localhost:8080/"
        },
        "id": "uB7go1Z2vO-7",
        "outputId": "d88deb19-0ec8-48c0-df08-cd4a3644fd57"
      },
      "execution_count": 4,
      "outputs": [
        {
          "output_type": "stream",
          "name": "stdout",
          "text": [
            "True\n",
            "True\n"
          ]
        }
      ]
    },
    {
      "cell_type": "markdown",
      "source": [
        "3.5 Tamanho\n",
        "\n",
        "len(lista) retorna o número de elementos."
      ],
      "metadata": {
        "id": "Ha6U7h4EvtUo"
      }
    },
    {
      "cell_type": "code",
      "source": [
        "print(len(fruits))  # 3"
      ],
      "metadata": {
        "colab": {
          "base_uri": "https://localhost:8080/"
        },
        "id": "A4zrDDPRvwzj",
        "outputId": "8e1bb437-5354-47fa-d57d-b7127e7d0021"
      },
      "execution_count": 5,
      "outputs": [
        {
          "output_type": "stream",
          "name": "stdout",
          "text": [
            "3\n"
          ]
        }
      ]
    },
    {
      "cell_type": "markdown",
      "source": [
        "3.6 Comparação de listas\n",
        "\n",
        "Listas são comparadas elemento a elemento, em ordem."
      ],
      "metadata": {
        "id": "Up2DcGIhv5eG"
      }
    },
    {
      "cell_type": "code",
      "source": [
        "print([1,2,3] == [1,2,3])  # True\n",
        "print([1,2,3] < [1,2,4])   # True (porque 3 < 4)"
      ],
      "metadata": {
        "colab": {
          "base_uri": "https://localhost:8080/"
        },
        "id": "RSbdoxadv73G",
        "outputId": "c55fc76d-bbdc-42d3-d1eb-22d4540b3efe"
      },
      "execution_count": 6,
      "outputs": [
        {
          "output_type": "stream",
          "name": "stdout",
          "text": [
            "True\n",
            "True\n"
          ]
        }
      ]
    },
    {
      "cell_type": "markdown",
      "source": [
        "3.7 Concatenar e repetir"
      ],
      "metadata": {
        "id": "OdIdxAsAwZjZ"
      }
    },
    {
      "cell_type": "code",
      "source": [
        "print([1,2] + [3,4])  # [1,2,3,4]\n",
        "print([0] * 4)        # [0,0,0,0]"
      ],
      "metadata": {
        "colab": {
          "base_uri": "https://localhost:8080/"
        },
        "id": "rh2R89DBwcfu",
        "outputId": "c54f6c49-a7b5-4096-bb53-374ac62b53b2"
      },
      "execution_count": 23,
      "outputs": [
        {
          "output_type": "stream",
          "name": "stdout",
          "text": [
            "[1, 2, 3, 4]\n",
            "[0, 0, 0, 0]\n"
          ]
        }
      ]
    },
    {
      "cell_type": "markdown",
      "source": [
        "del e remoções por índice\n",
        "\n",
        "del a[i] remove o elemento no índice i (sem retornar).\n",
        "\n",
        "del a remove a variável (rebinding, name desaparece).\n",
        "\n",
        "del a[:] esvazia a lista (in-place)."
      ],
      "metadata": {
        "id": "S7wr0fnlKjEW"
      }
    },
    {
      "cell_type": "code",
      "source": [
        "a = [1,2,3]\n",
        "del a[1]\n",
        "print(a)  # [1,3]\n",
        "\n",
        "b = a\n",
        "del a[:]  # limpa o objeto; b também vê lista vazia\n",
        "print(b)  # []"
      ],
      "metadata": {
        "colab": {
          "base_uri": "https://localhost:8080/"
        },
        "id": "QGsDPJ53Kk8e",
        "outputId": "2f11a340-b0c5-44c5-c0d2-fbec72e16061"
      },
      "execution_count": 24,
      "outputs": [
        {
          "output_type": "stream",
          "name": "stdout",
          "text": [
            "[1, 3]\n",
            "[]\n"
          ]
        }
      ]
    },
    {
      "cell_type": "markdown",
      "source": [
        "Operadores +, +=, *, *=\n",
        "\n",
        "a + b → cria nova lista com concatenado (aloca).\n",
        "\n",
        "a += b → extend in-place (equivalente a a.extend(b)).\n",
        "\n",
        "a * n → cria nova lista repetida.\n",
        "\n",
        "a *= n → modifica in-place (pode alterar mesmo objeto)."
      ],
      "metadata": {
        "id": "Cf3ePD_MLy6Y"
      }
    },
    {
      "cell_type": "code",
      "source": [
        "a = [1]\n",
        "b = a + [2]   # new list\n",
        "print(a, b)   # [1] [1,2]\n",
        "\n",
        "a += [3]\n",
        "print(a)      # [1,3] (a mudou)\n",
        "\n",
        "c = [0] * 3\n",
        "print(c)      # [0,0,0]"
      ],
      "metadata": {
        "colab": {
          "base_uri": "https://localhost:8080/"
        },
        "id": "zYsnaIzNL0rM",
        "outputId": "57bbbd98-278e-4e2a-fa52-da25d2751074"
      },
      "execution_count": 25,
      "outputs": [
        {
          "output_type": "stream",
          "name": "stdout",
          "text": [
            "[1] [1, 2]\n",
            "[1, 3]\n",
            "[0, 0, 0]\n"
          ]
        }
      ]
    },
    {
      "cell_type": "markdown",
      "source": [
        "Atenção: a += other mantém o mesmo id (in-place) enquanto a = a + other não."
      ],
      "metadata": {
        "id": "m5lOgFajL-Uy"
      }
    },
    {
      "cell_type": "markdown",
      "source": [
        "Modificar enquanto itera (armadilha)\n",
        "\n",
        "Evite alterar a lista que está iterando com for x in a: (pode pular elementos ou criar comportamento inconsistente).\n",
        "\n",
        "Solução: iterar sobre uma cópia (for x in a[:]) ou construir nova lista via list comprehension."
      ],
      "metadata": {
        "id": "PBdgMNNcNYWS"
      }
    },
    {
      "cell_type": "code",
      "source": [
        "a = [1,2,3,4]\n",
        "for x in a:\n",
        "    if x % 2 == 0:\n",
        "        a.remove(x)   # isso pode pular elementos\n",
        "print(a)  # pode não remover todos os pares corretamente"
      ],
      "metadata": {
        "colab": {
          "base_uri": "https://localhost:8080/"
        },
        "id": "x-rgb9u2NaEB",
        "outputId": "16b16f68-d348-4e32-b37d-9e3150c492fe"
      },
      "execution_count": 26,
      "outputs": [
        {
          "output_type": "stream",
          "name": "stdout",
          "text": [
            "[1, 3]\n"
          ]
        }
      ]
    },
    {
      "cell_type": "markdown",
      "source": [
        "Boa prática: prefira a = [x for x in a if cond] para filtrar."
      ],
      "metadata": {
        "id": "Sn8bBiiWNfDA"
      }
    },
    {
      "cell_type": "markdown",
      "source": [
        "# Principais Métodos de Modificação"
      ],
      "metadata": {
        "id": "IZmAx2eG18BQ"
      }
    },
    {
      "cell_type": "markdown",
      "source": [
        "###  🟢 Essencial (Maratona)"
      ],
      "metadata": {
        "id": "x4d26toxxJ-L"
      }
    },
    {
      "cell_type": "markdown",
      "source": [
        "3.8 Principais métodos de modificação\n",
        "\n",
        "append(x) → adiciona no final\n",
        "\n",
        "extend(lista) → adiciona todos os elementos de outra lista\n",
        "\n",
        "insert(i, x) → insere no índice i\n",
        "\n",
        "remove(x) → remove a primeira ocorrência do valor\n",
        "\n",
        "pop(i) → remove e retorna o elemento no índice i (ou o último, se não passar nada)\n",
        "\n",
        "clear() → esvazia a lista"
      ],
      "metadata": {
        "id": "bNFuGOEyxX_G"
      }
    },
    {
      "cell_type": "code",
      "source": [
        "nums = [1, 2, 3]\n",
        "nums.append(4)      # [1,2,3,4]\n",
        "print(\"nums.append: \", nums)\n",
        "nums.extend([5,6])  # [1,2,3,4,5,6]\n",
        "print(\"nums.extend: \", nums)\n",
        "nums.insert(1, 99)  # [1,99,2,3,4,5,6]\n",
        "print(\"nums.insert: \", nums)\n",
        "nums.remove(99)     # [1,2,3,4,5,6]\n",
        "print(\"nums.remove: \", nums)\n",
        "nums.pop()          # [1,2,3,4,5]  (removeu 6)\n",
        "print(\"nums.pop: \", nums)\n",
        "nums.clear()        # []\n",
        "print(\"nums.clear: \", nums)"
      ],
      "metadata": {
        "colab": {
          "base_uri": "https://localhost:8080/"
        },
        "id": "iNdXv3rCxb3s",
        "outputId": "2306aaca-e7da-4efe-f284-a8f8a1773bd4"
      },
      "execution_count": 10,
      "outputs": [
        {
          "output_type": "stream",
          "name": "stdout",
          "text": [
            "nums.append:  [1, 2, 3, 4]\n",
            "nums.extend:  [1, 2, 3, 4, 5, 6]\n",
            "nums.insert:  [1, 99, 2, 3, 4, 5, 6]\n",
            "nums.remove:  [1, 2, 3, 4, 5, 6]\n",
            "nums.pop:  [1, 2, 3, 4, 5]\n",
            "nums.clear:  []\n"
          ]
        }
      ]
    },
    {
      "cell_type": "markdown",
      "source": [
        " 🟢 Nota prática (maratona)\n",
        "\n",
        "- Aprenda: `append`, `extend`, `insert`, `pop`, `remove`, `clear`, `sort`, `reverse`, `copy`, `del` e atribuição por slice. - Foque no comportamento in-place (muda o objeto) vs retorno (nenhum ou novo objeto). </div>"
      ],
      "metadata": {
        "id": "v1gpRQ5o2BRh"
      }
    },
    {
      "cell_type": "markdown",
      "source": [
        "##  1) append(x)\n",
        "\n",
        "O que faz: adiciona x ao final da lista.\n",
        "\n",
        "Retorno: None (modifica in-place).\n",
        "\n",
        "Identidade: a lista continua o mesmo objeto (is preservado).\n",
        "\n",
        "Erro comum: nada quando x é qualquer objeto — aceita elementos mutáveis ou imutáveis.\n",
        "\n",
        "Uso típico: empilhar (stack) com append + pop()."
      ],
      "metadata": {
        "id": "TFvunHRY3UYj"
      }
    },
    {
      "cell_type": "code",
      "source": [
        "a = [1, 2]\n",
        "print(id(a))\n",
        "a.append(3)\n",
        "print(a)        # [1, 2, 3]\n",
        "print(id(a))    # mesmo id"
      ],
      "metadata": {
        "colab": {
          "base_uri": "https://localhost:8080/"
        },
        "id": "PS_J0sve3cBG",
        "outputId": "1849f119-f216-4576-dd0d-f519ba191a0f"
      },
      "execution_count": 11,
      "outputs": [
        {
          "output_type": "stream",
          "name": "stdout",
          "text": [
            "138646374517568\n",
            "[1, 2, 3]\n",
            "138646374517568\n"
          ]
        }
      ]
    },
    {
      "cell_type": "markdown",
      "source": [
        "## 2) extend(iterable)\n",
        "\n",
        "O que faz: estende a lista adicionando cada item do iterable ao final (equivale a for x in iterable: lst.append(x)).\n",
        "\n",
        "Retorno: None (in-place).\n",
        "\n",
        "Comportamento com string: extend(\"ab\") adiciona 'a', 'b'.\n",
        "\n",
        "Diferença chave: append([1,2]) adiciona uma lista como 1 elemento; extend([1,2]) adiciona os elementos 1 e 2."
      ],
      "metadata": {
        "id": "s0E8V4uZ4LOQ"
      }
    },
    {
      "cell_type": "code",
      "source": [
        "a = [1, 2]\n",
        "a.append([3,4])\n",
        "print(a)  # [1, 2, [3, 4]]\n",
        "\n",
        "b = [1, 2]\n",
        "b.extend([3,4])\n",
        "print(b)  # [1, 2, 3, 4]\n",
        "\n",
        "c = []\n",
        "c.extend(\"hi\")\n",
        "print(c)  # ['h','i']"
      ],
      "metadata": {
        "colab": {
          "base_uri": "https://localhost:8080/"
        },
        "id": "wlbB39yH4NIk",
        "outputId": "27d943cf-0591-49b0-d1db-2c703a99ea8e"
      },
      "execution_count": 12,
      "outputs": [
        {
          "output_type": "stream",
          "name": "stdout",
          "text": [
            "[1, 2, [3, 4]]\n",
            "[1, 2, 3, 4]\n",
            "['h', 'i']\n"
          ]
        }
      ]
    },
    {
      "cell_type": "markdown",
      "source": [
        "Dica: para concatenar listas em loops prefira extend (ou +=) em vez de + repetido."
      ],
      "metadata": {
        "id": "qVWQSuMQ5CG3"
      }
    },
    {
      "cell_type": "markdown",
      "source": [
        "## 3) insert(i, x)\n",
        "\n",
        "O que faz: insere x na posição i, deslocando elementos à direita.\n",
        "\n",
        "Retorno: None (in-place).\n",
        "\n",
        "Comportamento de índices fora de faixa: se i > len, insere no fim; índices negativos são suportados.\n",
        "\n",
        "Custo: geralmente O(n) (deslocamento)."
      ],
      "metadata": {
        "id": "S8p-Beml5Kzu"
      }
    },
    {
      "cell_type": "code",
      "source": [
        "a = [1,2,3]\n",
        "a.insert(1, 99)\n",
        "print(a)  # [1, 99, 2, 3]\n",
        "\n",
        "a.insert(100, 5)\n",
        "print(a)  # [1, 99, 2, 3, 5]"
      ],
      "metadata": {
        "colab": {
          "base_uri": "https://localhost:8080/"
        },
        "id": "eRR2u25_5h5N",
        "outputId": "53a68ecd-d6a9-4752-88ae-40920ca2aba8"
      },
      "execution_count": 13,
      "outputs": [
        {
          "output_type": "stream",
          "name": "stdout",
          "text": [
            "[1, 99, 2, 3]\n",
            "[1, 99, 2, 3, 5]\n"
          ]
        }
      ]
    },
    {
      "cell_type": "markdown",
      "source": [
        "Atenção: inserir muito no início em listas grandes é custoso — para fila eficiente, prefira collections.deque."
      ],
      "metadata": {
        "id": "sp7ZzRyg5jhp"
      }
    },
    {
      "cell_type": "markdown",
      "source": [
        "## 4) remove(x)\n",
        "\n",
        "O que faz: remove a primeira ocorrência de x.\n",
        "\n",
        "Retorno: None.\n",
        "\n",
        "Erros: lança ValueError se x não existir.\n",
        "\n",
        "Uso vs pop: remove procura por valor; pop remove por índice."
      ],
      "metadata": {
        "id": "Hyjwi1yQ6JFl"
      }
    },
    {
      "cell_type": "code",
      "source": [
        "a = [1, 2, 3, 2]\n",
        "a.remove(2)\n",
        "print(a)  # [1, 3, 2]\n",
        "\n",
        "a.remove(99)  # ValueError: list.remove(x): x not in list"
      ],
      "metadata": {
        "colab": {
          "base_uri": "https://localhost:8080/",
          "height": 193
        },
        "id": "qaPgRCDC6Qml",
        "outputId": "11602ffc-4e35-43ed-f0c5-4ce48fa725ca"
      },
      "execution_count": 14,
      "outputs": [
        {
          "output_type": "stream",
          "name": "stdout",
          "text": [
            "[1, 3, 2]\n"
          ]
        },
        {
          "output_type": "error",
          "ename": "ValueError",
          "evalue": "list.remove(x): x not in list",
          "traceback": [
            "\u001b[0;31m---------------------------------------------------------------------------\u001b[0m",
            "\u001b[0;31mValueError\u001b[0m                                Traceback (most recent call last)",
            "\u001b[0;32m/tmp/ipython-input-2526999341.py\u001b[0m in \u001b[0;36m<cell line: 0>\u001b[0;34m()\u001b[0m\n\u001b[1;32m      3\u001b[0m \u001b[0mprint\u001b[0m\u001b[0;34m(\u001b[0m\u001b[0ma\u001b[0m\u001b[0;34m)\u001b[0m  \u001b[0;31m# [1, 3, 2]\u001b[0m\u001b[0;34m\u001b[0m\u001b[0;34m\u001b[0m\u001b[0m\n\u001b[1;32m      4\u001b[0m \u001b[0;34m\u001b[0m\u001b[0m\n\u001b[0;32m----> 5\u001b[0;31m \u001b[0ma\u001b[0m\u001b[0;34m.\u001b[0m\u001b[0mremove\u001b[0m\u001b[0;34m(\u001b[0m\u001b[0;36m99\u001b[0m\u001b[0;34m)\u001b[0m  \u001b[0;31m# ValueError: list.remove(x): x not in list\u001b[0m\u001b[0;34m\u001b[0m\u001b[0;34m\u001b[0m\u001b[0m\n\u001b[0m",
            "\u001b[0;31mValueError\u001b[0m: list.remove(x): x not in list"
          ]
        }
      ]
    },
    {
      "cell_type": "markdown",
      "source": [
        "Dica: se possível, use try/except ou checar if x in a: antes de remove em código onde ausência é possível."
      ],
      "metadata": {
        "id": "6IeVD9prFCtA"
      }
    },
    {
      "cell_type": "markdown",
      "source": [
        "## 5) pop(i=-1)\n",
        "\n",
        "O que faz: remove e retorna o elemento no índice i (por padrão o último).\n",
        "\n",
        "Retorno: o elemento removido.\n",
        "\n",
        "Erros: IndexError se lista vazia ou índice inválido.\n",
        "\n",
        "Uso: eficaz para pilha: val = stack.pop()."
      ],
      "metadata": {
        "id": "1_KCilbJFDqZ"
      }
    },
    {
      "cell_type": "code",
      "source": [
        "a = [10, 20, 30]\n",
        "print(a.pop())    # 30\n",
        "print(a)          # [10, 20]\n",
        "\n",
        "print(a.pop(0))   # 10\n",
        "print(a)          # [20]"
      ],
      "metadata": {
        "colab": {
          "base_uri": "https://localhost:8080/"
        },
        "id": "d3JkklQsFMbR",
        "outputId": "3c3ba62f-2008-4eea-cb3d-7b7236a8dac3"
      },
      "execution_count": 15,
      "outputs": [
        {
          "output_type": "stream",
          "name": "stdout",
          "text": [
            "30\n",
            "[10, 20]\n",
            "10\n",
            "[20]\n"
          ]
        }
      ]
    },
    {
      "cell_type": "markdown",
      "source": [
        "Cuidado em loops: usar pop(0) repetidamente é O(n^2) para remover todos os elementos (cada remova desloca os remanescentes)."
      ],
      "metadata": {
        "id": "K8KfTJgmFRlG"
      }
    },
    {
      "cell_type": "markdown",
      "source": [
        "## 6) clear()\n",
        "\n",
        "O que faz: esvazia a lista (in-place).\n",
        "\n",
        "Retorno: None.\n",
        "\n",
        "Comparações:\n",
        "\n",
        "a.clear() → mantém mesmo objeto a (mesmo id).\n",
        "\n",
        "a = [] → cria nova lista e rebind da variável."
      ],
      "metadata": {
        "id": "3ugTKHGfFV49"
      }
    },
    {
      "cell_type": "code",
      "source": [
        "a = [1,2,3]\n",
        "id_before = id(a)\n",
        "a.clear()\n",
        "print(a, id(a) == id_before)  # [] True\n",
        "\n",
        "# vs\n",
        "a = [1,2,3]\n",
        "id_before = id(a)\n",
        "a = []\n",
        "print(id(a) == id_before)     # False"
      ],
      "metadata": {
        "colab": {
          "base_uri": "https://localhost:8080/"
        },
        "id": "7WYU2XUwFl0a",
        "outputId": "bd963cda-70bf-49f6-bf51-662078a6394c"
      },
      "execution_count": 16,
      "outputs": [
        {
          "output_type": "stream",
          "name": "stdout",
          "text": [
            "[] True\n",
            "False\n"
          ]
        }
      ]
    },
    {
      "cell_type": "markdown",
      "source": [
        "Quando isso importa: se outras variáveis referenciam a mesma lista (b = a), a.clear() limpa também b, pois é o mesmo objeto. a = [] não."
      ],
      "metadata": {
        "id": "Lj843CFAGafk"
      }
    },
    {
      "cell_type": "markdown",
      "source": [
        "## 7) sort() vs sorted()\n",
        "\n",
        "list.sort()\n",
        "\n",
        "Ordena in-place.\n",
        "\n",
        "Retorno: None.\n",
        "\n",
        "Tem parâmetros: key= e reverse=.\n",
        "\n",
        "É estável (mantém ordem relativa de elementos equivalentes).\n",
        "\n",
        "sorted(iterable)\n",
        "\n",
        "Retorna nova lista ordenada.\n",
        "\n",
        "Útil se quiser manter original."
      ],
      "metadata": {
        "id": "C9D80tghGtNE"
      }
    },
    {
      "cell_type": "code",
      "source": [
        "a = [3,1,2]\n",
        "b = a.sort()\n",
        "print(a)  # [1,2,3]\n",
        "print(b)  # None\n",
        "\n",
        "a = [3,1,2]\n",
        "c = sorted(a)\n",
        "print(a)  # [3,1,2]\n",
        "print(c)  # [1,2,3]"
      ],
      "metadata": {
        "colab": {
          "base_uri": "https://localhost:8080/"
        },
        "id": "CN26KxvlGvVI",
        "outputId": "292d21f7-0b23-4231-ae38-57f7118a33f9"
      },
      "execution_count": 17,
      "outputs": [
        {
          "output_type": "stream",
          "name": "stdout",
          "text": [
            "[1, 2, 3]\n",
            "None\n",
            "[3, 1, 2]\n",
            "[1, 2, 3]\n"
          ]
        }
      ]
    },
    {
      "cell_type": "markdown",
      "source": [
        "Exemplos com key:"
      ],
      "metadata": {
        "id": "E5Tckt0YHXIa"
      }
    },
    {
      "cell_type": "code",
      "source": [
        "words = [\"aa\", \"b\", \"ccc\"]\n",
        "words.sort(key=len)\n",
        "print(words)  # ['b','aa','ccc']"
      ],
      "metadata": {
        "colab": {
          "base_uri": "https://localhost:8080/"
        },
        "id": "lCVYfoA1HYcA",
        "outputId": "cd70ba85-68ed-4bf2-bb74-42e24eb84531"
      },
      "execution_count": 18,
      "outputs": [
        {
          "output_type": "stream",
          "name": "stdout",
          "text": [
            "['b', 'aa', 'ccc']\n"
          ]
        }
      ]
    },
    {
      "cell_type": "markdown",
      "source": [
        "Dica de maratona: se precisa ordenar mas também precisa do original, use sorted(); se quiser desempenho e só o ordenado é necessário, list.sort() (in-place) evita alocação extra."
      ],
      "metadata": {
        "id": "lpAqV8_DHiNM"
      }
    },
    {
      "cell_type": "markdown",
      "source": [
        "## 8) reverse() vs reversed()\n",
        "\n",
        "list.reverse()\n",
        "\n",
        "Inverte in-place a lista.\n",
        "\n",
        "Retorno: None.\n",
        "\n",
        "reversed(iterable)\n",
        "\n",
        "Retorna um iterador (lazy), não modifica original."
      ],
      "metadata": {
        "id": "P7YWTWENIQzJ"
      }
    },
    {
      "cell_type": "code",
      "source": [
        "a = [1,2,3]\n",
        "a.reverse()\n",
        "print(a)  # [3,2,1]\n",
        "\n",
        "a = [1,2,3]\n",
        "for x in reversed(a):\n",
        "    print(x)   # 3,2,1\n",
        "print(a)      # [1,2,3]  (invariante)"
      ],
      "metadata": {
        "colab": {
          "base_uri": "https://localhost:8080/"
        },
        "id": "NIVy5uN2ISuC",
        "outputId": "f2c5ce21-af6d-433a-c798-8fa7014c4049"
      },
      "execution_count": 19,
      "outputs": [
        {
          "output_type": "stream",
          "name": "stdout",
          "text": [
            "[3, 2, 1]\n",
            "3\n",
            "2\n",
            "1\n",
            "[1, 2, 3]\n"
          ]
        }
      ]
    },
    {
      "cell_type": "markdown",
      "source": [
        "## 9) copy() (shallow)\n",
        "\n",
        "O que faz: retorna uma nova lista que contém referências aos mesmos elementos internos (shallow copy - cópia rasa).\n",
        "\n",
        "Equivalente a: a[:] ou list(a).\n",
        "\n",
        "Retorno: nova lista.\n",
        "\n",
        "Use quando: quer duplicar lista de elementos imutáveis (ints) ou apenas duplicar a \"camada externa\"."
      ],
      "metadata": {
        "id": "yOLusvOOJYSr"
      }
    },
    {
      "cell_type": "code",
      "source": [
        "a = [1,2,3]\n",
        "b = a.copy()\n",
        "print(a == b, a is b)  # True False"
      ],
      "metadata": {
        "colab": {
          "base_uri": "https://localhost:8080/"
        },
        "id": "vK0ZA2jdJgN5",
        "outputId": "55205bcc-6206-4484-87d5-0a8254a91883"
      },
      "execution_count": 20,
      "outputs": [
        {
          "output_type": "stream",
          "name": "stdout",
          "text": [
            "True False\n"
          ]
        }
      ]
    },
    {
      "cell_type": "markdown",
      "source": [
        "Lembrete: para listas aninhadas use copy.deepcopy()."
      ],
      "metadata": {
        "id": "lttQo0-3Jx4r"
      }
    },
    {
      "cell_type": "markdown",
      "source": [
        "## Complexidade\n",
        "\n",
        "append — O(1) amortizado\n",
        "\n",
        "pop() — O(1) (no fim)\n",
        "\n",
        "pop(i) — O(n) (desloca)\n",
        "\n",
        "insert — O(n)\n",
        "\n",
        "remove — O(n) (procura)\n",
        "\n",
        "extend — O(k) onde k = len(iterable)\n",
        "\n",
        "sort — O(n log n)\n",
        "\n",
        "index / count — O(n)\n",
        "\n",
        "Slicing (criar fatia) — O(k) (k = tamanho da fatia)"
      ],
      "metadata": {
        "id": "gtGm7Ji6N72d"
      }
    },
    {
      "cell_type": "markdown",
      "source": [],
      "metadata": {
        "id": "n92tUC-zN9_2"
      }
    }
  ]
}