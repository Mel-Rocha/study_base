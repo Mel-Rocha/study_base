{
  "nbformat": 4,
  "nbformat_minor": 0,
  "metadata": {
    "colab": {
      "provenance": [],
      "toc_visible": true
    },
    "kernelspec": {
      "name": "python3",
      "display_name": "Python 3"
    },
    "language_info": {
      "name": "python"
    }
  },
  "cells": [
    {
      "cell_type": "markdown",
      "source": [
        "# Parâmetros e assinatura de funções"
      ],
      "metadata": {
        "id": "tuBs-fq_BPIB"
      }
    },
    {
      "cell_type": "markdown",
      "source": [
        "Entender os tipos de parâmetros que aparecem no `help`:\n",
        "\n",
        "`*args` → múltiplos argumentos posicionais\n",
        "\n",
        "`**kwargs` → múltiplos argumentos nomeados\n",
        "\n",
        "`/` → apenas positional-only\n",
        "\n",
        "`*` → apenas keyword-only"
      ],
      "metadata": {
        "id": "nIgJysycBSpa"
      }
    },
    {
      "cell_type": "code",
      "source": [
        "def f(a, b, /, c, *, d):\n",
        "    return a + b + c + d"
      ],
      "metadata": {
        "id": "cAKFWBLZBcM7"
      },
      "execution_count": null,
      "outputs": []
    },
    {
      "cell_type": "code",
      "execution_count": null,
      "metadata": {
        "colab": {
          "base_uri": "https://localhost:8080/"
        },
        "id": "QHWIkTR4_mfq",
        "outputId": "bda1ebbf-45d2-4cb1-d745-49e5ddaa95b7"
      },
      "outputs": [
        {
          "output_type": "stream",
          "name": "stdout",
          "text": [
            "Help on function f in module __main__:\n",
            "\n",
            "f(a, b, /, c, *, d)\n",
            "\n"
          ]
        }
      ],
      "source": [
        "help(f)"
      ]
    },
    {
      "cell_type": "markdown",
      "source": [
        "## / → positional-only parameters (somente posição)"
      ],
      "metadata": {
        "id": "jtXnOiLsCK2C"
      }
    },
    {
      "cell_type": "markdown",
      "source": [
        "Os parâmetros antes da barra / só podem ser passados posicionalmente, não aceitam nomes."
      ],
      "metadata": {
        "id": "xIi2lLpQCloP"
      }
    },
    {
      "cell_type": "code",
      "source": [
        "def f(a, b, /, c):\n",
        "    return a + b + c\n",
        "\n",
        "print(f(1, 2, 3))        #  funciona\n",
        "print(f(1, b=2, c=3))    # erro: b é positional-only"
      ],
      "metadata": {
        "colab": {
          "base_uri": "https://localhost:8080/",
          "height": 193
        },
        "id": "YIPoSLCVCNP5",
        "outputId": "469b1e8a-c879-4969-a633-fb35efacd64a"
      },
      "execution_count": null,
      "outputs": [
        {
          "output_type": "stream",
          "name": "stdout",
          "text": [
            "6\n"
          ]
        },
        {
          "output_type": "error",
          "ename": "TypeError",
          "evalue": "f() got some positional-only arguments passed as keyword arguments: 'b'",
          "traceback": [
            "\u001b[0;31m---------------------------------------------------------------------------\u001b[0m",
            "\u001b[0;31mTypeError\u001b[0m                                 Traceback (most recent call last)",
            "\u001b[0;32m/tmp/ipython-input-2709768295.py\u001b[0m in \u001b[0;36m<cell line: 0>\u001b[0;34m()\u001b[0m\n\u001b[1;32m      3\u001b[0m \u001b[0;34m\u001b[0m\u001b[0m\n\u001b[1;32m      4\u001b[0m \u001b[0mprint\u001b[0m\u001b[0;34m(\u001b[0m\u001b[0mf\u001b[0m\u001b[0;34m(\u001b[0m\u001b[0;36m1\u001b[0m\u001b[0;34m,\u001b[0m \u001b[0;36m2\u001b[0m\u001b[0;34m,\u001b[0m \u001b[0;36m3\u001b[0m\u001b[0;34m)\u001b[0m\u001b[0;34m)\u001b[0m        \u001b[0;31m# ✅ funciona\u001b[0m\u001b[0;34m\u001b[0m\u001b[0;34m\u001b[0m\u001b[0m\n\u001b[0;32m----> 5\u001b[0;31m \u001b[0mprint\u001b[0m\u001b[0;34m(\u001b[0m\u001b[0mf\u001b[0m\u001b[0;34m(\u001b[0m\u001b[0;36m1\u001b[0m\u001b[0;34m,\u001b[0m \u001b[0mb\u001b[0m\u001b[0;34m=\u001b[0m\u001b[0;36m2\u001b[0m\u001b[0;34m,\u001b[0m \u001b[0mc\u001b[0m\u001b[0;34m=\u001b[0m\u001b[0;36m3\u001b[0m\u001b[0;34m)\u001b[0m\u001b[0;34m)\u001b[0m    \u001b[0;31m# ❌ erro: b é positional-only\u001b[0m\u001b[0;34m\u001b[0m\u001b[0;34m\u001b[0m\u001b[0m\n\u001b[0m",
            "\u001b[0;31mTypeError\u001b[0m: f() got some positional-only arguments passed as keyword arguments: 'b'"
          ]
        }
      ]
    },
    {
      "cell_type": "markdown",
      "source": [
        "Explicação: a e b só podem ser passados por posição, c pode ser posicional ou nomeado."
      ],
      "metadata": {
        "id": "y6sEMbUSCYER"
      }
    },
    {
      "cell_type": "markdown",
      "source": [
        "## keyword-only parameters (somente nomeados)"
      ],
      "metadata": {
        "id": "sX2RSzBxCdYx"
      }
    },
    {
      "cell_type": "markdown",
      "source": [
        "Os parâmetros após o asterisco * só podem ser passados com nome."
      ],
      "metadata": {
        "id": "EnOpNDxcCnm6"
      }
    },
    {
      "cell_type": "code",
      "source": [
        "def g(a, b, *, c, d):\n",
        "    return a + b + c + d\n",
        "\n",
        "print(g(1, 2, c=3, d=4))  # funciona\n",
        "print(g(1, 2, 3, 4))      # erro: c e d devem ser nomeados"
      ],
      "metadata": {
        "colab": {
          "base_uri": "https://localhost:8080/",
          "height": 193
        },
        "id": "2Hl9zQ3BCiOE",
        "outputId": "90d52a09-b25e-4f82-a428-0cbfe5442e59"
      },
      "execution_count": null,
      "outputs": [
        {
          "output_type": "stream",
          "name": "stdout",
          "text": [
            "10\n"
          ]
        },
        {
          "output_type": "error",
          "ename": "TypeError",
          "evalue": "g() takes 2 positional arguments but 4 were given",
          "traceback": [
            "\u001b[0;31m---------------------------------------------------------------------------\u001b[0m",
            "\u001b[0;31mTypeError\u001b[0m                                 Traceback (most recent call last)",
            "\u001b[0;32m/tmp/ipython-input-2672433529.py\u001b[0m in \u001b[0;36m<cell line: 0>\u001b[0;34m()\u001b[0m\n\u001b[1;32m      3\u001b[0m \u001b[0;34m\u001b[0m\u001b[0m\n\u001b[1;32m      4\u001b[0m \u001b[0mprint\u001b[0m\u001b[0;34m(\u001b[0m\u001b[0mg\u001b[0m\u001b[0;34m(\u001b[0m\u001b[0;36m1\u001b[0m\u001b[0;34m,\u001b[0m \u001b[0;36m2\u001b[0m\u001b[0;34m,\u001b[0m \u001b[0mc\u001b[0m\u001b[0;34m=\u001b[0m\u001b[0;36m3\u001b[0m\u001b[0;34m,\u001b[0m \u001b[0md\u001b[0m\u001b[0;34m=\u001b[0m\u001b[0;36m4\u001b[0m\u001b[0;34m)\u001b[0m\u001b[0;34m)\u001b[0m  \u001b[0;31m# funciona\u001b[0m\u001b[0;34m\u001b[0m\u001b[0;34m\u001b[0m\u001b[0m\n\u001b[0;32m----> 5\u001b[0;31m \u001b[0mprint\u001b[0m\u001b[0;34m(\u001b[0m\u001b[0mg\u001b[0m\u001b[0;34m(\u001b[0m\u001b[0;36m1\u001b[0m\u001b[0;34m,\u001b[0m \u001b[0;36m2\u001b[0m\u001b[0;34m,\u001b[0m \u001b[0;36m3\u001b[0m\u001b[0;34m,\u001b[0m \u001b[0;36m4\u001b[0m\u001b[0;34m)\u001b[0m\u001b[0;34m)\u001b[0m      \u001b[0;31m# erro: c e d devem ser nomeados\u001b[0m\u001b[0;34m\u001b[0m\u001b[0;34m\u001b[0m\u001b[0m\n\u001b[0m",
            "\u001b[0;31mTypeError\u001b[0m: g() takes 2 positional arguments but 4 were given"
          ]
        }
      ]
    },
    {
      "cell_type": "markdown",
      "source": [
        "Explicação: c e d não aceitam posição, obrigatoriamente usamos c=valor."
      ],
      "metadata": {
        "id": "S5sKpmNsDCsM"
      }
    },
    {
      "cell_type": "markdown",
      "source": [
        "## *args → múltiplos argumentos posicionais"
      ],
      "metadata": {
        "id": "QCN2grWtDGbX"
      }
    },
    {
      "cell_type": "code",
      "source": [
        "def h(*args):\n",
        "    return sum(args)\n",
        "\n",
        "print(h(1,2,3,4))  # 10"
      ],
      "metadata": {
        "colab": {
          "base_uri": "https://localhost:8080/"
        },
        "id": "Sai9kDgtDLEd",
        "outputId": "09fb07ac-a92c-4b36-9511-bbbe537739ff"
      },
      "execution_count": null,
      "outputs": [
        {
          "output_type": "stream",
          "name": "stdout",
          "text": [
            "10\n"
          ]
        }
      ]
    },
    {
      "cell_type": "markdown",
      "source": [
        "Explicação: qualquer número de argumentos posicionais é capturado como uma tupla args."
      ],
      "metadata": {
        "id": "EqHo7zl0DRR0"
      }
    },
    {
      "cell_type": "markdown",
      "source": [
        "## **kwargs → múltiplos argumentos nomeados"
      ],
      "metadata": {
        "id": "kaibIcGrDoAw"
      }
    },
    {
      "cell_type": "code",
      "source": [
        "def i(**kwargs):\n",
        "    return kwargs\n",
        "\n",
        "print(i(a=1, b=2))  # {'a': 1, 'b': 2}"
      ],
      "metadata": {
        "colab": {
          "base_uri": "https://localhost:8080/"
        },
        "id": "q36SZjWLDwnS",
        "outputId": "b60cb6cd-aab3-4b67-c161-cb19a7128ef8"
      },
      "execution_count": null,
      "outputs": [
        {
          "output_type": "stream",
          "name": "stdout",
          "text": [
            "{'a': 1, 'b': 2}\n"
          ]
        }
      ]
    },
    {
      "cell_type": "markdown",
      "source": [
        "Explicação: captura argumentos nomeados em um dicionário kwargs."
      ],
      "metadata": {
        "id": "bJ8yaX1pD1xN"
      }
    },
    {
      "cell_type": "markdown",
      "source": [
        "# Instrospecção"
      ],
      "metadata": {
        "id": "PnZ6lzBIE09g"
      }
    },
    {
      "cell_type": "markdown",
      "source": [
        "Introspecção em Python é o ato de inspecionar em tempo de execução o que um objeto é, do que ele é feito e como ele pode ser usado.\n",
        "\n",
        "Utilidade prática: quando você não sabe exatamente o tipo ou a estrutura interna de uma variável (especialmente em código quebrado, dados aninhados ou APIs externas), a introspecção te dá um raio-x imediato do objeto, permitindo entender e corrigir o problema."
      ],
      "metadata": {
        "id": "DQLp7Oygqgub"
      }
    },
    {
      "cell_type": "markdown",
      "source": [
        "## identidade do objeto"
      ],
      "metadata": {
        "id": "MeX3H_54FCc4"
      }
    },
    {
      "cell_type": "markdown",
      "source": [
        "`id(obj)`\n",
        "\n",
        "Retorna um número único que representa o endereço de memória do objeto.\n",
        "\n",
        "Útil em maratonas: detectar se duas variáveis apontam para o mesmo objeto, ou se uma operação gerou uma cópia."
      ],
      "metadata": {
        "id": "ObL5Pt4zFDnd"
      }
    },
    {
      "cell_type": "code",
      "source": [
        "a = [1,2,3]\n",
        "b = a\n",
        "c = a[:]\n",
        "\n",
        "print(id(a))  # ex: 140474986734656\n",
        "print(id(b))  # mesmo id que a\n",
        "print(id(c))  # diferente id, cópia da lista"
      ],
      "metadata": {
        "colab": {
          "base_uri": "https://localhost:8080/"
        },
        "id": "r-L0KLZMFdoh",
        "outputId": "9ebb903a-df4c-4ebf-a3f2-974e6bab5cbf"
      },
      "execution_count": null,
      "outputs": [
        {
          "output_type": "stream",
          "name": "stdout",
          "text": [
            "133839576479040\n",
            "133839576479040\n",
            "133839576476480\n"
          ]
        }
      ]
    },
    {
      "cell_type": "markdown",
      "source": [
        "## tipo do objeto"
      ],
      "metadata": {
        "id": "Z4v7PRbdGC3M"
      }
    },
    {
      "cell_type": "markdown",
      "source": [
        "`type(obj)`\n",
        "\n",
        "Retorna o tipo do objeto.\n",
        "\n",
        "Útil em maratonas: quando você recebe entrada genérica ou precisa diferenciar tipos."
      ],
      "metadata": {
        "id": "yKh1q4giGQDI"
      }
    },
    {
      "cell_type": "code",
      "source": [
        "print(type(123))       # <class 'int'>\n",
        "print(type([1,2,3]))   # <class 'list'>\n",
        "print(type({'a':1}))   # <class 'dict'>"
      ],
      "metadata": {
        "colab": {
          "base_uri": "https://localhost:8080/"
        },
        "id": "dXRqQYd-GTo_",
        "outputId": "dd229107-267b-499e-f953-c39514d067e8"
      },
      "execution_count": null,
      "outputs": [
        {
          "output_type": "stream",
          "name": "stdout",
          "text": [
            "<class 'int'>\n",
            "<class 'list'>\n",
            "<class 'dict'>\n"
          ]
        }
      ]
    },
    {
      "cell_type": "markdown",
      "source": [
        "## checar herança/tipo"
      ],
      "metadata": {
        "id": "UagcjryUG0dh"
      }
    },
    {
      "cell_type": "markdown",
      "source": [
        "`isinstance(obj, Class)`\n",
        "\n",
        "Retorna True se obj for instância de Class ou de subclasses.\n",
        "\n",
        "Útil: mais seguro que type() quando subclasses podem aparecer."
      ],
      "metadata": {
        "id": "XHNA1zqmG1hu"
      }
    },
    {
      "cell_type": "code",
      "source": [
        "print(isinstance([1,2,3], list))    # True\n",
        "print(isinstance((1,2), tuple))     # True\n",
        "print(isinstance({1,2}, set))       # True"
      ],
      "metadata": {
        "id": "2L-RgFJYHEM-",
        "outputId": "c7182d27-ac90-420f-a4b2-8de2abfa5bba",
        "colab": {
          "base_uri": "https://localhost:8080/"
        }
      },
      "execution_count": 1,
      "outputs": [
        {
          "output_type": "stream",
          "name": "stdout",
          "text": [
            "True\n",
            "True\n",
            "True\n"
          ]
        }
      ]
    },
    {
      "cell_type": "markdown",
      "source": [
        "## Estruturas Aninhadas"
      ],
      "metadata": {
        "id": "jIqiiFH1lr0y"
      }
    },
    {
      "cell_type": "code",
      "source": [
        "data = [\n",
        "    {\"nome\": \"Ana\", \"notas\": [5, 8, 7]},\n",
        "    {\"nome\": \"Bianca\", \"notas\": [8, 9, 10]},\n",
        "    {\"nome\": \"Carlos\", \"notas\": [4, 6, 7]},\n",
        "]\n",
        "\n",
        "# introspecção com list comp → tipo de cada \"notas\"\n",
        "tipos = [ (aluno[\"nome\"], [type(n) for n in aluno[\"notas\"]]) for aluno in data ]\n",
        "print(tipos)\n",
        "\n",
        "# Utilizando for\n",
        "print()\n",
        "for aluno in data:\n",
        "    print(aluno[\"nome\"], type(aluno[\"notas\"]), [type(n) for n in aluno[\"notas\"]])"
      ],
      "metadata": {
        "colab": {
          "base_uri": "https://localhost:8080/"
        },
        "id": "PqLvu9aUlup6",
        "outputId": "d57b644a-7a5e-4839-abf5-ba81b47179f2"
      },
      "execution_count": 4,
      "outputs": [
        {
          "output_type": "stream",
          "name": "stdout",
          "text": [
            "[('Ana', [<class 'int'>, <class 'int'>, <class 'int'>]), ('Bianca', [<class 'int'>, <class 'int'>, <class 'int'>]), ('Carlos', [<class 'int'>, <class 'int'>, <class 'int'>])]\n",
            "\n",
            "Ana <class 'list'> [<class 'int'>, <class 'int'>, <class 'int'>]\n",
            "Bianca <class 'list'> [<class 'int'>, <class 'int'>, <class 'int'>]\n",
            "Carlos <class 'list'> [<class 'int'>, <class 'int'>, <class 'int'>]\n"
          ]
        }
      ]
    },
    {
      "cell_type": "markdown",
      "source": [
        "# Helper"
      ],
      "metadata": {
        "id": "CW26x0Y-qnqX"
      }
    },
    {
      "cell_type": "markdown",
      "source": [
        "O debug_var é um helper de introspecção que mostra, de forma organizada:\n",
        "\n",
        "🔎 Tipo e id da variável\n",
        "\n",
        "📦 Estruturas (listas, tuplas, sets, dicionários) com tamanho e tipos internos\n",
        "\n",
        "🔁 Exploração recursiva em estruturas aninhadas\n",
        "\n",
        "🧩 Objetos customizados, exibindo a classe e os atributos disponíveis\n",
        "\n",
        "👉 Em resumo: ele responde rapidamente “o que é essa variável e do que ela é feita?”, ajudando no debug quando você se perde no meio de estruturas ou objetos."
      ],
      "metadata": {
        "id": "3jSqIh5LthkO"
      }
    },
    {
      "cell_type": "code",
      "source": [
        "def debug_var(x, name=\"var\", level=0):\n",
        "    \"\"\"Helper para introspecção de variáveis em Python.\"\"\"\n",
        "    indent = \"   \" * level\n",
        "    print(f\"{indent} {name} -> type: {type(x)}, id: {id(x)}\")\n",
        "\n",
        "    # Casos simples (int, str, float, bool, None, etc.)\n",
        "    if isinstance(x, (int, float, str, bool, type(None))):\n",
        "        print(f\"{indent}   Valor direto: {repr(x)}\")\n",
        "\n",
        "    # Estruturas iteráveis\n",
        "    elif isinstance(x, (list, tuple, set, frozenset)):\n",
        "        print(f\"{indent}   Estrutura {type(x).__name__} com {len(x)} elementos\")\n",
        "        if len(x) > 0:\n",
        "            print(f\"{indent}   Tipos internos: {[type(e) for e in x]}\")\n",
        "            # introspecção recursiva (um nível a mais)\n",
        "            for i, e in enumerate(x):\n",
        "                debug_var(e, name=f\"{name}[{i}]\", level=level+1)\n",
        "\n",
        "    # Dicionários\n",
        "    elif isinstance(x, dict):\n",
        "        print(f\"{indent}   Dicionário com {len(x)} pares\")\n",
        "        if len(x) > 0:\n",
        "            print(f\"{indent}   Tipos de chaves: {[type(k) for k in x.keys()]}\")\n",
        "            print(f\"{indent}   Tipos de valores: {[type(v) for v in x.values()]}\")\n",
        "            for k, v in x.items():\n",
        "                debug_var(v, name=f\"{name}[{repr(k)}]\", level=level+1)\n",
        "\n",
        "    # Objetos customizados\n",
        "    else:\n",
        "        print(f\"{indent}   Objeto da classe: {x.__class__.__name__}\")\n",
        "        print(f\"{indent}   Atributos disponíveis: {dir(x)}\")"
      ],
      "metadata": {
        "id": "aHi-Yv76tFsh"
      },
      "execution_count": 5,
      "outputs": []
    },
    {
      "cell_type": "code",
      "source": [
        "# Exemplo 1: número simples\n",
        "debug_var(42, \"idade\")\n",
        "\n",
        "# Exemplo 2: lista aninhada\n",
        "dados = [1, [2, 3], {\"a\": 4, \"b\": [5, 6]}]\n",
        "debug_var(dados, \"dados\")\n",
        "\n",
        "# Exemplo 3: dicionário simples\n",
        "info = {\"nome\": \"Ana\", \"idade\": 30}\n",
        "debug_var(info, \"info\")\n",
        "\n",
        "# Exemplo 4: objeto customizado\n",
        "class Pessoa:\n",
        "    def __init__(self, nome, idade):\n",
        "        self.nome = nome\n",
        "        self.idade = idade\n",
        "\n",
        "p = Pessoa(\"João\", 25)\n",
        "debug_var(p, \"pessoa\")"
      ],
      "metadata": {
        "colab": {
          "base_uri": "https://localhost:8080/"
        },
        "id": "mtYkGUT1tH0Q",
        "outputId": "2851b28b-35e6-4be9-828d-ead6117c4c9e"
      },
      "execution_count": 6,
      "outputs": [
        {
          "output_type": "stream",
          "name": "stdout",
          "text": [
            " idade -> type: <class 'int'>, id: 11643400\n",
            "   Valor direto: 42\n",
            " dados -> type: <class 'list'>, id: 137409060453568\n",
            "   Estrutura list com 3 elementos\n",
            "   Tipos internos: [<class 'int'>, <class 'list'>, <class 'dict'>]\n",
            "    dados[0] -> type: <class 'int'>, id: 11642088\n",
            "      Valor direto: 1\n",
            "    dados[1] -> type: <class 'list'>, id: 137409063290944\n",
            "      Estrutura list com 2 elementos\n",
            "      Tipos internos: [<class 'int'>, <class 'int'>]\n",
            "       dados[1][0] -> type: <class 'int'>, id: 11642120\n",
            "         Valor direto: 2\n",
            "       dados[1][1] -> type: <class 'int'>, id: 11642152\n",
            "         Valor direto: 3\n",
            "    dados[2] -> type: <class 'dict'>, id: 137409060547200\n",
            "      Dicionário com 2 pares\n",
            "      Tipos de chaves: [<class 'str'>, <class 'str'>]\n",
            "      Tipos de valores: [<class 'int'>, <class 'list'>]\n",
            "       dados[2]['a'] -> type: <class 'int'>, id: 11642184\n",
            "         Valor direto: 4\n",
            "       dados[2]['b'] -> type: <class 'list'>, id: 137409060447104\n",
            "         Estrutura list com 2 elementos\n",
            "         Tipos internos: [<class 'int'>, <class 'int'>]\n",
            "          dados[2]['b'][0] -> type: <class 'int'>, id: 11642216\n",
            "            Valor direto: 5\n",
            "          dados[2]['b'][1] -> type: <class 'int'>, id: 11642248\n",
            "            Valor direto: 6\n",
            " info -> type: <class 'dict'>, id: 137409060547456\n",
            "   Dicionário com 2 pares\n",
            "   Tipos de chaves: [<class 'str'>, <class 'str'>]\n",
            "   Tipos de valores: [<class 'str'>, <class 'int'>]\n",
            "    info['nome'] -> type: <class 'str'>, id: 137409060260048\n",
            "      Valor direto: 'Ana'\n",
            "    info['idade'] -> type: <class 'int'>, id: 11643016\n",
            "      Valor direto: 30\n",
            " pessoa -> type: <class '__main__.Pessoa'>, id: 137409060262528\n",
            "   Objeto da classe: Pessoa\n",
            "   Atributos disponíveis: ['__class__', '__delattr__', '__dict__', '__dir__', '__doc__', '__eq__', '__format__', '__ge__', '__getattribute__', '__getstate__', '__gt__', '__hash__', '__init__', '__init_subclass__', '__le__', '__lt__', '__module__', '__ne__', '__new__', '__reduce__', '__reduce_ex__', '__repr__', '__setattr__', '__sizeof__', '__str__', '__subclasshook__', '__weakref__', 'idade', 'nome']\n"
          ]
        }
      ]
    }
  ]
}