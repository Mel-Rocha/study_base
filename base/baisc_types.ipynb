{
  "nbformat": 4,
  "nbformat_minor": 0,
  "metadata": {
    "colab": {
      "provenance": [],
      "toc_visible": true
    },
    "kernelspec": {
      "name": "python3",
      "display_name": "Python 3"
    },
    "language_info": {
      "name": "python"
    }
  },
  "cells": [
    {
      "cell_type": "markdown",
      "source": [
        "# Tipos básicos"
      ],
      "metadata": {
        "id": "tMtBSRNjhYtZ"
      }
    },
    {
      "cell_type": "code",
      "execution_count": 1,
      "metadata": {
        "colab": {
          "base_uri": "https://localhost:8080/"
        },
        "id": "fQUlYsa8g9vy",
        "outputId": "40bdb60a-9b5d-451e-b844-9f15a595f6b6"
      },
      "outputs": [
        {
          "output_type": "stream",
          "name": "stdout",
          "text": [
            "10 <class 'int'>\n",
            "3.14 <class 'float'>\n",
            "True <class 'bool'>\n",
            "Python <class 'str'>\n",
            "None <class 'NoneType'>\n"
          ]
        }
      ],
      "source": [
        "# =========================\n",
        "# 1. Tipos básicos\n",
        "# =========================\n",
        "\n",
        "# Números inteiros\n",
        "x = 10\n",
        "print(x, type(x))\n",
        "\n",
        "# Números decimais\n",
        "y = 3.14\n",
        "print(y, type(y))\n",
        "\n",
        "# Booleanos\n",
        "flag = True\n",
        "print(flag, type(flag))\n",
        "\n",
        "# Strings\n",
        "name = \"Python\"\n",
        "print(name, type(name))\n",
        "\n",
        "# None (ausência de valor)\n",
        "nada = None\n",
        "print(nada, type(nada))\n"
      ]
    },
    {
      "cell_type": "markdown",
      "source": [
        "# Operadores aritméticos"
      ],
      "metadata": {
        "id": "sMYWLOJZhc_p"
      }
    },
    {
      "cell_type": "code",
      "source": [
        "# =========================\n",
        "# 2. Operadores aritméticos\n",
        "# =========================\n",
        "\n",
        "a, b = 7, 3\n",
        "\n",
        "print(\"a + b =\", a + b)   # adição\n",
        "print(\"a - b =\", a - b)   # subtração\n",
        "print(\"a * b =\", a * b)   # multiplicação\n",
        "print(\"a / b =\", a / b)   # divisão com float\n",
        "print(\"a // b =\", a // b) # divisão inteira\n",
        "print(\"a % b =\", a % b)   # resto da divisão\n",
        "print(\"a ** b =\", a ** b) # potência"
      ],
      "metadata": {
        "colab": {
          "base_uri": "https://localhost:8080/"
        },
        "id": "Wuhmc6Q8hl2O",
        "outputId": "fae5ebcc-0bd1-47e3-914e-fa2fb0d00144"
      },
      "execution_count": 2,
      "outputs": [
        {
          "output_type": "stream",
          "name": "stdout",
          "text": [
            "a + b = 10\n",
            "a - b = 4\n",
            "a * b = 21\n",
            "a / b = 2.3333333333333335\n",
            "a // b = 2\n",
            "a % b = 1\n",
            "a ** b = 343\n"
          ]
        }
      ]
    },
    {
      "cell_type": "markdown",
      "source": [
        "# Operadores de comparação"
      ],
      "metadata": {
        "id": "09PaIpbPhYzZ"
      }
    },
    {
      "cell_type": "code",
      "source": [
        "# =========================\n",
        "# 3. Operadores de comparação\n",
        "# =========================\n",
        "\n",
        "print(5 == 5)   # igual\n",
        "print(5 != 3)   # diferente\n",
        "print(2 < 5)    # menor\n",
        "print(10 > 5)   # maior\n",
        "print(3 <= 3)   # menor ou igual\n",
        "print(8 >= 2)   # maior ou igual\n",
        "\n",
        "# Comparando strings (ordem lexicográfica)\n",
        "print(\"abc\" < \"abd\")"
      ],
      "metadata": {
        "colab": {
          "base_uri": "https://localhost:8080/"
        },
        "id": "4HoivlTGhwVK",
        "outputId": "bc9654ea-71f6-48df-9761-0caf4bdf0ff0"
      },
      "execution_count": 3,
      "outputs": [
        {
          "output_type": "stream",
          "name": "stdout",
          "text": [
            "True\n",
            "True\n",
            "True\n",
            "True\n",
            "True\n",
            "True\n",
            "True\n"
          ]
        }
      ]
    },
    {
      "cell_type": "markdown",
      "source": [
        "# Tabela Verdade"
      ],
      "metadata": {
        "id": "JSjs0lb_jFyc"
      }
    },
    {
      "cell_type": "markdown",
      "source": [
        "## and &&"
      ],
      "metadata": {
        "id": "5PgAf_uRjIYR"
      }
    },
    {
      "cell_type": "markdown",
      "source": [
        "\n",
        "\n",
        "```\n",
        "A     | B     | A and B\n",
        "True  | True  | ✅\n",
        "True  | False | ❌\n",
        "False | True  | ❌\n",
        "False | False | ❌\n",
        "```\n",
        "\n"
      ],
      "metadata": {
        "id": "3yf4eNfwjRaO"
      }
    },
    {
      "cell_type": "markdown",
      "source": [
        "## or |"
      ],
      "metadata": {
        "id": "LJWtYNwvjU86"
      }
    },
    {
      "cell_type": "markdown",
      "source": [
        "\n",
        "\n",
        "```\n",
        "OR (A or B)\n",
        "A     | B     | A or B\n",
        "True  | True  | ✅\n",
        "True  | False | ✅\n",
        "False | True  | ✅\n",
        "False | False | ❌\n",
        "```\n",
        "\n"
      ],
      "metadata": {
        "id": "AzC0bRmnjXdF"
      }
    },
    {
      "cell_type": "markdown",
      "source": [
        "## not !"
      ],
      "metadata": {
        "id": "K23itLnXjcqM"
      }
    },
    {
      "cell_type": "markdown",
      "source": [
        "\n",
        "\n",
        "```\n",
        "NOT (not A)\n",
        "A     | not A\n",
        "True  | ❌\n",
        "False | ✅\n",
        "```\n",
        "\n"
      ],
      "metadata": {
        "id": "qP1OazmNjeuA"
      }
    }
  ]
}