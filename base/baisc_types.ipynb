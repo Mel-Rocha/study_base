{
  "nbformat": 4,
  "nbformat_minor": 0,
  "metadata": {
    "colab": {
      "provenance": [],
      "toc_visible": true
    },
    "kernelspec": {
      "name": "python3",
      "display_name": "Python 3"
    },
    "language_info": {
      "name": "python"
    }
  },
  "cells": [
    {
      "cell_type": "markdown",
      "source": [
        "# Tipos básicos"
      ],
      "metadata": {
        "id": "tMtBSRNjhYtZ"
      }
    },
    {
      "cell_type": "code",
      "execution_count": 1,
      "metadata": {
        "colab": {
          "base_uri": "https://localhost:8080/"
        },
        "id": "fQUlYsa8g9vy",
        "outputId": "40bdb60a-9b5d-451e-b844-9f15a595f6b6"
      },
      "outputs": [
        {
          "output_type": "stream",
          "name": "stdout",
          "text": [
            "10 <class 'int'>\n",
            "3.14 <class 'float'>\n",
            "True <class 'bool'>\n",
            "Python <class 'str'>\n",
            "None <class 'NoneType'>\n"
          ]
        }
      ],
      "source": [
        "# =========================\n",
        "# 1. Tipos básicos\n",
        "# =========================\n",
        "\n",
        "# Números inteiros\n",
        "x = 10\n",
        "print(x, type(x))\n",
        "\n",
        "# Números decimais\n",
        "y = 3.14\n",
        "print(y, type(y))\n",
        "\n",
        "# Booleanos\n",
        "flag = True\n",
        "print(flag, type(flag))\n",
        "\n",
        "# Strings\n",
        "name = \"Python\"\n",
        "print(name, type(name))\n",
        "\n",
        "# None (ausência de valor)\n",
        "nada = None\n",
        "print(nada, type(nada))\n"
      ]
    },
    {
      "cell_type": "markdown",
      "source": [
        "# Ordem de Precedência"
      ],
      "metadata": {
        "id": "AIAZhLv8octZ"
      }
    },
    {
      "cell_type": "markdown",
      "source": [
        "\n",
        "\n",
        "```\n",
        "| Ordem | Operador / Categoria                         | Exemplos                        |\n",
        "|-------|----------------------------------------------|---------------------------------|\n",
        "| 1     | Parênteses                                   | (a + b) * c                     |\n",
        "| 2     | Exponenciação                                | **                               |\n",
        "| 3     | Sinais positivo / negativo                   | +x, -x, ~x                      |\n",
        "| 4     | Multiplicação, Divisão, Divisão inteira, Módulo | *, /, //, %                  |\n",
        "| 5     | Adição e Subtração                           | +, -                            |\n",
        "| 6     | Comparação                                   | ==, !=, >, <, >=, <=           |\n",
        "| 7     | Identidade                                   | is, is not                      |\n",
        "| 8     | Associação                                   | in, not in                      |\n",
        "| 9     | Lógico NOT                                   | not                             |\n",
        "| 10    | Lógico AND                                   | and                             |\n",
        "| 11    | Lógico OR                                    | or                              |\n",
        "\n",
        "```\n",
        "\n"
      ],
      "metadata": {
        "id": "8EqBzVDLofoV"
      }
    },
    {
      "cell_type": "markdown",
      "source": [
        "# Operadores aritméticos"
      ],
      "metadata": {
        "id": "sMYWLOJZhc_p"
      }
    },
    {
      "cell_type": "code",
      "source": [
        "# =========================\n",
        "# 2. Operadores aritméticos\n",
        "# =========================\n",
        "\n",
        "a, b = 7, 3\n",
        "\n",
        "print(\"a + b =\", a + b)   # adição\n",
        "print(\"a - b =\", a - b)   # subtração\n",
        "print(\"a * b =\", a * b)   # multiplicação\n",
        "print(\"a / b =\", a / b)   # divisão com float\n",
        "print(\"a // b =\", a // b) # divisão inteira\n",
        "print(\"a % b =\", a % b)   # resto da divisão\n",
        "print(\"a ** b =\", a ** b) # potência"
      ],
      "metadata": {
        "colab": {
          "base_uri": "https://localhost:8080/"
        },
        "id": "Wuhmc6Q8hl2O",
        "outputId": "fae5ebcc-0bd1-47e3-914e-fa2fb0d00144"
      },
      "execution_count": 2,
      "outputs": [
        {
          "output_type": "stream",
          "name": "stdout",
          "text": [
            "a + b = 10\n",
            "a - b = 4\n",
            "a * b = 21\n",
            "a / b = 2.3333333333333335\n",
            "a // b = 2\n",
            "a % b = 1\n",
            "a ** b = 343\n"
          ]
        }
      ]
    },
    {
      "cell_type": "markdown",
      "source": [
        "# Operadores de comparação"
      ],
      "metadata": {
        "id": "09PaIpbPhYzZ"
      }
    },
    {
      "cell_type": "code",
      "source": [
        "# =========================\n",
        "# 3. Operadores de comparação\n",
        "# =========================\n",
        "\n",
        "print(5 == 5)   # igual\n",
        "print(5 != 3)   # diferente\n",
        "print(2 < 5)    # menor\n",
        "print(10 > 5)   # maior\n",
        "print(3 <= 3)   # menor ou igual\n",
        "print(8 >= 2)   # maior ou igual\n",
        "\n",
        "# Comparando strings (ordem lexicográfica)\n",
        "print(\"abc\" < \"abd\")"
      ],
      "metadata": {
        "colab": {
          "base_uri": "https://localhost:8080/"
        },
        "id": "4HoivlTGhwVK",
        "outputId": "bc9654ea-71f6-48df-9761-0caf4bdf0ff0"
      },
      "execution_count": 3,
      "outputs": [
        {
          "output_type": "stream",
          "name": "stdout",
          "text": [
            "True\n",
            "True\n",
            "True\n",
            "True\n",
            "True\n",
            "True\n",
            "True\n"
          ]
        }
      ]
    },
    {
      "cell_type": "markdown",
      "source": [
        "# Operadores Lógicos"
      ],
      "metadata": {
        "id": "JSjs0lb_jFyc"
      }
    },
    {
      "cell_type": "markdown",
      "source": [
        "## Tabela Verdade"
      ],
      "metadata": {
        "id": "MvcviSHHmHKv"
      }
    },
    {
      "cell_type": "code",
      "source": [
        "# =========================\n",
        "# Tabela verdade operadores lógicos\n",
        "# =========================\n",
        "\n",
        "# AND\n",
        "print(\"AND\")\n",
        "print(True and True)    # True\n",
        "print(True and False)   # False\n",
        "print(False and True)   # False\n",
        "print(False and False)  # False\n",
        "print()\n",
        "\n",
        "# OR\n",
        "print(\"OR\")\n",
        "print(True or True)     # True\n",
        "print(True or False)    # True\n",
        "print(False or True)    # True\n",
        "print(False or False)   # False\n",
        "print()\n",
        "\n",
        "# NOT\n",
        "print(\"NOT\")\n",
        "print(not True)         # False\n",
        "print(not False)        # True\n",
        "print()\n",
        "\n",
        "# XOR\n",
        "print(\"XOR\")\n",
        "print(True ^ True)      # False\n",
        "print(True ^ False)     # True\n",
        "print(False ^ True)     # True\n",
        "print(False ^ False)    # False"
      ],
      "metadata": {
        "colab": {
          "base_uri": "https://localhost:8080/"
        },
        "id": "Tddqw_prmP0T",
        "outputId": "a7766c19-e4c8-476f-a958-d6bc1d75e16a"
      },
      "execution_count": 4,
      "outputs": [
        {
          "output_type": "stream",
          "name": "stdout",
          "text": [
            "AND\n",
            "True\n",
            "False\n",
            "False\n",
            "False\n",
            "\n",
            "OR\n",
            "True\n",
            "True\n",
            "True\n",
            "False\n",
            "\n",
            "NOT\n",
            "False\n",
            "True\n",
            "\n",
            "XOR\n",
            "False\n",
            "True\n",
            "True\n",
            "False\n"
          ]
        }
      ]
    },
    {
      "cell_type": "markdown",
      "source": [
        "## and &&"
      ],
      "metadata": {
        "id": "5PgAf_uRjIYR"
      }
    },
    {
      "cell_type": "markdown",
      "source": [
        "retorna True se ambos os operandos forem True.\n",
        "\n",
        "```\n",
        "A     | B     | A and B\n",
        "True  | True  | ✅\n",
        "True  | False | ❌\n",
        "False | True  | ❌\n",
        "False | False | ❌\n",
        "```\n",
        "\n"
      ],
      "metadata": {
        "id": "3yf4eNfwjRaO"
      }
    },
    {
      "cell_type": "markdown",
      "source": [
        "## or |"
      ],
      "metadata": {
        "id": "LJWtYNwvjU86"
      }
    },
    {
      "cell_type": "markdown",
      "source": [
        "\n",
        "unário, inverte o valor lógico.\n",
        "\n",
        "```\n",
        "OR (A or B)\n",
        "A     | B     | A or B\n",
        "True  | True  | ✅\n",
        "True  | False | ✅\n",
        "False | True  | ✅\n",
        "False | False | **❌**\n",
        "```\n",
        "\n"
      ],
      "metadata": {
        "id": "AzC0bRmnjXdF"
      }
    },
    {
      "cell_type": "markdown",
      "source": [
        "## not !"
      ],
      "metadata": {
        "id": "K23itLnXjcqM"
      }
    },
    {
      "cell_type": "markdown",
      "source": [
        "unário, inverte o valor lógico.\n",
        "\n",
        "```\n",
        "NOT (not A)\n",
        "A     | not A\n",
        "True  | ❌\n",
        "False | ✅\n",
        "```\n",
        "\n"
      ],
      "metadata": {
        "id": "qP1OazmNjeuA"
      }
    },
    {
      "cell_type": "markdown",
      "source": [
        "## xor ^"
      ],
      "metadata": {
        "id": "vKcui9aWk8Ug"
      }
    },
    {
      "cell_type": "markdown",
      "source": [
        "\n",
        "exclusivo, retorna True se apenas um dos operandos for True.\n",
        "\n",
        "```\n",
        "A     | B     | A ^ B\n",
        "True  | True  | ❌\n",
        "True  | False | ✅\n",
        "False | True  | ✅\n",
        "False | False | ❌\n",
        "```\n",
        "\n"
      ],
      "metadata": {
        "id": "28JqI7Z4k-i_"
      }
    },
    {
      "cell_type": "markdown",
      "source": [
        "# Operadores de identidade"
      ],
      "metadata": {
        "id": "mUSH-9HBmgSO"
      }
    },
    {
      "cell_type": "markdown",
      "source": [
        "Operadores de Identidade (is / is not)\n",
        "\n",
        "Verificam se duas variáveis apontam para o mesmo objeto na memória.\n",
        "\n",
        "Diferente de ==, que compara valores.\n",
        "\n",
        "is → verdadeiro se as variáveis compartilham o mesmo objeto.\n",
        "\n",
        "is not → verdadeiro se as variáveis são objetos diferentes.\n",
        "\n",
        "Uso comum: checagem de None (x is None)."
      ],
      "metadata": {
        "id": "4viKayaMnnI_"
      }
    },
    {
      "cell_type": "code",
      "source": [
        "# =========================\n",
        "# 5. Operadores de identidade\n",
        "# =========================\n",
        "\n",
        "x = [1, 2, 3]\n",
        "y = x\n",
        "z = [1, 2, 3]\n",
        "\n",
        "print(x == y)   # True (mesmos valores)\n",
        "print(x is y)   # True (mesmo objeto na memória)\n",
        "print(x == z)   # True (valores iguais)\n",
        "print(x is z)   # False (objetos diferentes)\n",
        "\n",
        "# Exemplo comum: checar None\n",
        "value = None\n",
        "print(value is None)\n",
        "print(value is not None)"
      ],
      "metadata": {
        "colab": {
          "base_uri": "https://localhost:8080/"
        },
        "id": "D2JA2kC8mju3",
        "outputId": "5f28d1b3-b9dc-445b-a11f-a5a30c98fc7e"
      },
      "execution_count": 5,
      "outputs": [
        {
          "output_type": "stream",
          "name": "stdout",
          "text": [
            "True\n",
            "True\n",
            "True\n",
            "False\n",
            "True\n",
            "False\n"
          ]
        }
      ]
    },
    {
      "cell_type": "markdown",
      "source": [
        "# Operadores de associação"
      ],
      "metadata": {
        "id": "CKoDVY7an4lT"
      }
    },
    {
      "cell_type": "code",
      "source": [
        "# =========================\n",
        "# 6. Operadores de associação\n",
        "# =========================\n",
        "\n",
        "lista = [1, 2, 3, 4]\n",
        "print(2 in lista)      # True\n",
        "print(10 in lista)     # False\n",
        "print(10 not in lista) # True\n",
        "\n",
        "texto = \"Python\"\n",
        "print(\"Py\" in texto)    # True\n",
        "print(\"Java\" not in texto) # True\n",
        "\n",
        "dicionario = {\"a\": 1, \"b\": 2}\n",
        "print(\"a\" in dicionario)   # True (checa chave)\n",
        "print(1 in dicionario.values()) # True"
      ],
      "metadata": {
        "colab": {
          "base_uri": "https://localhost:8080/"
        },
        "id": "a__WhqO3n6HO",
        "outputId": "4b6309f5-5f55-4c4c-c85c-4544f155a025"
      },
      "execution_count": 6,
      "outputs": [
        {
          "output_type": "stream",
          "name": "stdout",
          "text": [
            "True\n",
            "False\n",
            "True\n",
            "True\n",
            "True\n",
            "True\n",
            "True\n"
          ]
        }
      ]
    }
  ]
}